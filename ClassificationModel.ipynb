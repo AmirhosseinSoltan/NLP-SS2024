{
 "cells": [
  {
   "cell_type": "code",
   "execution_count": 1,
   "id": "78ed9739-828e-46fc-88ed-b786eb68951c",
   "metadata": {},
   "outputs": [
    {
     "name": "stderr",
     "output_type": "stream",
     "text": [
      "2024-06-24 13:56:01.564171: I tensorflow/core/util/port.cc:113] oneDNN custom operations are on. You may see slightly different numerical results due to floating-point round-off errors from different computation orders. To turn them off, set the environment variable `TF_ENABLE_ONEDNN_OPTS=0`.\n",
      "2024-06-24 13:56:01.608872: I tensorflow/core/platform/cpu_feature_guard.cc:210] This TensorFlow binary is optimized to use available CPU instructions in performance-critical operations.\n",
      "To enable the following instructions: AVX2 AVX512F AVX512_VNNI AVX512_BF16 FMA, in other operations, rebuild TensorFlow with the appropriate compiler flags.\n",
      "2024-06-24 13:56:02.259616: W tensorflow/compiler/tf2tensorrt/utils/py_utils.cc:38] TF-TRT Warning: Could not find TensorRT\n"
     ]
    }
   ],
   "source": [
    "import pandas as pd\n",
    "import matplotlib.pyplot as plt\n",
    "import numpy as np\n",
    "import math\n",
    "import keras\n",
    "from keras.optimizers import Adam\n",
    "from keras.models import Sequential\n",
    "from keras.layers import Dense, Dropout,BatchNormalization, Activation\n",
    "from keras.initializers import glorot_uniform\n",
    "from keras.callbacks import LearningRateScheduler, EarlyStopping\n",
    "from keras.regularizers import l2\n",
    "from sklearn.model_selection import train_test_split\n",
    "from sklearn.metrics import accuracy_score, classification_report, precision_recall_fscore_support\n",
    "from sklearn.linear_model import LogisticRegression\n",
    "from sklearn.multiclass import OneVsRestClassifier\n",
    "from sklearn.svm import SVC\n",
    "import lightgbm as lgb"
   ]
  },
  {
   "cell_type": "code",
   "execution_count": 2,
   "id": "416aa5f8-98e9-469a-8980-4d6d62df4291",
   "metadata": {},
   "outputs": [],
   "source": [
    "y_train = pd.read_csv('../Dataset_MovieSummaries/y_train1.csv')\n",
    "y_train.drop('Unnamed: 0', axis=1, inplace=True)\n",
    "x_train = pd.read_csv('../Dataset_MovieSummaries/X_train1.csv')\n",
    "x_train.drop('Unnamed: 0', axis=1, inplace=True)\n",
    "y_test = pd.read_csv('../Dataset_MovieSummaries/y_test1.csv')\n",
    "y_test.drop('Unnamed: 0', axis=1, inplace=True)\n",
    "x_test = pd.read_csv('../Dataset_MovieSummaries/X_test1.csv')\n",
    "x_test.drop('Unnamed: 0', axis=1, inplace=True)"
   ]
  },
  {
   "cell_type": "code",
   "execution_count": 3,
   "id": "5ad7bb7e-143a-42c2-a5a4-fd3e4c8ab4a5",
   "metadata": {},
   "outputs": [],
   "source": [
    "x_train, x_val, y_train, y_val = train_test_split(x_train, y_train, test_size=0.2, random_state=42)"
   ]
  },
  {
   "cell_type": "code",
   "execution_count": 4,
   "id": "edcf789d-0b4c-4274-b302-7f27d70afa32",
   "metadata": {},
   "outputs": [],
   "source": [
    "x_train.reset_index(drop = True, inplace = True)\n",
    "y_train.reset_index(drop = True, inplace = True)\n",
    "x_val.reset_index(drop = True, inplace = True)\n",
    "y_val.reset_index(drop = True, inplace = True)\n",
    "x_test.reset_index(drop = True, inplace = True)\n",
    "y_test.reset_index(drop = True, inplace = True)"
   ]
  },
  {
   "cell_type": "code",
   "execution_count": 5,
   "id": "2bb311da-4153-450f-bcc7-75a336a015a5",
   "metadata": {},
   "outputs": [],
   "source": [
    "\n",
    "precision = {}\n",
    "recall= {}\n",
    "f1={}"
   ]
  },
  {
   "cell_type": "markdown",
   "id": "77f14daa-98ee-43aa-86db-3fec923dcb67",
   "metadata": {},
   "source": [
    "## Deep learning"
   ]
  },
  {
   "cell_type": "code",
   "execution_count": 6,
   "id": "3005c82b-9baa-4e73-b734-7b3ded01556e",
   "metadata": {},
   "outputs": [
    {
     "name": "stderr",
     "output_type": "stream",
     "text": [
      "2024-06-24 13:56:04.048924: E external/local_xla/xla/stream_executor/cuda/cuda_driver.cc:282] failed call to cuInit: CUDA_ERROR_NO_DEVICE: no CUDA-capable device is detected\n",
      "/home/asolta2s/myenv/lib/python3.9/site-packages/keras/src/layers/core/dense.py:87: UserWarning: Do not pass an `input_shape`/`input_dim` argument to a layer. When using Sequential models, prefer using an `Input(shape)` object as the first layer in the model instead.\n",
      "  super().__init__(activity_regularizer=activity_regularizer, **kwargs)\n"
     ]
    },
    {
     "data": {
      "text/html": [
       "<pre style=\"white-space:pre;overflow-x:auto;line-height:normal;font-family:Menlo,'DejaVu Sans Mono',consolas,'Courier New',monospace\"><span style=\"font-weight: bold\">Model: \"sequential\"</span>\n",
       "</pre>\n"
      ],
      "text/plain": [
       "\u001b[1mModel: \"sequential\"\u001b[0m\n"
      ]
     },
     "metadata": {},
     "output_type": "display_data"
    },
    {
     "data": {
      "text/html": [
       "<pre style=\"white-space:pre;overflow-x:auto;line-height:normal;font-family:Menlo,'DejaVu Sans Mono',consolas,'Courier New',monospace\">┏━━━━━━━━━━━━━━━━━━━━━━━━━━━━━━━━━┳━━━━━━━━━━━━━━━━━━━━━━━━┳━━━━━━━━━━━━━━━┓\n",
       "┃<span style=\"font-weight: bold\"> Layer (type)                    </span>┃<span style=\"font-weight: bold\"> Output Shape           </span>┃<span style=\"font-weight: bold\">       Param # </span>┃\n",
       "┡━━━━━━━━━━━━━━━━━━━━━━━━━━━━━━━━━╇━━━━━━━━━━━━━━━━━━━━━━━━╇━━━━━━━━━━━━━━━┩\n",
       "│ dense (<span style=\"color: #0087ff; text-decoration-color: #0087ff\">Dense</span>)                   │ (<span style=\"color: #00d7ff; text-decoration-color: #00d7ff\">None</span>, <span style=\"color: #00af00; text-decoration-color: #00af00\">512</span>)            │       <span style=\"color: #00af00; text-decoration-color: #00af00\">512,512</span> │\n",
       "├─────────────────────────────────┼────────────────────────┼───────────────┤\n",
       "│ batch_normalization             │ (<span style=\"color: #00d7ff; text-decoration-color: #00d7ff\">None</span>, <span style=\"color: #00af00; text-decoration-color: #00af00\">512</span>)            │         <span style=\"color: #00af00; text-decoration-color: #00af00\">2,048</span> │\n",
       "│ (<span style=\"color: #0087ff; text-decoration-color: #0087ff\">BatchNormalization</span>)            │                        │               │\n",
       "├─────────────────────────────────┼────────────────────────┼───────────────┤\n",
       "│ activation (<span style=\"color: #0087ff; text-decoration-color: #0087ff\">Activation</span>)         │ (<span style=\"color: #00d7ff; text-decoration-color: #00d7ff\">None</span>, <span style=\"color: #00af00; text-decoration-color: #00af00\">512</span>)            │             <span style=\"color: #00af00; text-decoration-color: #00af00\">0</span> │\n",
       "├─────────────────────────────────┼────────────────────────┼───────────────┤\n",
       "│ dropout (<span style=\"color: #0087ff; text-decoration-color: #0087ff\">Dropout</span>)               │ (<span style=\"color: #00d7ff; text-decoration-color: #00d7ff\">None</span>, <span style=\"color: #00af00; text-decoration-color: #00af00\">512</span>)            │             <span style=\"color: #00af00; text-decoration-color: #00af00\">0</span> │\n",
       "├─────────────────────────────────┼────────────────────────┼───────────────┤\n",
       "│ dense_1 (<span style=\"color: #0087ff; text-decoration-color: #0087ff\">Dense</span>)                 │ (<span style=\"color: #00d7ff; text-decoration-color: #00d7ff\">None</span>, <span style=\"color: #00af00; text-decoration-color: #00af00\">128</span>)            │        <span style=\"color: #00af00; text-decoration-color: #00af00\">65,664</span> │\n",
       "├─────────────────────────────────┼────────────────────────┼───────────────┤\n",
       "│ batch_normalization_1           │ (<span style=\"color: #00d7ff; text-decoration-color: #00d7ff\">None</span>, <span style=\"color: #00af00; text-decoration-color: #00af00\">128</span>)            │           <span style=\"color: #00af00; text-decoration-color: #00af00\">512</span> │\n",
       "│ (<span style=\"color: #0087ff; text-decoration-color: #0087ff\">BatchNormalization</span>)            │                        │               │\n",
       "├─────────────────────────────────┼────────────────────────┼───────────────┤\n",
       "│ activation_1 (<span style=\"color: #0087ff; text-decoration-color: #0087ff\">Activation</span>)       │ (<span style=\"color: #00d7ff; text-decoration-color: #00d7ff\">None</span>, <span style=\"color: #00af00; text-decoration-color: #00af00\">128</span>)            │             <span style=\"color: #00af00; text-decoration-color: #00af00\">0</span> │\n",
       "├─────────────────────────────────┼────────────────────────┼───────────────┤\n",
       "│ dropout_1 (<span style=\"color: #0087ff; text-decoration-color: #0087ff\">Dropout</span>)             │ (<span style=\"color: #00d7ff; text-decoration-color: #00d7ff\">None</span>, <span style=\"color: #00af00; text-decoration-color: #00af00\">128</span>)            │             <span style=\"color: #00af00; text-decoration-color: #00af00\">0</span> │\n",
       "├─────────────────────────────────┼────────────────────────┼───────────────┤\n",
       "│ dense_2 (<span style=\"color: #0087ff; text-decoration-color: #0087ff\">Dense</span>)                 │ (<span style=\"color: #00d7ff; text-decoration-color: #00d7ff\">None</span>, <span style=\"color: #00af00; text-decoration-color: #00af00\">64</span>)             │         <span style=\"color: #00af00; text-decoration-color: #00af00\">8,256</span> │\n",
       "├─────────────────────────────────┼────────────────────────┼───────────────┤\n",
       "│ batch_normalization_2           │ (<span style=\"color: #00d7ff; text-decoration-color: #00d7ff\">None</span>, <span style=\"color: #00af00; text-decoration-color: #00af00\">64</span>)             │           <span style=\"color: #00af00; text-decoration-color: #00af00\">256</span> │\n",
       "│ (<span style=\"color: #0087ff; text-decoration-color: #0087ff\">BatchNormalization</span>)            │                        │               │\n",
       "├─────────────────────────────────┼────────────────────────┼───────────────┤\n",
       "│ activation_2 (<span style=\"color: #0087ff; text-decoration-color: #0087ff\">Activation</span>)       │ (<span style=\"color: #00d7ff; text-decoration-color: #00d7ff\">None</span>, <span style=\"color: #00af00; text-decoration-color: #00af00\">64</span>)             │             <span style=\"color: #00af00; text-decoration-color: #00af00\">0</span> │\n",
       "├─────────────────────────────────┼────────────────────────┼───────────────┤\n",
       "│ dropout_2 (<span style=\"color: #0087ff; text-decoration-color: #0087ff\">Dropout</span>)             │ (<span style=\"color: #00d7ff; text-decoration-color: #00d7ff\">None</span>, <span style=\"color: #00af00; text-decoration-color: #00af00\">64</span>)             │             <span style=\"color: #00af00; text-decoration-color: #00af00\">0</span> │\n",
       "├─────────────────────────────────┼────────────────────────┼───────────────┤\n",
       "│ dense_3 (<span style=\"color: #0087ff; text-decoration-color: #0087ff\">Dense</span>)                 │ (<span style=\"color: #00d7ff; text-decoration-color: #00d7ff\">None</span>, <span style=\"color: #00af00; text-decoration-color: #00af00\">12</span>)             │           <span style=\"color: #00af00; text-decoration-color: #00af00\">780</span> │\n",
       "└─────────────────────────────────┴────────────────────────┴───────────────┘\n",
       "</pre>\n"
      ],
      "text/plain": [
       "┏━━━━━━━━━━━━━━━━━━━━━━━━━━━━━━━━━┳━━━━━━━━━━━━━━━━━━━━━━━━┳━━━━━━━━━━━━━━━┓\n",
       "┃\u001b[1m \u001b[0m\u001b[1mLayer (type)                   \u001b[0m\u001b[1m \u001b[0m┃\u001b[1m \u001b[0m\u001b[1mOutput Shape          \u001b[0m\u001b[1m \u001b[0m┃\u001b[1m \u001b[0m\u001b[1m      Param #\u001b[0m\u001b[1m \u001b[0m┃\n",
       "┡━━━━━━━━━━━━━━━━━━━━━━━━━━━━━━━━━╇━━━━━━━━━━━━━━━━━━━━━━━━╇━━━━━━━━━━━━━━━┩\n",
       "│ dense (\u001b[38;5;33mDense\u001b[0m)                   │ (\u001b[38;5;45mNone\u001b[0m, \u001b[38;5;34m512\u001b[0m)            │       \u001b[38;5;34m512,512\u001b[0m │\n",
       "├─────────────────────────────────┼────────────────────────┼───────────────┤\n",
       "│ batch_normalization             │ (\u001b[38;5;45mNone\u001b[0m, \u001b[38;5;34m512\u001b[0m)            │         \u001b[38;5;34m2,048\u001b[0m │\n",
       "│ (\u001b[38;5;33mBatchNormalization\u001b[0m)            │                        │               │\n",
       "├─────────────────────────────────┼────────────────────────┼───────────────┤\n",
       "│ activation (\u001b[38;5;33mActivation\u001b[0m)         │ (\u001b[38;5;45mNone\u001b[0m, \u001b[38;5;34m512\u001b[0m)            │             \u001b[38;5;34m0\u001b[0m │\n",
       "├─────────────────────────────────┼────────────────────────┼───────────────┤\n",
       "│ dropout (\u001b[38;5;33mDropout\u001b[0m)               │ (\u001b[38;5;45mNone\u001b[0m, \u001b[38;5;34m512\u001b[0m)            │             \u001b[38;5;34m0\u001b[0m │\n",
       "├─────────────────────────────────┼────────────────────────┼───────────────┤\n",
       "│ dense_1 (\u001b[38;5;33mDense\u001b[0m)                 │ (\u001b[38;5;45mNone\u001b[0m, \u001b[38;5;34m128\u001b[0m)            │        \u001b[38;5;34m65,664\u001b[0m │\n",
       "├─────────────────────────────────┼────────────────────────┼───────────────┤\n",
       "│ batch_normalization_1           │ (\u001b[38;5;45mNone\u001b[0m, \u001b[38;5;34m128\u001b[0m)            │           \u001b[38;5;34m512\u001b[0m │\n",
       "│ (\u001b[38;5;33mBatchNormalization\u001b[0m)            │                        │               │\n",
       "├─────────────────────────────────┼────────────────────────┼───────────────┤\n",
       "│ activation_1 (\u001b[38;5;33mActivation\u001b[0m)       │ (\u001b[38;5;45mNone\u001b[0m, \u001b[38;5;34m128\u001b[0m)            │             \u001b[38;5;34m0\u001b[0m │\n",
       "├─────────────────────────────────┼────────────────────────┼───────────────┤\n",
       "│ dropout_1 (\u001b[38;5;33mDropout\u001b[0m)             │ (\u001b[38;5;45mNone\u001b[0m, \u001b[38;5;34m128\u001b[0m)            │             \u001b[38;5;34m0\u001b[0m │\n",
       "├─────────────────────────────────┼────────────────────────┼───────────────┤\n",
       "│ dense_2 (\u001b[38;5;33mDense\u001b[0m)                 │ (\u001b[38;5;45mNone\u001b[0m, \u001b[38;5;34m64\u001b[0m)             │         \u001b[38;5;34m8,256\u001b[0m │\n",
       "├─────────────────────────────────┼────────────────────────┼───────────────┤\n",
       "│ batch_normalization_2           │ (\u001b[38;5;45mNone\u001b[0m, \u001b[38;5;34m64\u001b[0m)             │           \u001b[38;5;34m256\u001b[0m │\n",
       "│ (\u001b[38;5;33mBatchNormalization\u001b[0m)            │                        │               │\n",
       "├─────────────────────────────────┼────────────────────────┼───────────────┤\n",
       "│ activation_2 (\u001b[38;5;33mActivation\u001b[0m)       │ (\u001b[38;5;45mNone\u001b[0m, \u001b[38;5;34m64\u001b[0m)             │             \u001b[38;5;34m0\u001b[0m │\n",
       "├─────────────────────────────────┼────────────────────────┼───────────────┤\n",
       "│ dropout_2 (\u001b[38;5;33mDropout\u001b[0m)             │ (\u001b[38;5;45mNone\u001b[0m, \u001b[38;5;34m64\u001b[0m)             │             \u001b[38;5;34m0\u001b[0m │\n",
       "├─────────────────────────────────┼────────────────────────┼───────────────┤\n",
       "│ dense_3 (\u001b[38;5;33mDense\u001b[0m)                 │ (\u001b[38;5;45mNone\u001b[0m, \u001b[38;5;34m12\u001b[0m)             │           \u001b[38;5;34m780\u001b[0m │\n",
       "└─────────────────────────────────┴────────────────────────┴───────────────┘\n"
      ]
     },
     "metadata": {},
     "output_type": "display_data"
    },
    {
     "data": {
      "text/html": [
       "<pre style=\"white-space:pre;overflow-x:auto;line-height:normal;font-family:Menlo,'DejaVu Sans Mono',consolas,'Courier New',monospace\"><span style=\"font-weight: bold\"> Total params: </span><span style=\"color: #00af00; text-decoration-color: #00af00\">590,028</span> (2.25 MB)\n",
       "</pre>\n"
      ],
      "text/plain": [
       "\u001b[1m Total params: \u001b[0m\u001b[38;5;34m590,028\u001b[0m (2.25 MB)\n"
      ]
     },
     "metadata": {},
     "output_type": "display_data"
    },
    {
     "data": {
      "text/html": [
       "<pre style=\"white-space:pre;overflow-x:auto;line-height:normal;font-family:Menlo,'DejaVu Sans Mono',consolas,'Courier New',monospace\"><span style=\"font-weight: bold\"> Trainable params: </span><span style=\"color: #00af00; text-decoration-color: #00af00\">588,620</span> (2.25 MB)\n",
       "</pre>\n"
      ],
      "text/plain": [
       "\u001b[1m Trainable params: \u001b[0m\u001b[38;5;34m588,620\u001b[0m (2.25 MB)\n"
      ]
     },
     "metadata": {},
     "output_type": "display_data"
    },
    {
     "data": {
      "text/html": [
       "<pre style=\"white-space:pre;overflow-x:auto;line-height:normal;font-family:Menlo,'DejaVu Sans Mono',consolas,'Courier New',monospace\"><span style=\"font-weight: bold\"> Non-trainable params: </span><span style=\"color: #00af00; text-decoration-color: #00af00\">1,408</span> (5.50 KB)\n",
       "</pre>\n"
      ],
      "text/plain": [
       "\u001b[1m Non-trainable params: \u001b[0m\u001b[38;5;34m1,408\u001b[0m (5.50 KB)\n"
      ]
     },
     "metadata": {},
     "output_type": "display_data"
    }
   ],
   "source": [
    "\n",
    "def step_decay_schedule(initial_lr=0.001, decay_factor=0.5, step_size=10):\n",
    "    def schedule(epoch):\n",
    "        return max(initial_lr * math.pow(decay_factor, math.floor((1+epoch)/step_size)), 0.000001)\n",
    "    return LearningRateScheduler(schedule)\n",
    "    \n",
    "learning_rate = 0.0001  # Adjust this value as needed\n",
    "optimizer = Adam(learning_rate=learning_rate)\n",
    "# Define the model\n",
    "model = Sequential()\n",
    "model.add(Dense(512, input_shape=(x_train.shape[1],), kernel_initializer=glorot_uniform(),kernel_regularizer=l2(0.05)))\n",
    "model.add(BatchNormalization())\n",
    "model.add(Activation('relu'))\n",
    "model.add(Dropout(0.5))\n",
    "model.add(Dense(128, kernel_initializer=glorot_uniform(),kernel_regularizer=l2(0.05)))\n",
    "model.add(BatchNormalization())\n",
    "model.add(Activation('relu'))\n",
    "model.add(Dropout(0.5))\n",
    "model.add(Dense(64, kernel_initializer=glorot_uniform(),kernel_regularizer=l2(0.05)))\n",
    "model.add(BatchNormalization())\n",
    "model.add(Activation('relu'))\n",
    "model.add(Dropout(0.5))\n",
    "model.add(Dense(y_train.shape[1], activation='sigmoid'))  # Output layer with softmax activation for multiclass classification\n",
    "\n",
    "# Compile the model\n",
    "model.compile(loss='binary_crossentropy', optimizer=optimizer, metrics=['accuracy'])\n",
    "\n",
    "# Print model summary\n",
    "model.summary()"
   ]
  },
  {
   "cell_type": "code",
   "execution_count": 7,
   "id": "3c8a82ad-3576-4935-b7c3-7d49a61e2388",
   "metadata": {
    "scrolled": true
   },
   "outputs": [
    {
     "name": "stdout",
     "output_type": "stream",
     "text": [
      "Epoch 1/200\n",
      "\u001b[1m131/131\u001b[0m \u001b[32m━━━━━━━━━━━━━━━━━━━━\u001b[0m\u001b[37m\u001b[0m \u001b[1m2s\u001b[0m 6ms/step - accuracy: 0.0849 - loss: 43.5319 - val_accuracy: 0.0187 - val_loss: 29.3327 - learning_rate: 1.0000e-04\n",
      "Epoch 2/200\n",
      "\u001b[1m131/131\u001b[0m \u001b[32m━━━━━━━━━━━━━━━━━━━━\u001b[0m\u001b[37m\u001b[0m \u001b[1m1s\u001b[0m 6ms/step - accuracy: 0.0876 - loss: 26.0932 - val_accuracy: 0.0464 - val_loss: 17.6524 - learning_rate: 1.0000e-04\n",
      "Epoch 3/200\n",
      "\u001b[1m131/131\u001b[0m \u001b[32m━━━━━━━━━━━━━━━━━━━━\u001b[0m\u001b[37m\u001b[0m \u001b[1m1s\u001b[0m 6ms/step - accuracy: 0.1065 - loss: 15.7603 - val_accuracy: 0.0651 - val_loss: 10.8014 - learning_rate: 1.0000e-04\n",
      "Epoch 4/200\n",
      "\u001b[1m131/131\u001b[0m \u001b[32m━━━━━━━━━━━━━━━━━━━━\u001b[0m\u001b[37m\u001b[0m \u001b[1m1s\u001b[0m 6ms/step - accuracy: 0.1178 - loss: 9.7121 - val_accuracy: 0.0890 - val_loss: 6.8224 - learning_rate: 1.0000e-04\n",
      "Epoch 5/200\n",
      "\u001b[1m131/131\u001b[0m \u001b[32m━━━━━━━━━━━━━━━━━━━━\u001b[0m\u001b[37m\u001b[0m \u001b[1m1s\u001b[0m 6ms/step - accuracy: 0.1392 - loss: 6.1878 - val_accuracy: 0.1269 - val_loss: 4.4993 - learning_rate: 1.0000e-04\n",
      "Epoch 6/200\n",
      "\u001b[1m131/131\u001b[0m \u001b[32m━━━━━━━━━━━━━━━━━━━━\u001b[0m\u001b[37m\u001b[0m \u001b[1m1s\u001b[0m 6ms/step - accuracy: 0.1692 - loss: 4.1200 - val_accuracy: 0.1886 - val_loss: 3.1102 - learning_rate: 1.0000e-04\n",
      "Epoch 7/200\n",
      "\u001b[1m131/131\u001b[0m \u001b[32m━━━━━━━━━━━━━━━━━━━━\u001b[0m\u001b[37m\u001b[0m \u001b[1m1s\u001b[0m 6ms/step - accuracy: 0.1985 - loss: 2.8716 - val_accuracy: 0.2422 - val_loss: 2.2447 - learning_rate: 1.0000e-04\n",
      "Epoch 8/200\n",
      "\u001b[1m131/131\u001b[0m \u001b[32m━━━━━━━━━━━━━━━━━━━━\u001b[0m\u001b[37m\u001b[0m \u001b[1m1s\u001b[0m 6ms/step - accuracy: 0.2280 - loss: 2.0931 - val_accuracy: 0.2719 - val_loss: 1.6804 - learning_rate: 1.0000e-04\n",
      "Epoch 9/200\n",
      "\u001b[1m131/131\u001b[0m \u001b[32m━━━━━━━━━━━━━━━━━━━━\u001b[0m\u001b[37m\u001b[0m \u001b[1m1s\u001b[0m 6ms/step - accuracy: 0.2647 - loss: 1.5785 - val_accuracy: 0.3011 - val_loss: 1.3070 - learning_rate: 1.0000e-04\n",
      "Epoch 10/200\n",
      "\u001b[1m131/131\u001b[0m \u001b[32m━━━━━━━━━━━━━━━━━━━━\u001b[0m\u001b[37m\u001b[0m \u001b[1m1s\u001b[0m 6ms/step - accuracy: 0.2717 - loss: 1.2645 - val_accuracy: 0.3102 - val_loss: 1.1232 - learning_rate: 6.0000e-05\n",
      "Epoch 11/200\n",
      "\u001b[1m131/131\u001b[0m \u001b[32m━━━━━━━━━━━━━━━━━━━━\u001b[0m\u001b[37m\u001b[0m \u001b[1m1s\u001b[0m 6ms/step - accuracy: 0.2934 - loss: 1.0984 - val_accuracy: 0.3040 - val_loss: 0.9820 - learning_rate: 6.0000e-05\n",
      "Epoch 12/200\n",
      "\u001b[1m131/131\u001b[0m \u001b[32m━━━━━━━━━━━━━━━━━━━━\u001b[0m\u001b[37m\u001b[0m \u001b[1m1s\u001b[0m 6ms/step - accuracy: 0.3150 - loss: 0.9583 - val_accuracy: 0.3155 - val_loss: 0.8693 - learning_rate: 6.0000e-05\n",
      "Epoch 13/200\n",
      "\u001b[1m131/131\u001b[0m \u001b[32m━━━━━━━━━━━━━━━━━━━━\u001b[0m\u001b[37m\u001b[0m \u001b[1m1s\u001b[0m 6ms/step - accuracy: 0.3239 - loss: 0.8549 - val_accuracy: 0.3327 - val_loss: 0.7847 - learning_rate: 6.0000e-05\n",
      "Epoch 14/200\n",
      "\u001b[1m131/131\u001b[0m \u001b[32m━━━━━━━━━━━━━━━━━━━━\u001b[0m\u001b[37m\u001b[0m \u001b[1m1s\u001b[0m 6ms/step - accuracy: 0.3339 - loss: 0.7630 - val_accuracy: 0.3308 - val_loss: 0.7111 - learning_rate: 6.0000e-05\n",
      "Epoch 15/200\n",
      "\u001b[1m131/131\u001b[0m \u001b[32m━━━━━━━━━━━━━━━━━━━━\u001b[0m\u001b[37m\u001b[0m \u001b[1m1s\u001b[0m 6ms/step - accuracy: 0.3375 - loss: 0.6954 - val_accuracy: 0.3380 - val_loss: 0.6569 - learning_rate: 6.0000e-05\n",
      "Epoch 16/200\n",
      "\u001b[1m131/131\u001b[0m \u001b[32m━━━━━━━━━━━━━━━━━━━━\u001b[0m\u001b[37m\u001b[0m \u001b[1m1s\u001b[0m 6ms/step - accuracy: 0.3363 - loss: 0.6381 - val_accuracy: 0.3279 - val_loss: 0.6098 - learning_rate: 6.0000e-05\n",
      "Epoch 17/200\n",
      "\u001b[1m131/131\u001b[0m \u001b[32m━━━━━━━━━━━━━━━━━━━━\u001b[0m\u001b[37m\u001b[0m \u001b[1m1s\u001b[0m 6ms/step - accuracy: 0.3443 - loss: 0.5878 - val_accuracy: 0.3337 - val_loss: 0.5724 - learning_rate: 6.0000e-05\n",
      "Epoch 18/200\n",
      "\u001b[1m131/131\u001b[0m \u001b[32m━━━━━━━━━━━━━━━━━━━━\u001b[0m\u001b[37m\u001b[0m \u001b[1m1s\u001b[0m 6ms/step - accuracy: 0.3588 - loss: 0.5501 - val_accuracy: 0.3384 - val_loss: 0.5438 - learning_rate: 6.0000e-05\n",
      "Epoch 19/200\n",
      "\u001b[1m131/131\u001b[0m \u001b[32m━━━━━━━━━━━━━━━━━━━━\u001b[0m\u001b[37m\u001b[0m \u001b[1m1s\u001b[0m 6ms/step - accuracy: 0.3720 - loss: 0.5152 - val_accuracy: 0.3413 - val_loss: 0.5209 - learning_rate: 6.0000e-05\n",
      "Epoch 20/200\n",
      "\u001b[1m131/131\u001b[0m \u001b[32m━━━━━━━━━━━━━━━━━━━━\u001b[0m\u001b[37m\u001b[0m \u001b[1m1s\u001b[0m 6ms/step - accuracy: 0.3804 - loss: 0.4895 - val_accuracy: 0.3418 - val_loss: 0.5010 - learning_rate: 3.6000e-05\n",
      "Epoch 21/200\n",
      "\u001b[1m131/131\u001b[0m \u001b[32m━━━━━━━━━━━━━━━━━━━━\u001b[0m\u001b[37m\u001b[0m \u001b[1m1s\u001b[0m 6ms/step - accuracy: 0.3758 - loss: 0.4660 - val_accuracy: 0.3293 - val_loss: 0.4876 - learning_rate: 3.6000e-05\n",
      "Epoch 22/200\n",
      "\u001b[1m131/131\u001b[0m \u001b[32m━━━━━━━━━━━━━━━━━━━━\u001b[0m\u001b[37m\u001b[0m \u001b[1m1s\u001b[0m 6ms/step - accuracy: 0.3745 - loss: 0.4545 - val_accuracy: 0.3365 - val_loss: 0.4757 - learning_rate: 3.6000e-05\n",
      "Epoch 23/200\n",
      "\u001b[1m131/131\u001b[0m \u001b[32m━━━━━━━━━━━━━━━━━━━━\u001b[0m\u001b[37m\u001b[0m \u001b[1m1s\u001b[0m 6ms/step - accuracy: 0.3932 - loss: 0.4359 - val_accuracy: 0.3571 - val_loss: 0.4679 - learning_rate: 3.6000e-05\n",
      "Epoch 24/200\n",
      "\u001b[1m131/131\u001b[0m \u001b[32m━━━━━━━━━━━━━━━━━━━━\u001b[0m\u001b[37m\u001b[0m \u001b[1m1s\u001b[0m 6ms/step - accuracy: 0.4040 - loss: 0.4237 - val_accuracy: 0.3494 - val_loss: 0.4595 - learning_rate: 3.6000e-05\n",
      "Epoch 25/200\n",
      "\u001b[1m131/131\u001b[0m \u001b[32m━━━━━━━━━━━━━━━━━━━━\u001b[0m\u001b[37m\u001b[0m \u001b[1m1s\u001b[0m 6ms/step - accuracy: 0.4007 - loss: 0.4120 - val_accuracy: 0.3538 - val_loss: 0.4532 - learning_rate: 3.6000e-05\n",
      "Epoch 26/200\n",
      "\u001b[1m131/131\u001b[0m \u001b[32m━━━━━━━━━━━━━━━━━━━━\u001b[0m\u001b[37m\u001b[0m \u001b[1m1s\u001b[0m 6ms/step - accuracy: 0.3948 - loss: 0.4037 - val_accuracy: 0.3538 - val_loss: 0.4474 - learning_rate: 3.6000e-05\n",
      "Epoch 27/200\n",
      "\u001b[1m131/131\u001b[0m \u001b[32m━━━━━━━━━━━━━━━━━━━━\u001b[0m\u001b[37m\u001b[0m \u001b[1m1s\u001b[0m 6ms/step - accuracy: 0.4054 - loss: 0.3960 - val_accuracy: 0.3514 - val_loss: 0.4446 - learning_rate: 3.6000e-05\n",
      "Epoch 28/200\n",
      "\u001b[1m131/131\u001b[0m \u001b[32m━━━━━━━━━━━━━━━━━━━━\u001b[0m\u001b[37m\u001b[0m \u001b[1m1s\u001b[0m 6ms/step - accuracy: 0.4122 - loss: 0.3895 - val_accuracy: 0.3581 - val_loss: 0.4420 - learning_rate: 3.6000e-05\n",
      "Epoch 29/200\n",
      "\u001b[1m131/131\u001b[0m \u001b[32m━━━━━━━━━━━━━━━━━━━━\u001b[0m\u001b[37m\u001b[0m \u001b[1m1s\u001b[0m 6ms/step - accuracy: 0.4149 - loss: 0.3812 - val_accuracy: 0.3538 - val_loss: 0.4368 - learning_rate: 3.6000e-05\n",
      "Epoch 30/200\n",
      "\u001b[1m131/131\u001b[0m \u001b[32m━━━━━━━━━━━━━━━━━━━━\u001b[0m\u001b[37m\u001b[0m \u001b[1m1s\u001b[0m 6ms/step - accuracy: 0.4166 - loss: 0.3752 - val_accuracy: 0.3528 - val_loss: 0.4326 - learning_rate: 2.1600e-05\n",
      "Epoch 31/200\n",
      "\u001b[1m131/131\u001b[0m \u001b[32m━━━━━━━━━━━━━━━━━━━━\u001b[0m\u001b[37m\u001b[0m \u001b[1m1s\u001b[0m 6ms/step - accuracy: 0.4322 - loss: 0.3642 - val_accuracy: 0.3581 - val_loss: 0.4304 - learning_rate: 2.1600e-05\n",
      "Epoch 32/200\n",
      "\u001b[1m131/131\u001b[0m \u001b[32m━━━━━━━━━━━━━━━━━━━━\u001b[0m\u001b[37m\u001b[0m \u001b[1m1s\u001b[0m 6ms/step - accuracy: 0.4206 - loss: 0.3642 - val_accuracy: 0.3609 - val_loss: 0.4289 - learning_rate: 2.1600e-05\n",
      "Epoch 33/200\n",
      "\u001b[1m131/131\u001b[0m \u001b[32m━━━━━━━━━━━━━━━━━━━━\u001b[0m\u001b[37m\u001b[0m \u001b[1m1s\u001b[0m 6ms/step - accuracy: 0.4399 - loss: 0.3602 - val_accuracy: 0.3633 - val_loss: 0.4268 - learning_rate: 2.1600e-05\n",
      "Epoch 34/200\n",
      "\u001b[1m131/131\u001b[0m \u001b[32m━━━━━━━━━━━━━━━━━━━━\u001b[0m\u001b[37m\u001b[0m \u001b[1m1s\u001b[0m 6ms/step - accuracy: 0.4311 - loss: 0.3522 - val_accuracy: 0.3657 - val_loss: 0.4252 - learning_rate: 2.1600e-05\n",
      "Epoch 35/200\n",
      "\u001b[1m131/131\u001b[0m \u001b[32m━━━━━━━━━━━━━━━━━━━━\u001b[0m\u001b[37m\u001b[0m \u001b[1m1s\u001b[0m 6ms/step - accuracy: 0.4394 - loss: 0.3498 - val_accuracy: 0.3595 - val_loss: 0.4232 - learning_rate: 2.1600e-05\n",
      "Epoch 36/200\n",
      "\u001b[1m131/131\u001b[0m \u001b[32m━━━━━━━━━━━━━━━━━━━━\u001b[0m\u001b[37m\u001b[0m \u001b[1m1s\u001b[0m 6ms/step - accuracy: 0.4347 - loss: 0.3468 - val_accuracy: 0.3581 - val_loss: 0.4220 - learning_rate: 2.1600e-05\n",
      "Epoch 37/200\n",
      "\u001b[1m131/131\u001b[0m \u001b[32m━━━━━━━━━━━━━━━━━━━━\u001b[0m\u001b[37m\u001b[0m \u001b[1m1s\u001b[0m 6ms/step - accuracy: 0.4356 - loss: 0.3461 - val_accuracy: 0.3614 - val_loss: 0.4216 - learning_rate: 2.1600e-05\n",
      "Epoch 38/200\n",
      "\u001b[1m131/131\u001b[0m \u001b[32m━━━━━━━━━━━━━━━━━━━━\u001b[0m\u001b[37m\u001b[0m \u001b[1m1s\u001b[0m 6ms/step - accuracy: 0.4326 - loss: 0.3418 - val_accuracy: 0.3552 - val_loss: 0.4200 - learning_rate: 2.1600e-05\n",
      "Epoch 39/200\n",
      "\u001b[1m131/131\u001b[0m \u001b[32m━━━━━━━━━━━━━━━━━━━━\u001b[0m\u001b[37m\u001b[0m \u001b[1m1s\u001b[0m 6ms/step - accuracy: 0.4426 - loss: 0.3359 - val_accuracy: 0.3542 - val_loss: 0.4190 - learning_rate: 2.1600e-05\n",
      "Epoch 40/200\n",
      "\u001b[1m131/131\u001b[0m \u001b[32m━━━━━━━━━━━━━━━━━━━━\u001b[0m\u001b[37m\u001b[0m \u001b[1m1s\u001b[0m 7ms/step - accuracy: 0.4308 - loss: 0.3348 - val_accuracy: 0.3633 - val_loss: 0.4173 - learning_rate: 1.2960e-05\n",
      "Epoch 41/200\n",
      "\u001b[1m131/131\u001b[0m \u001b[32m━━━━━━━━━━━━━━━━━━━━\u001b[0m\u001b[37m\u001b[0m \u001b[1m1s\u001b[0m 6ms/step - accuracy: 0.4470 - loss: 0.3339 - val_accuracy: 0.3600 - val_loss: 0.4149 - learning_rate: 1.2960e-05\n",
      "Epoch 42/200\n",
      "\u001b[1m131/131\u001b[0m \u001b[32m━━━━━━━━━━━━━━━━━━━━\u001b[0m\u001b[37m\u001b[0m \u001b[1m1s\u001b[0m 6ms/step - accuracy: 0.4428 - loss: 0.3300 - val_accuracy: 0.3681 - val_loss: 0.4148 - learning_rate: 1.2960e-05\n",
      "Epoch 43/200\n",
      "\u001b[1m131/131\u001b[0m \u001b[32m━━━━━━━━━━━━━━━━━━━━\u001b[0m\u001b[37m\u001b[0m \u001b[1m1s\u001b[0m 6ms/step - accuracy: 0.4398 - loss: 0.3272 - val_accuracy: 0.3652 - val_loss: 0.4135 - learning_rate: 1.2960e-05\n",
      "Epoch 44/200\n",
      "\u001b[1m131/131\u001b[0m \u001b[32m━━━━━━━━━━━━━━━━━━━━\u001b[0m\u001b[37m\u001b[0m \u001b[1m1s\u001b[0m 6ms/step - accuracy: 0.4537 - loss: 0.3256 - val_accuracy: 0.3643 - val_loss: 0.4130 - learning_rate: 1.2960e-05\n",
      "Epoch 45/200\n",
      "\u001b[1m131/131\u001b[0m \u001b[32m━━━━━━━━━━━━━━━━━━━━\u001b[0m\u001b[37m\u001b[0m \u001b[1m1s\u001b[0m 6ms/step - accuracy: 0.4530 - loss: 0.3232 - val_accuracy: 0.3710 - val_loss: 0.4117 - learning_rate: 1.2960e-05\n",
      "Epoch 46/200\n",
      "\u001b[1m131/131\u001b[0m \u001b[32m━━━━━━━━━━━━━━━━━━━━\u001b[0m\u001b[37m\u001b[0m \u001b[1m1s\u001b[0m 6ms/step - accuracy: 0.4451 - loss: 0.3219 - val_accuracy: 0.3791 - val_loss: 0.4120 - learning_rate: 1.2960e-05\n",
      "Epoch 47/200\n",
      "\u001b[1m131/131\u001b[0m \u001b[32m━━━━━━━━━━━━━━━━━━━━\u001b[0m\u001b[37m\u001b[0m \u001b[1m1s\u001b[0m 6ms/step - accuracy: 0.4628 - loss: 0.3188 - val_accuracy: 0.3600 - val_loss: 0.4123 - learning_rate: 1.2960e-05\n",
      "Epoch 48/200\n",
      "\u001b[1m131/131\u001b[0m \u001b[32m━━━━━━━━━━━━━━━━━━━━\u001b[0m\u001b[37m\u001b[0m \u001b[1m1s\u001b[0m 6ms/step - accuracy: 0.4591 - loss: 0.3172 - val_accuracy: 0.3700 - val_loss: 0.4107 - learning_rate: 1.2960e-05\n",
      "Epoch 49/200\n",
      "\u001b[1m131/131\u001b[0m \u001b[32m━━━━━━━━━━━━━━━━━━━━\u001b[0m\u001b[37m\u001b[0m \u001b[1m1s\u001b[0m 6ms/step - accuracy: 0.4513 - loss: 0.3158 - val_accuracy: 0.3791 - val_loss: 0.4100 - learning_rate: 1.2960e-05\n",
      "Epoch 50/200\n",
      "\u001b[1m131/131\u001b[0m \u001b[32m━━━━━━━━━━━━━━━━━━━━\u001b[0m\u001b[37m\u001b[0m \u001b[1m1s\u001b[0m 6ms/step - accuracy: 0.4624 - loss: 0.3153 - val_accuracy: 0.3681 - val_loss: 0.4092 - learning_rate: 7.7760e-06\n",
      "Epoch 51/200\n",
      "\u001b[1m131/131\u001b[0m \u001b[32m━━━━━━━━━━━━━━━━━━━━\u001b[0m\u001b[37m\u001b[0m \u001b[1m1s\u001b[0m 6ms/step - accuracy: 0.4642 - loss: 0.3118 - val_accuracy: 0.3734 - val_loss: 0.4090 - learning_rate: 7.7760e-06\n",
      "Epoch 52/200\n",
      "\u001b[1m131/131\u001b[0m \u001b[32m━━━━━━━━━━━━━━━━━━━━\u001b[0m\u001b[37m\u001b[0m \u001b[1m1s\u001b[0m 6ms/step - accuracy: 0.4501 - loss: 0.3112 - val_accuracy: 0.3686 - val_loss: 0.4080 - learning_rate: 7.7760e-06\n",
      "Epoch 53/200\n",
      "\u001b[1m131/131\u001b[0m \u001b[32m━━━━━━━━━━━━━━━━━━━━\u001b[0m\u001b[37m\u001b[0m \u001b[1m1s\u001b[0m 6ms/step - accuracy: 0.4631 - loss: 0.3083 - val_accuracy: 0.3629 - val_loss: 0.4080 - learning_rate: 7.7760e-06\n",
      "Epoch 54/200\n",
      "\u001b[1m131/131\u001b[0m \u001b[32m━━━━━━━━━━━━━━━━━━━━\u001b[0m\u001b[37m\u001b[0m \u001b[1m1s\u001b[0m 6ms/step - accuracy: 0.4477 - loss: 0.3102 - val_accuracy: 0.3676 - val_loss: 0.4075 - learning_rate: 7.7760e-06\n",
      "Epoch 55/200\n",
      "\u001b[1m131/131\u001b[0m \u001b[32m━━━━━━━━━━━━━━━━━━━━\u001b[0m\u001b[37m\u001b[0m \u001b[1m1s\u001b[0m 6ms/step - accuracy: 0.4588 - loss: 0.3059 - val_accuracy: 0.3686 - val_loss: 0.4071 - learning_rate: 7.7760e-06\n",
      "Epoch 56/200\n",
      "\u001b[1m131/131\u001b[0m \u001b[32m━━━━━━━━━━━━━━━━━━━━\u001b[0m\u001b[37m\u001b[0m \u001b[1m1s\u001b[0m 6ms/step - accuracy: 0.4558 - loss: 0.3060 - val_accuracy: 0.3648 - val_loss: 0.4071 - learning_rate: 7.7760e-06\n",
      "Epoch 57/200\n",
      "\u001b[1m131/131\u001b[0m \u001b[32m━━━━━━━━━━━━━━━━━━━━\u001b[0m\u001b[37m\u001b[0m \u001b[1m1s\u001b[0m 6ms/step - accuracy: 0.4713 - loss: 0.3070 - val_accuracy: 0.3672 - val_loss: 0.4075 - learning_rate: 7.7760e-06\n",
      "Epoch 58/200\n",
      "\u001b[1m131/131\u001b[0m \u001b[32m━━━━━━━━━━━━━━━━━━━━\u001b[0m\u001b[37m\u001b[0m \u001b[1m1s\u001b[0m 6ms/step - accuracy: 0.4505 - loss: 0.3083 - val_accuracy: 0.3715 - val_loss: 0.4071 - learning_rate: 7.7760e-06\n",
      "Epoch 59/200\n",
      "\u001b[1m131/131\u001b[0m \u001b[32m━━━━━━━━━━━━━━━━━━━━\u001b[0m\u001b[37m\u001b[0m \u001b[1m1s\u001b[0m 6ms/step - accuracy: 0.4539 - loss: 0.3063 - val_accuracy: 0.3700 - val_loss: 0.4066 - learning_rate: 7.7760e-06\n",
      "Epoch 60/200\n",
      "\u001b[1m131/131\u001b[0m \u001b[32m━━━━━━━━━━━━━━━━━━━━\u001b[0m\u001b[37m\u001b[0m \u001b[1m1s\u001b[0m 6ms/step - accuracy: 0.4540 - loss: 0.3045 - val_accuracy: 0.3719 - val_loss: 0.4062 - learning_rate: 4.6656e-06\n",
      "Epoch 61/200\n",
      "\u001b[1m131/131\u001b[0m \u001b[32m━━━━━━━━━━━━━━━━━━━━\u001b[0m\u001b[37m\u001b[0m \u001b[1m1s\u001b[0m 6ms/step - accuracy: 0.4521 - loss: 0.3038 - val_accuracy: 0.3691 - val_loss: 0.4062 - learning_rate: 4.6656e-06\n",
      "Epoch 62/200\n",
      "\u001b[1m131/131\u001b[0m \u001b[32m━━━━━━━━━━━━━━━━━━━━\u001b[0m\u001b[37m\u001b[0m \u001b[1m1s\u001b[0m 6ms/step - accuracy: 0.4453 - loss: 0.3031 - val_accuracy: 0.3739 - val_loss: 0.4056 - learning_rate: 4.6656e-06\n",
      "Epoch 63/200\n",
      "\u001b[1m131/131\u001b[0m \u001b[32m━━━━━━━━━━━━━━━━━━━━\u001b[0m\u001b[37m\u001b[0m \u001b[1m1s\u001b[0m 6ms/step - accuracy: 0.4607 - loss: 0.3027 - val_accuracy: 0.3686 - val_loss: 0.4056 - learning_rate: 4.6656e-06\n",
      "Epoch 64/200\n",
      "\u001b[1m131/131\u001b[0m \u001b[32m━━━━━━━━━━━━━━━━━━━━\u001b[0m\u001b[37m\u001b[0m \u001b[1m1s\u001b[0m 6ms/step - accuracy: 0.4473 - loss: 0.3012 - val_accuracy: 0.3681 - val_loss: 0.4052 - learning_rate: 4.6656e-06\n",
      "Epoch 65/200\n",
      "\u001b[1m131/131\u001b[0m \u001b[32m━━━━━━━━━━━━━━━━━━━━\u001b[0m\u001b[37m\u001b[0m \u001b[1m1s\u001b[0m 6ms/step - accuracy: 0.4701 - loss: 0.2947 - val_accuracy: 0.3691 - val_loss: 0.4052 - learning_rate: 4.6656e-06\n",
      "Epoch 66/200\n",
      "\u001b[1m131/131\u001b[0m \u001b[32m━━━━━━━━━━━━━━━━━━━━\u001b[0m\u001b[37m\u001b[0m \u001b[1m1s\u001b[0m 6ms/step - accuracy: 0.4585 - loss: 0.3017 - val_accuracy: 0.3700 - val_loss: 0.4052 - learning_rate: 4.6656e-06\n",
      "Epoch 67/200\n",
      "\u001b[1m131/131\u001b[0m \u001b[32m━━━━━━━━━━━━━━━━━━━━\u001b[0m\u001b[37m\u001b[0m \u001b[1m1s\u001b[0m 7ms/step - accuracy: 0.4689 - loss: 0.2992 - val_accuracy: 0.3719 - val_loss: 0.4048 - learning_rate: 4.6656e-06\n",
      "Epoch 68/200\n",
      "\u001b[1m131/131\u001b[0m \u001b[32m━━━━━━━━━━━━━━━━━━━━\u001b[0m\u001b[37m\u001b[0m \u001b[1m1s\u001b[0m 6ms/step - accuracy: 0.4670 - loss: 0.2976 - val_accuracy: 0.3686 - val_loss: 0.4044 - learning_rate: 4.6656e-06\n",
      "Epoch 69/200\n",
      "\u001b[1m131/131\u001b[0m \u001b[32m━━━━━━━━━━━━━━━━━━━━\u001b[0m\u001b[37m\u001b[0m \u001b[1m1s\u001b[0m 6ms/step - accuracy: 0.4678 - loss: 0.3003 - val_accuracy: 0.3676 - val_loss: 0.4043 - learning_rate: 4.6656e-06\n",
      "Epoch 70/200\n",
      "\u001b[1m131/131\u001b[0m \u001b[32m━━━━━━━━━━━━━━━━━━━━\u001b[0m\u001b[37m\u001b[0m \u001b[1m1s\u001b[0m 6ms/step - accuracy: 0.4691 - loss: 0.2944 - val_accuracy: 0.3719 - val_loss: 0.4043 - learning_rate: 2.7994e-06\n",
      "Epoch 71/200\n",
      "\u001b[1m131/131\u001b[0m \u001b[32m━━━━━━━━━━━━━━━━━━━━\u001b[0m\u001b[37m\u001b[0m \u001b[1m1s\u001b[0m 6ms/step - accuracy: 0.4682 - loss: 0.2932 - val_accuracy: 0.3729 - val_loss: 0.4042 - learning_rate: 2.7994e-06\n",
      "Epoch 72/200\n",
      "\u001b[1m131/131\u001b[0m \u001b[32m━━━━━━━━━━━━━━━━━━━━\u001b[0m\u001b[37m\u001b[0m \u001b[1m1s\u001b[0m 6ms/step - accuracy: 0.4576 - loss: 0.2980 - val_accuracy: 0.3705 - val_loss: 0.4045 - learning_rate: 2.7994e-06\n",
      "Epoch 73/200\n",
      "\u001b[1m131/131\u001b[0m \u001b[32m━━━━━━━━━━━━━━━━━━━━\u001b[0m\u001b[37m\u001b[0m \u001b[1m1s\u001b[0m 6ms/step - accuracy: 0.4677 - loss: 0.2937 - val_accuracy: 0.3681 - val_loss: 0.4042 - learning_rate: 2.7994e-06\n",
      "Epoch 74/200\n",
      "\u001b[1m131/131\u001b[0m \u001b[32m━━━━━━━━━━━━━━━━━━━━\u001b[0m\u001b[37m\u001b[0m \u001b[1m1s\u001b[0m 6ms/step - accuracy: 0.4497 - loss: 0.2943 - val_accuracy: 0.3705 - val_loss: 0.4041 - learning_rate: 2.7994e-06\n",
      "Epoch 75/200\n",
      "\u001b[1m131/131\u001b[0m \u001b[32m━━━━━━━━━━━━━━━━━━━━\u001b[0m\u001b[37m\u001b[0m \u001b[1m1s\u001b[0m 6ms/step - accuracy: 0.4591 - loss: 0.2929 - val_accuracy: 0.3705 - val_loss: 0.4040 - learning_rate: 2.7994e-06\n",
      "Epoch 76/200\n",
      "\u001b[1m131/131\u001b[0m \u001b[32m━━━━━━━━━━━━━━━━━━━━\u001b[0m\u001b[37m\u001b[0m \u001b[1m1s\u001b[0m 6ms/step - accuracy: 0.4631 - loss: 0.2965 - val_accuracy: 0.3691 - val_loss: 0.4038 - learning_rate: 2.7994e-06\n",
      "Epoch 77/200\n",
      "\u001b[1m131/131\u001b[0m \u001b[32m━━━━━━━━━━━━━━━━━━━━\u001b[0m\u001b[37m\u001b[0m \u001b[1m1s\u001b[0m 6ms/step - accuracy: 0.4694 - loss: 0.2911 - val_accuracy: 0.3662 - val_loss: 0.4038 - learning_rate: 2.7994e-06\n",
      "Epoch 78/200\n",
      "\u001b[1m131/131\u001b[0m \u001b[32m━━━━━━━━━━━━━━━━━━━━\u001b[0m\u001b[37m\u001b[0m \u001b[1m1s\u001b[0m 6ms/step - accuracy: 0.4578 - loss: 0.2935 - val_accuracy: 0.3681 - val_loss: 0.4037 - learning_rate: 2.7994e-06\n",
      "Epoch 79/200\n",
      "\u001b[1m131/131\u001b[0m \u001b[32m━━━━━━━━━━━━━━━━━━━━\u001b[0m\u001b[37m\u001b[0m \u001b[1m1s\u001b[0m 6ms/step - accuracy: 0.4682 - loss: 0.2917 - val_accuracy: 0.3686 - val_loss: 0.4032 - learning_rate: 2.7994e-06\n",
      "Epoch 80/200\n",
      "\u001b[1m131/131\u001b[0m \u001b[32m━━━━━━━━━━━━━━━━━━━━\u001b[0m\u001b[37m\u001b[0m \u001b[1m1s\u001b[0m 6ms/step - accuracy: 0.4637 - loss: 0.2916 - val_accuracy: 0.3667 - val_loss: 0.4031 - learning_rate: 1.6796e-06\n",
      "Epoch 81/200\n",
      "\u001b[1m131/131\u001b[0m \u001b[32m━━━━━━━━━━━━━━━━━━━━\u001b[0m\u001b[37m\u001b[0m \u001b[1m1s\u001b[0m 6ms/step - accuracy: 0.4763 - loss: 0.2917 - val_accuracy: 0.3657 - val_loss: 0.4032 - learning_rate: 1.6796e-06\n",
      "Epoch 82/200\n",
      "\u001b[1m131/131\u001b[0m \u001b[32m━━━━━━━━━━━━━━━━━━━━\u001b[0m\u001b[37m\u001b[0m \u001b[1m1s\u001b[0m 6ms/step - accuracy: 0.4570 - loss: 0.2944 - val_accuracy: 0.3676 - val_loss: 0.4032 - learning_rate: 1.6796e-06\n",
      "Epoch 83/200\n",
      "\u001b[1m131/131\u001b[0m \u001b[32m━━━━━━━━━━━━━━━━━━━━\u001b[0m\u001b[37m\u001b[0m \u001b[1m1s\u001b[0m 6ms/step - accuracy: 0.4685 - loss: 0.2888 - val_accuracy: 0.3676 - val_loss: 0.4032 - learning_rate: 1.6796e-06\n",
      "Epoch 84/200\n",
      "\u001b[1m131/131\u001b[0m \u001b[32m━━━━━━━━━━━━━━━━━━━━\u001b[0m\u001b[37m\u001b[0m \u001b[1m1s\u001b[0m 6ms/step - accuracy: 0.4599 - loss: 0.2908 - val_accuracy: 0.3705 - val_loss: 0.4031 - learning_rate: 1.6796e-06\n",
      "Epoch 85/200\n",
      "\u001b[1m131/131\u001b[0m \u001b[32m━━━━━━━━━━━━━━━━━━━━\u001b[0m\u001b[37m\u001b[0m \u001b[1m1s\u001b[0m 6ms/step - accuracy: 0.4722 - loss: 0.2891 - val_accuracy: 0.3686 - val_loss: 0.4030 - learning_rate: 1.6796e-06\n",
      "Epoch 86/200\n",
      "\u001b[1m131/131\u001b[0m \u001b[32m━━━━━━━━━━━━━━━━━━━━\u001b[0m\u001b[37m\u001b[0m \u001b[1m1s\u001b[0m 6ms/step - accuracy: 0.4713 - loss: 0.2925 - val_accuracy: 0.3710 - val_loss: 0.4030 - learning_rate: 1.6796e-06\n",
      "Epoch 87/200\n",
      "\u001b[1m131/131\u001b[0m \u001b[32m━━━━━━━━━━━━━━━━━━━━\u001b[0m\u001b[37m\u001b[0m \u001b[1m1s\u001b[0m 6ms/step - accuracy: 0.4752 - loss: 0.2886 - val_accuracy: 0.3696 - val_loss: 0.4030 - learning_rate: 1.6796e-06\n",
      "Epoch 88/200\n",
      "\u001b[1m131/131\u001b[0m \u001b[32m━━━━━━━━━━━━━━━━━━━━\u001b[0m\u001b[37m\u001b[0m \u001b[1m1s\u001b[0m 6ms/step - accuracy: 0.4663 - loss: 0.2908 - val_accuracy: 0.3681 - val_loss: 0.4031 - learning_rate: 1.6796e-06\n",
      "Epoch 89/200\n",
      "\u001b[1m131/131\u001b[0m \u001b[32m━━━━━━━━━━━━━━━━━━━━\u001b[0m\u001b[37m\u001b[0m \u001b[1m1s\u001b[0m 6ms/step - accuracy: 0.4686 - loss: 0.2899 - val_accuracy: 0.3691 - val_loss: 0.4032 - learning_rate: 1.6796e-06\n",
      "Epoch 90/200\n",
      "\u001b[1m131/131\u001b[0m \u001b[32m━━━━━━━━━━━━━━━━━━━━\u001b[0m\u001b[37m\u001b[0m \u001b[1m1s\u001b[0m 6ms/step - accuracy: 0.4705 - loss: 0.2904 - val_accuracy: 0.3705 - val_loss: 0.4032 - learning_rate: 1.0078e-06\n",
      "Epoch 91/200\n",
      "\u001b[1m131/131\u001b[0m \u001b[32m━━━━━━━━━━━━━━━━━━━━\u001b[0m\u001b[37m\u001b[0m \u001b[1m1s\u001b[0m 6ms/step - accuracy: 0.4566 - loss: 0.2922 - val_accuracy: 0.3719 - val_loss: 0.4030 - learning_rate: 1.0078e-06\n"
     ]
    }
   ],
   "source": [
    "batch_size = 64\n",
    "epochs = 200\n",
    "early_stopping = EarlyStopping(monitor='val_loss', patience=6, restore_best_weights=True)\n",
    "\n",
    "# Train the model\n",
    "history = model.fit(x_train, y_train,\n",
    "                    batch_size=batch_size,\n",
    "                    epochs=epochs,\n",
    "                    verbose=1,\n",
    "                    validation_data=(x_val, y_val),\n",
    "                   shuffle=True,\n",
    "                   callbacks=[step_decay_schedule(initial_lr=0.0001, decay_factor=0.6, step_size=10),early_stopping ])"
   ]
  },
  {
   "cell_type": "code",
   "execution_count": 8,
   "id": "0ac4eb59-87a2-4cc1-843d-ca924f82942d",
   "metadata": {},
   "outputs": [
    {
     "data": {
      "image/png": "[encoded data removed]",
      "text/plain": [
       "<Figure size 640x480 with 1 Axes>"
      ]
     },
     "metadata": {},
     "output_type": "display_data"
    }
   ],
   "source": [
    "plt.plot(history.history['loss'])\n",
    "plt.plot(history.history['val_loss'])\n",
    "plt.title('Model loss')\n",
    "plt.ylabel('Loss')\n",
    "plt.xlabel('Epoch')\n",
    "plt.legend(['Train', 'Validation'], loc='upper left')\n",
    "plt.show()"
   ]
  },
  {
   "cell_type": "code",
   "execution_count": 9,
   "id": "8adaf6da-a3a7-4871-986a-aca407871f08",
   "metadata": {},
   "outputs": [
    {
     "name": "stdout",
     "output_type": "stream",
     "text": [
      "\u001b[1m82/82\u001b[0m \u001b[32m━━━━━━━━━━━━━━━━━━━━\u001b[0m\u001b[37m\u001b[0m \u001b[1m0s\u001b[0m 1ms/step - accuracy: 0.3611 - loss: 0.4054\n",
      "Test Accuracy: 36.12%\n"
     ]
    }
   ],
   "source": [
    "test_loss, test_accuracy = model.evaluate(x_test, y_test)\n",
    "\n",
    "# Print the test accuracy\n",
    "print(f\"Test Accuracy: {test_accuracy * 100:.2f}%\")"
   ]
  },
  {
   "cell_type": "code",
   "execution_count": 10,
   "id": "2a0d69c0-beff-4e25-bcb5-183ef934f616",
   "metadata": {},
   "outputs": [
    {
     "name": "stdout",
     "output_type": "stream",
     "text": [
      "\u001b[1m82/82\u001b[0m \u001b[32m━━━━━━━━━━━━━━━━━━━━\u001b[0m\u001b[37m\u001b[0m \u001b[1m0s\u001b[0m 2ms/step\n",
      "Accuracy: 0.24\n",
      "                  precision    recall  f1-score   support\n",
      "\n",
      "          Action       0.70      0.52      0.60       581\n",
      "Action/Adventure       0.72      0.49      0.59       576\n",
      "       Adventure       0.73      0.45      0.56       533\n",
      "          Comedy       0.64      0.28      0.39       646\n",
      "   Crime Fiction       0.64      0.42      0.51       421\n",
      "           Drama       0.72      0.59      0.65       970\n",
      "     Family Film       0.76      0.61      0.67       479\n",
      "          Horror       0.81      0.68      0.74       589\n",
      "    Romance Film       0.71      0.60      0.65       460\n",
      "  Romantic drama       0.73      0.63      0.67       408\n",
      "      Short Film       0.82      0.67      0.74       584\n",
      "        Thriller       0.62      0.38      0.47       536\n",
      "\n",
      "       micro avg       0.72      0.53      0.61      6783\n",
      "       macro avg       0.72      0.53      0.60      6783\n",
      "    weighted avg       0.72      0.53      0.60      6783\n",
      "     samples avg       0.67      0.54      0.57      6783\n",
      "\n"
     ]
    },
    {
     "name": "stderr",
     "output_type": "stream",
     "text": [
      "/home/asolta2s/myenv/lib64/python3.9/site-packages/sklearn/metrics/_classification.py:1517: UndefinedMetricWarning: Precision is ill-defined and being set to 0.0 in samples with no predicted labels. Use `zero_division` parameter to control this behavior.\n",
      "  _warn_prf(average, modifier, f\"{metric.capitalize()} is\", len(result))\n"
     ]
    }
   ],
   "source": [
    "\n",
    "# Predict and evaluate the model\n",
    "y_pred = model.predict(x_test)\n",
    "y_pred_binary = (y_pred >= 0.5).astype(int)\n",
    "accuracy = accuracy_score(y_test, y_pred_binary)\n",
    "print(f'Accuracy: {accuracy:.2f}')\n",
    "\n",
    "# Detailed classification report\n",
    "report = classification_report(y_test, y_pred_binary, target_names=list(y_train.columns))\n",
    "print(report)\n",
    "precision['DL'], recall['DL'], f1['DL'], _ = precision_recall_fscore_support(y_test, y_pred_binary, average='micro')"
   ]
  },
  {
   "cell_type": "code",
   "execution_count": 11,
   "id": "0e38a8d8-2287-4134-89b6-0091b4e6d48e",
   "metadata": {},
   "outputs": [],
   "source": [
    "model.save('model1.keras')\n"
   ]
  },
  {
   "cell_type": "markdown",
   "id": "a44d8171-6e3d-444b-a9bf-b6420ab3e621",
   "metadata": {},
   "source": [
    "## Logistic Regression"
   ]
  },
  {
   "cell_type": "code",
   "execution_count": 12,
   "id": "f8862a2c-95cd-47eb-b382-60b0a15fb7d5",
   "metadata": {},
   "outputs": [
    {
     "name": "stdout",
     "output_type": "stream",
     "text": [
      "Accuracy: 0.17\n",
      "                  precision    recall  f1-score   support\n",
      "\n",
      "          Action       0.72      0.42      0.53       581\n",
      "Action/Adventure       0.68      0.37      0.48       576\n",
      "       Adventure       0.73      0.34      0.46       533\n",
      "          Comedy       0.62      0.24      0.35       646\n",
      "   Crime Fiction       0.68      0.32      0.43       421\n",
      "           Drama       0.70      0.56      0.62       970\n",
      "     Family Film       0.80      0.44      0.57       479\n",
      "          Horror       0.83      0.52      0.64       589\n",
      "    Romance Film       0.76      0.40      0.52       460\n",
      "  Romantic drama       0.82      0.43      0.57       408\n",
      "      Short Film       0.88      0.59      0.71       584\n",
      "        Thriller       0.62      0.28      0.39       536\n",
      "\n",
      "       micro avg       0.74      0.42      0.53      6783\n",
      "       macro avg       0.74      0.41      0.52      6783\n",
      "    weighted avg       0.73      0.42      0.53      6783\n",
      "     samples avg       0.58      0.44      0.47      6783\n",
      "\n"
     ]
    },
    {
     "name": "stderr",
     "output_type": "stream",
     "text": [
      "/home/asolta2s/myenv/lib64/python3.9/site-packages/sklearn/metrics/_classification.py:1517: UndefinedMetricWarning: Precision is ill-defined and being set to 0.0 in samples with no predicted labels. Use `zero_division` parameter to control this behavior.\n",
      "  _warn_prf(average, modifier, f\"{metric.capitalize()} is\", len(result))\n"
     ]
    }
   ],
   "source": [
    "lr = LogisticRegression()\n",
    "clf = OneVsRestClassifier(lr)\n",
    "clf.fit(x_train, y_train)\n",
    "y_pred = clf.predict(x_test)\n",
    "y_pred_binary = (y_pred >= 0.5).astype(int)\n",
    "accuracy = accuracy_score(y_test, y_pred_binary)\n",
    "print(f'Accuracy: {accuracy:.2f}')\n",
    "\n",
    "# Detailed classification report\n",
    "report = classification_report(y_test, y_pred_binary, target_names=list(y_train.columns))\n",
    "print(report)\n",
    "precision['LogisticReg'], recall['LogisticReg'], f1['LogisticReg'], _ = precision_recall_fscore_support(y_test, y_pred_binary, average='micro')"
   ]
  },
  {
   "cell_type": "markdown",
   "id": "4271fad4-5948-4b94-9095-6b46d70f0eef",
   "metadata": {},
   "source": [
    "## SVM"
   ]
  },
  {
   "cell_type": "code",
   "execution_count": 13,
   "id": "4a05ba27-a32d-4ac7-88eb-0db2058bf368",
   "metadata": {},
   "outputs": [
    {
     "name": "stdout",
     "output_type": "stream",
     "text": [
      "Accuracy: 0.21\n",
      "                  precision    recall  f1-score   support\n",
      "\n",
      "          Action       0.77      0.43      0.55       581\n",
      "Action/Adventure       0.76      0.42      0.54       576\n",
      "       Adventure       0.82      0.40      0.54       533\n",
      "          Comedy       0.76      0.23      0.35       646\n",
      "   Crime Fiction       0.71      0.31      0.43       421\n",
      "           Drama       0.72      0.55      0.63       970\n",
      "     Family Film       0.85      0.49      0.62       479\n",
      "          Horror       0.85      0.57      0.68       589\n",
      "    Romance Film       0.78      0.44      0.56       460\n",
      "  Romantic drama       0.84      0.49      0.62       408\n",
      "      Short Film       0.89      0.59      0.71       584\n",
      "        Thriller       0.73      0.26      0.38       536\n",
      "\n",
      "       micro avg       0.79      0.44      0.56      6783\n",
      "       macro avg       0.79      0.43      0.55      6783\n",
      "    weighted avg       0.79      0.44      0.56      6783\n",
      "     samples avg       0.59      0.45      0.48      6783\n",
      "\n"
     ]
    },
    {
     "name": "stderr",
     "output_type": "stream",
     "text": [
      "/home/asolta2s/myenv/lib64/python3.9/site-packages/sklearn/metrics/_classification.py:1517: UndefinedMetricWarning: Precision is ill-defined and being set to 0.0 in samples with no predicted labels. Use `zero_division` parameter to control this behavior.\n",
      "  _warn_prf(average, modifier, f\"{metric.capitalize()} is\", len(result))\n"
     ]
    }
   ],
   "source": [
    "clf = OneVsRestClassifier(SVC())\n",
    "clf.fit(x_train, y_train)\n",
    "y_pred = clf.predict(x_test)\n",
    "\n",
    "y_pred_binary = (y_pred >= 0.5).astype(int)\n",
    "accuracy = accuracy_score(y_test, y_pred_binary)\n",
    "print(f'Accuracy: {accuracy:.2f}')\n",
    "\n",
    "# Detailed classification report\n",
    "report = classification_report(y_test, y_pred_binary, target_names=list(y_train.columns))\n",
    "print(report)\n",
    "precision['SVM'], recall['SVM'], f1['SVM'], _ = precision_recall_fscore_support(y_test, y_pred_binary, average='micro')\n"
   ]
  },
  {
   "cell_type": "markdown",
   "id": "3b6af9ab-728e-40da-af53-23d0dd4317e0",
   "metadata": {},
   "source": [
    "## LghtGBM"
   ]
  },
  {
   "cell_type": "code",
   "execution_count": 14,
   "id": "26327208-7b35-4ee7-9cba-ba6697944075",
   "metadata": {},
   "outputs": [
    {
     "name": "stdout",
     "output_type": "stream",
     "text": [
      "Training model for label: Action\n",
      "[LightGBM] [Info] Number of positive: 1881, number of negative: 6472\n",
      "[LightGBM] [Info] Auto-choosing row-wise multi-threading, the overhead of testing was 3.599765 seconds.\n",
      "You can set `force_row_wise=true` to remove the overhead.\n",
      "And if memory is not enough, you can set `force_col_wise=true`.\n",
      "[LightGBM] [Info] Total Bins 144605\n",
      "[LightGBM] [Info] Number of data points in the train set: 8353, number of used features: 1000\n",
      "[LightGBM] [Info] [binary:BoostFromScore]: pavg=0.225189 -> initscore=-1.235682\n",
      "[LightGBM] [Info] Start training from score -1.235682\n",
      "Training until validation scores don't improve for 10 rounds\n",
      "Did not meet early stopping. Best iteration is:\n",
      "[100]\tvalid_0's binary_logloss: 0.366331\n",
      "Training model for label: Action/Adventure\n",
      "[LightGBM] [Info] Number of positive: 1858, number of negative: 6495\n",
      "[LightGBM] [Info] Auto-choosing row-wise multi-threading, the overhead of testing was 2.083101 seconds.\n",
      "You can set `force_row_wise=true` to remove the overhead.\n",
      "And if memory is not enough, you can set `force_col_wise=true`.\n",
      "[LightGBM] [Info] Total Bins 144605\n",
      "[LightGBM] [Info] Number of data points in the train set: 8353, number of used features: 1000\n",
      "[LightGBM] [Info] [binary:BoostFromScore]: pavg=0.222435 -> initscore=-1.251532\n",
      "[LightGBM] [Info] Start training from score -1.251532\n",
      "Training until validation scores don't improve for 10 rounds\n",
      "Did not meet early stopping. Best iteration is:\n",
      "[100]\tvalid_0's binary_logloss: 0.372089\n",
      "Training model for label: Adventure\n",
      "[LightGBM] [Info] Number of positive: 1769, number of negative: 6584\n",
      "[LightGBM] [Info] Auto-choosing col-wise multi-threading, the overhead of testing was 1.486176 seconds.\n",
      "You can set `force_col_wise=true` to remove the overhead.\n",
      "[LightGBM] [Info] Total Bins 144605\n",
      "[LightGBM] [Info] Number of data points in the train set: 8353, number of used features: 1000\n",
      "[LightGBM] [Info] [binary:BoostFromScore]: pavg=0.211780 -> initscore=-1.314228\n",
      "[LightGBM] [Info] Start training from score -1.314228\n",
      "Training until validation scores don't improve for 10 rounds\n",
      "Did not meet early stopping. Best iteration is:\n",
      "[100]\tvalid_0's binary_logloss: 0.353359\n",
      "Training model for label: Comedy\n",
      "[LightGBM] [Info] Number of positive: 2088, number of negative: 6265\n",
      "[LightGBM] [Info] Auto-choosing col-wise multi-threading, the overhead of testing was 1.499208 seconds.\n",
      "You can set `force_col_wise=true` to remove the overhead.\n",
      "[LightGBM] [Info] Total Bins 144605\n",
      "[LightGBM] [Info] Number of data points in the train set: 8353, number of used features: 1000\n",
      "[LightGBM] [Info] [binary:BoostFromScore]: pavg=0.249970 -> initscore=-1.098772\n",
      "[LightGBM] [Info] Start training from score -1.098772\n",
      "Training until validation scores don't improve for 10 rounds\n",
      "Did not meet early stopping. Best iteration is:\n",
      "[100]\tvalid_0's binary_logloss: 0.467932\n",
      "Training model for label: Crime Fiction\n",
      "[LightGBM] [Info] Number of positive: 1360, number of negative: 6993\n",
      "[LightGBM] [Info] Auto-choosing col-wise multi-threading, the overhead of testing was 83.582859 seconds.\n",
      "You can set `force_col_wise=true` to remove the overhead.\n",
      "[LightGBM] [Info] Total Bins 144605\n",
      "[LightGBM] [Info] Number of data points in the train set: 8353, number of used features: 1000\n",
      "[LightGBM] [Info] [binary:BoostFromScore]: pavg=0.162816 -> initscore=-1.637425\n",
      "[LightGBM] [Info] Start training from score -1.637425\n",
      "Training until validation scores don't improve for 10 rounds\n",
      "Did not meet early stopping. Best iteration is:\n",
      "[100]\tvalid_0's binary_logloss: 0.296853\n",
      "Training model for label: Drama\n",
      "[LightGBM] [Info] Number of positive: 3020, number of negative: 5333\n",
      "[LightGBM] [Info] Auto-choosing col-wise multi-threading, the overhead of testing was 1.393304 seconds.\n",
      "You can set `force_col_wise=true` to remove the overhead.\n",
      "[LightGBM] [Info] Total Bins 144605\n",
      "[LightGBM] [Info] Number of data points in the train set: 8353, number of used features: 1000\n",
      "[LightGBM] [Info] [binary:BoostFromScore]: pavg=0.361547 -> initscore=-0.568657\n",
      "[LightGBM] [Info] Start training from score -0.568657\n",
      "Training until validation scores don't improve for 10 rounds\n",
      "Did not meet early stopping. Best iteration is:\n",
      "[100]\tvalid_0's binary_logloss: 0.502539\n",
      "Training model for label: Family Film\n",
      "[LightGBM] [Info] Number of positive: 1696, number of negative: 6657\n",
      "[LightGBM] [Info] Auto-choosing col-wise multi-threading, the overhead of testing was 1.394902 seconds.\n",
      "You can set `force_col_wise=true` to remove the overhead.\n",
      "[LightGBM] [Info] Total Bins 144605\n",
      "[LightGBM] [Info] Number of data points in the train set: 8353, number of used features: 1000\n",
      "[LightGBM] [Info] [binary:BoostFromScore]: pavg=0.203041 -> initscore=-1.367396\n",
      "[LightGBM] [Info] Start training from score -1.367396\n",
      "Training until validation scores don't improve for 10 rounds\n",
      "Did not meet early stopping. Best iteration is:\n",
      "[100]\tvalid_0's binary_logloss: 0.28673\n",
      "Training model for label: Horror\n",
      "[LightGBM] [Info] Number of positive: 1890, number of negative: 6463\n",
      "[LightGBM] [Info] Auto-choosing col-wise multi-threading, the overhead of testing was 1.500452 seconds.\n",
      "You can set `force_col_wise=true` to remove the overhead.\n",
      "[LightGBM] [Info] Total Bins 144605\n",
      "[LightGBM] [Info] Number of data points in the train set: 8353, number of used features: 1000\n",
      "[LightGBM] [Info] [binary:BoostFromScore]: pavg=0.226266 -> initscore=-1.229517\n",
      "[LightGBM] [Info] Start training from score -1.229517\n",
      "Training until validation scores don't improve for 10 rounds\n",
      "Did not meet early stopping. Best iteration is:\n",
      "[100]\tvalid_0's binary_logloss: 0.302752\n",
      "Training model for label: Romance Film\n",
      "[LightGBM] [Info] Number of positive: 1464, number of negative: 6889\n",
      "[LightGBM] [Info] Auto-choosing col-wise multi-threading, the overhead of testing was 2.096116 seconds.\n",
      "You can set `force_col_wise=true` to remove the overhead.\n",
      "[LightGBM] [Info] Total Bins 144605\n",
      "[LightGBM] [Info] Number of data points in the train set: 8353, number of used features: 1000\n",
      "[LightGBM] [Info] [binary:BoostFromScore]: pavg=0.175266 -> initscore=-1.548754\n",
      "[LightGBM] [Info] Start training from score -1.548754\n",
      "Training until validation scores don't improve for 10 rounds\n",
      "Did not meet early stopping. Best iteration is:\n",
      "[100]\tvalid_0's binary_logloss: 0.299477\n",
      "Training model for label: Romantic drama\n",
      "[LightGBM] [Info] Number of positive: 1240, number of negative: 7113\n",
      "[LightGBM] [Info] Auto-choosing row-wise multi-threading, the overhead of testing was 1.510281 seconds.\n",
      "You can set `force_row_wise=true` to remove the overhead.\n",
      "And if memory is not enough, you can set `force_col_wise=true`.\n",
      "[LightGBM] [Info] Total Bins 144605\n",
      "[LightGBM] [Info] Number of data points in the train set: 8353, number of used features: 1000\n",
      "[LightGBM] [Info] [binary:BoostFromScore]: pavg=0.148450 -> initscore=-1.746813\n",
      "[LightGBM] [Info] Start training from score -1.746813\n",
      "Training until validation scores don't improve for 10 rounds\n",
      "Did not meet early stopping. Best iteration is:\n",
      "[100]\tvalid_0's binary_logloss: 0.256665\n",
      "Training model for label: Short Film\n",
      "[LightGBM] [Info] Number of positive: 1844, number of negative: 6509\n",
      "[LightGBM] [Info] Auto-choosing col-wise multi-threading, the overhead of testing was 1.484878 seconds.\n",
      "You can set `force_col_wise=true` to remove the overhead.\n",
      "[LightGBM] [Info] Total Bins 144605\n",
      "[LightGBM] [Info] Number of data points in the train set: 8353, number of used features: 1000\n",
      "[LightGBM] [Info] [binary:BoostFromScore]: pavg=0.220759 -> initscore=-1.261249\n",
      "[LightGBM] [Info] Start training from score -1.261249\n",
      "Training until validation scores don't improve for 10 rounds\n",
      "Did not meet early stopping. Best iteration is:\n",
      "[100]\tvalid_0's binary_logloss: 0.269052\n",
      "Training model for label: Thriller\n",
      "[LightGBM] [Info] Number of positive: 1739, number of negative: 6614\n",
      "[LightGBM] [Info] Auto-choosing col-wise multi-threading, the overhead of testing was 1.587656 seconds.\n",
      "You can set `force_col_wise=true` to remove the overhead.\n",
      "[LightGBM] [Info] Total Bins 144605\n",
      "[LightGBM] [Info] Number of data points in the train set: 8353, number of used features: 1000\n",
      "[LightGBM] [Info] [binary:BoostFromScore]: pavg=0.208189 -> initscore=-1.335878\n",
      "[LightGBM] [Info] Start training from score -1.335878\n",
      "Training until validation scores don't improve for 10 rounds\n",
      "Did not meet early stopping. Best iteration is:\n",
      "[96]\tvalid_0's binary_logloss: 0.386537\n",
      "Accuracy: 0.19\n",
      "                  precision    recall  f1-score   support\n",
      "\n",
      "          Action       0.75      0.43      0.55       581\n",
      "Action/Adventure       0.72      0.39      0.51       576\n",
      "       Adventure       0.76      0.40      0.52       533\n",
      "          Comedy       0.72      0.25      0.37       646\n",
      "   Crime Fiction       0.67      0.39      0.49       421\n",
      "           Drama       0.71      0.55      0.62       970\n",
      "     Family Film       0.82      0.49      0.61       479\n",
      "          Horror       0.83      0.56      0.67       589\n",
      "    Romance Film       0.74      0.50      0.60       460\n",
      "  Romantic drama       0.75      0.49      0.59       408\n",
      "      Short Film       0.86      0.63      0.72       584\n",
      "        Thriller       0.68      0.29      0.41       536\n",
      "\n",
      "       micro avg       0.75      0.45      0.56      6783\n",
      "       macro avg       0.75      0.45      0.55      6783\n",
      "    weighted avg       0.75      0.45      0.56      6783\n",
      "     samples avg       0.58      0.46      0.48      6783\n",
      "\n"
     ]
    },
    {
     "name": "stderr",
     "output_type": "stream",
     "text": [
      "/home/asolta2s/myenv/lib64/python3.9/site-packages/sklearn/metrics/_classification.py:1517: UndefinedMetricWarning: Precision is ill-defined and being set to 0.0 in samples with no predicted labels. Use `zero_division` parameter to control this behavior.\n",
      "  _warn_prf(average, modifier, f\"{metric.capitalize()} is\", len(result))\n"
     ]
    }
   ],
   "source": [
    "\n",
    "early_stopping_callback = lgb.early_stopping(stopping_rounds=10)\n",
    "def train_and_predict(X_train, X_test, y_train, y_test):\n",
    "    predictions = np.zeros_like(y_test)\n",
    "    for i, label in enumerate(y_train.columns):\n",
    "        print(f'Training model for label: {label}')\n",
    "        lgb_train = lgb.Dataset(X_train, y_train.iloc[:, i])\n",
    "        lgb_eval = lgb.Dataset(X_test, y_test.iloc[:, i], reference=lgb_train)\n",
    "\n",
    "        params = {\n",
    "            'objective': 'binary',\n",
    "            'metric': 'binary_logloss',\n",
    "            'boosting_type': 'gbdt',\n",
    "            'num_leaves': 31,\n",
    "            'learning_rate': 0.05,\n",
    "            'feature_fraction': 0.9\n",
    "        }\n",
    "\n",
    "        gbm = lgb.train(params,\n",
    "                        lgb_train,\n",
    "                        num_boost_round=100,\n",
    "                        valid_sets=lgb_eval,\n",
    "                        callbacks=[early_stopping_callback])\n",
    "\n",
    "        y_pred = gbm.predict(X_test, num_iteration=gbm.best_iteration)\n",
    "        predictions[:, i] = (y_pred > 0.5).astype(int)\n",
    "    return predictions\n",
    "\n",
    "# Train the model and get predictions\n",
    "y_pred = train_and_predict(x_train, x_test, y_train, y_test)\n",
    "\n",
    "# Evaluate the model\n",
    "accuracy = accuracy_score(y_test, y_pred)\n",
    "print(f'Accuracy: {accuracy:.2f}')\n",
    "\n",
    "# Detailed classification report\n",
    "report = classification_report(y_test, y_pred, target_names=list(y_train.columns))\n",
    "print(report)"
   ]
  },
  {
   "cell_type": "code",
   "execution_count": 15,
   "id": "fa440371-695a-4e1a-9818-d6d196a31df7",
   "metadata": {},
   "outputs": [
    {
     "name": "stdout",
     "output_type": "stream",
     "text": [
      "Accuracy: 0.19\n",
      "                  precision    recall  f1-score   support\n",
      "\n",
      "          Action       0.75      0.43      0.55       581\n",
      "Action/Adventure       0.72      0.39      0.51       576\n",
      "       Adventure       0.76      0.40      0.52       533\n",
      "          Comedy       0.72      0.25      0.37       646\n",
      "   Crime Fiction       0.67      0.39      0.49       421\n",
      "           Drama       0.71      0.55      0.62       970\n",
      "     Family Film       0.82      0.49      0.61       479\n",
      "          Horror       0.83      0.56      0.67       589\n",
      "    Romance Film       0.74      0.50      0.60       460\n",
      "  Romantic drama       0.75      0.49      0.59       408\n",
      "      Short Film       0.86      0.63      0.72       584\n",
      "        Thriller       0.68      0.29      0.41       536\n",
      "\n",
      "       micro avg       0.75      0.45      0.56      6783\n",
      "       macro avg       0.75      0.45      0.55      6783\n",
      "    weighted avg       0.75      0.45      0.56      6783\n",
      "     samples avg       0.58      0.46      0.48      6783\n",
      "\n"
     ]
    },
    {
     "name": "stderr",
     "output_type": "stream",
     "text": [
      "/home/asolta2s/myenv/lib64/python3.9/site-packages/sklearn/metrics/_classification.py:1517: UndefinedMetricWarning: Precision is ill-defined and being set to 0.0 in samples with no predicted labels. Use `zero_division` parameter to control this behavior.\n",
      "  _warn_prf(average, modifier, f\"{metric.capitalize()} is\", len(result))\n"
     ]
    }
   ],
   "source": [
    "\n",
    "accuracy = accuracy_score(y_test, y_pred)\n",
    "print(f'Accuracy: {accuracy:.2f}')\n",
    "\n",
    "# Detailed classification report\n",
    "report = classification_report(y_test, y_pred, target_names=list(y_train.columns))\n",
    "precision['LGBM'], recall['LGBM'], f1['LGBM'], _ = precision_recall_fscore_support(y_test, y_pred, average='micro')\n",
    "print(report)"
   ]
  },
  {
   "cell_type": "markdown",
   "id": "964ff38c-8be5-4a3f-82b6-036a99b8a9e7",
   "metadata": {},
   "source": [
    "## Metrics Visualization"
   ]
  },
  {
   "cell_type": "code",
   "execution_count": 16,
   "id": "55d77068-b5cd-41c9-b636-8624a8915071",
   "metadata": {},
   "outputs": [
    {
     "data": {
      "image/png": "[encoded data removed]",
      "text/plain": [
       "<Figure size 1100x600 with 1 Axes>"
      ]
     },
     "metadata": {},
     "output_type": "display_data"
    }
   ],
   "source": [
    "# Prepare data for plotting\n",
    "labels = precision.keys()\n",
    "precision_values = precision.values()\n",
    "recall_values = recall.values()\n",
    "f1_values = f1.values()\n",
    "\n",
    "# Set the position of the bars on the x-axis\n",
    "x = range(len(labels))\n",
    "\n",
    "# Width of a bar\n",
    "bar_width = 0.2\n",
    "# Create the plot\n",
    "fig, ax = plt.subplots(figsize=(11, 6))\n",
    "\n",
    "# Plot bars\n",
    "ax.bar(x, precision_values, width=bar_width, label='Precision', align='center')\n",
    "ax.bar([p + bar_width for p in x], recall_values, width=bar_width, label='Recall', align='center')\n",
    "ax.bar([p + bar_width * 2 for p in x], f1_values, width=bar_width, label='F1 Score', align='center')\n",
    "\n",
    "# Set the labels for the x-axis\n",
    "ax.set_xticks([p + bar_width for p in x])\n",
    "ax.set_xticklabels(labels)\n",
    "\n",
    "# Add labels, title, and legend\n",
    "ax.set_xlabel('Models')\n",
    "ax.set_ylabel('Scores')\n",
    "ax.set_title('Precision, Recall, and F1 Score')\n",
    "ax.legend()\n",
    "\n",
    "# Show the plot\n",
    "plt.show()"
   ]
  },
  {
   "cell_type": "code",
   "execution_count": null,
   "id": "10dae044-5937-4f48-bc7b-4cbe03edf3b7",
   "metadata": {},
   "outputs": [],
   "source": []
  }
 ],
 "metadata": {
  "kernelspec": {
   "display_name": "Python 3 (ipykernel)",
   "language": "python",
   "name": "python3"
  },
  "language_info": {
   "codemirror_mode": {
    "name": "ipython",
    "version": 3
   },
   "file_extension": ".py",
   "mimetype": "text/x-python",
   "name": "python",
   "nbconvert_exporter": "python",
   "pygments_lexer": "ipython3",
   "version": "3.9.18"
  }
 },
 "nbformat": 4,
 "nbformat_minor": 5
}
