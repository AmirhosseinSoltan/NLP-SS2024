{
 "cells": [
  {
   "cell_type": "code",
   "execution_count": 62,
   "id": "78ed9739-828e-46fc-88ed-b786eb68951c",
   "metadata": {},
   "outputs": [],
   "source": [
    "from keras.optimizers import Adam\n",
    "from keras.models import Sequential\n",
    "from keras.layers import Dense, Dropout,BatchNormalization, Activation\n",
    "from keras.initializers import glorot_uniform\n",
    "from keras.callbacks import LearningRateScheduler, EarlyStopping\n",
    "from keras.regularizers import l2\n",
    "from sklearn.model_selection import train_test_split\n",
    "from sklearn.metrics import jaccard_score\n",
    "from sklearn.metrics import accuracy_score, classification_report, precision_recall_fscore_support\n",
    "from sklearn.linear_model import LogisticRegression\n",
    "from sklearn.multiclass import OneVsRestClassifier\n",
    "from sklearn.svm import SVC\n",
    "import lightgbm as lgb\n",
    "from sklearn.metrics import jaccard_score\n",
    "import pandas as pd\n",
    "import matplotlib.pyplot as plt\n",
    "import numpy as np\n",
    "import math\n",
    "import keras"
   ]
  },
  {
   "cell_type": "code",
   "execution_count": 44,
   "id": "416aa5f8-98e9-469a-8980-4d6d62df4291",
   "metadata": {},
   "outputs": [],
   "source": [
    "y_train = pd.read_csv('../Dataset_MovieSummaries/y_train1.csv')\n",
    "y_train.drop('Unnamed: 0', axis=1, inplace=True)\n",
    "x_train = pd.read_csv('../Dataset_MovieSummaries/X_train1.csv')\n",
    "x_train.drop('Unnamed: 0', axis=1, inplace=True)\n",
    "y_test = pd.read_csv('../Dataset_MovieSummaries/y_test1.csv')\n",
    "y_test.drop('Unnamed: 0', axis=1, inplace=True)\n",
    "x_test = pd.read_csv('../Dataset_MovieSummaries/X_test1.csv')\n",
    "x_test.drop('Unnamed: 0', axis=1, inplace=True)"
   ]
  },
  {
   "cell_type": "code",
   "execution_count": 45,
   "id": "5ad7bb7e-143a-42c2-a5a4-fd3e4c8ab4a5",
   "metadata": {},
   "outputs": [],
   "source": [
    "x_train, x_val, y_train, y_val = train_test_split(x_train, y_train, test_size=0.2, random_state=42)"
   ]
  },
  {
   "cell_type": "code",
   "execution_count": 46,
   "id": "edcf789d-0b4c-4274-b302-7f27d70afa32",
   "metadata": {},
   "outputs": [],
   "source": [
    "x_train.reset_index(drop = True, inplace = True)\n",
    "y_train.reset_index(drop = True, inplace = True)\n",
    "x_val.reset_index(drop = True, inplace = True)\n",
    "y_val.reset_index(drop = True, inplace = True)\n",
    "x_test.reset_index(drop = True, inplace = True)\n",
    "y_test.reset_index(drop = True, inplace = True)"
   ]
  },
  {
   "cell_type": "code",
   "execution_count": 57,
   "id": "2bb311da-4153-450f-bcc7-75a336a015a5",
   "metadata": {},
   "outputs": [],
   "source": [
    "\n",
    "precision = {}\n",
    "recall= {}\n",
    "f1={}\n",
    "jaccard = {}"
   ]
  },
  {
   "cell_type": "markdown",
   "id": "77f14daa-98ee-43aa-86db-3fec923dcb67",
   "metadata": {},
   "source": [
    "## Deep learning"
   ]
  },
  {
   "cell_type": "code",
   "execution_count": 48,
   "id": "3005c82b-9baa-4e73-b734-7b3ded01556e",
   "metadata": {},
   "outputs": [
    {
     "name": "stderr",
     "output_type": "stream",
     "text": [
      "/home/asolta2s/myenv/lib/python3.9/site-packages/keras/src/layers/core/dense.py:87: UserWarning: Do not pass an `input_shape`/`input_dim` argument to a layer. When using Sequential models, prefer using an `Input(shape)` object as the first layer in the model instead.\n",
      "  super().__init__(activity_regularizer=activity_regularizer, **kwargs)\n"
     ]
    },
    {
     "data": {
      "text/html": [
       "<pre style=\"white-space:pre;overflow-x:auto;line-height:normal;font-family:Menlo,'DejaVu Sans Mono',consolas,'Courier New',monospace\"><span style=\"font-weight: bold\">Model: \"sequential_2\"</span>\n",
       "</pre>\n"
      ],
      "text/plain": [
       "\u001b[1mModel: \"sequential_2\"\u001b[0m\n"
      ]
     },
     "metadata": {},
     "output_type": "display_data"
    },
    {
     "data": {
      "text/html": [
       "<pre style=\"white-space:pre;overflow-x:auto;line-height:normal;font-family:Menlo,'DejaVu Sans Mono',consolas,'Courier New',monospace\">┏━━━━━━━━━━━━━━━━━━━━━━━━━━━━━━━━━┳━━━━━━━━━━━━━━━━━━━━━━━━┳━━━━━━━━━━━━━━━┓\n",
       "┃<span style=\"font-weight: bold\"> Layer (type)                    </span>┃<span style=\"font-weight: bold\"> Output Shape           </span>┃<span style=\"font-weight: bold\">       Param # </span>┃\n",
       "┡━━━━━━━━━━━━━━━━━━━━━━━━━━━━━━━━━╇━━━━━━━━━━━━━━━━━━━━━━━━╇━━━━━━━━━━━━━━━┩\n",
       "│ dense_8 (<span style=\"color: #0087ff; text-decoration-color: #0087ff\">Dense</span>)                 │ (<span style=\"color: #00d7ff; text-decoration-color: #00d7ff\">None</span>, <span style=\"color: #00af00; text-decoration-color: #00af00\">512</span>)            │       <span style=\"color: #00af00; text-decoration-color: #00af00\">512,512</span> │\n",
       "├─────────────────────────────────┼────────────────────────┼───────────────┤\n",
       "│ batch_normalization_6           │ (<span style=\"color: #00d7ff; text-decoration-color: #00d7ff\">None</span>, <span style=\"color: #00af00; text-decoration-color: #00af00\">512</span>)            │         <span style=\"color: #00af00; text-decoration-color: #00af00\">2,048</span> │\n",
       "│ (<span style=\"color: #0087ff; text-decoration-color: #0087ff\">BatchNormalization</span>)            │                        │               │\n",
       "├─────────────────────────────────┼────────────────────────┼───────────────┤\n",
       "│ activation_6 (<span style=\"color: #0087ff; text-decoration-color: #0087ff\">Activation</span>)       │ (<span style=\"color: #00d7ff; text-decoration-color: #00d7ff\">None</span>, <span style=\"color: #00af00; text-decoration-color: #00af00\">512</span>)            │             <span style=\"color: #00af00; text-decoration-color: #00af00\">0</span> │\n",
       "├─────────────────────────────────┼────────────────────────┼───────────────┤\n",
       "│ dropout_6 (<span style=\"color: #0087ff; text-decoration-color: #0087ff\">Dropout</span>)             │ (<span style=\"color: #00d7ff; text-decoration-color: #00d7ff\">None</span>, <span style=\"color: #00af00; text-decoration-color: #00af00\">512</span>)            │             <span style=\"color: #00af00; text-decoration-color: #00af00\">0</span> │\n",
       "├─────────────────────────────────┼────────────────────────┼───────────────┤\n",
       "│ dense_9 (<span style=\"color: #0087ff; text-decoration-color: #0087ff\">Dense</span>)                 │ (<span style=\"color: #00d7ff; text-decoration-color: #00d7ff\">None</span>, <span style=\"color: #00af00; text-decoration-color: #00af00\">128</span>)            │        <span style=\"color: #00af00; text-decoration-color: #00af00\">65,664</span> │\n",
       "├─────────────────────────────────┼────────────────────────┼───────────────┤\n",
       "│ batch_normalization_7           │ (<span style=\"color: #00d7ff; text-decoration-color: #00d7ff\">None</span>, <span style=\"color: #00af00; text-decoration-color: #00af00\">128</span>)            │           <span style=\"color: #00af00; text-decoration-color: #00af00\">512</span> │\n",
       "│ (<span style=\"color: #0087ff; text-decoration-color: #0087ff\">BatchNormalization</span>)            │                        │               │\n",
       "├─────────────────────────────────┼────────────────────────┼───────────────┤\n",
       "│ activation_7 (<span style=\"color: #0087ff; text-decoration-color: #0087ff\">Activation</span>)       │ (<span style=\"color: #00d7ff; text-decoration-color: #00d7ff\">None</span>, <span style=\"color: #00af00; text-decoration-color: #00af00\">128</span>)            │             <span style=\"color: #00af00; text-decoration-color: #00af00\">0</span> │\n",
       "├─────────────────────────────────┼────────────────────────┼───────────────┤\n",
       "│ dropout_7 (<span style=\"color: #0087ff; text-decoration-color: #0087ff\">Dropout</span>)             │ (<span style=\"color: #00d7ff; text-decoration-color: #00d7ff\">None</span>, <span style=\"color: #00af00; text-decoration-color: #00af00\">128</span>)            │             <span style=\"color: #00af00; text-decoration-color: #00af00\">0</span> │\n",
       "├─────────────────────────────────┼────────────────────────┼───────────────┤\n",
       "│ dense_10 (<span style=\"color: #0087ff; text-decoration-color: #0087ff\">Dense</span>)                │ (<span style=\"color: #00d7ff; text-decoration-color: #00d7ff\">None</span>, <span style=\"color: #00af00; text-decoration-color: #00af00\">64</span>)             │         <span style=\"color: #00af00; text-decoration-color: #00af00\">8,256</span> │\n",
       "├─────────────────────────────────┼────────────────────────┼───────────────┤\n",
       "│ batch_normalization_8           │ (<span style=\"color: #00d7ff; text-decoration-color: #00d7ff\">None</span>, <span style=\"color: #00af00; text-decoration-color: #00af00\">64</span>)             │           <span style=\"color: #00af00; text-decoration-color: #00af00\">256</span> │\n",
       "│ (<span style=\"color: #0087ff; text-decoration-color: #0087ff\">BatchNormalization</span>)            │                        │               │\n",
       "├─────────────────────────────────┼────────────────────────┼───────────────┤\n",
       "│ activation_8 (<span style=\"color: #0087ff; text-decoration-color: #0087ff\">Activation</span>)       │ (<span style=\"color: #00d7ff; text-decoration-color: #00d7ff\">None</span>, <span style=\"color: #00af00; text-decoration-color: #00af00\">64</span>)             │             <span style=\"color: #00af00; text-decoration-color: #00af00\">0</span> │\n",
       "├─────────────────────────────────┼────────────────────────┼───────────────┤\n",
       "│ dropout_8 (<span style=\"color: #0087ff; text-decoration-color: #0087ff\">Dropout</span>)             │ (<span style=\"color: #00d7ff; text-decoration-color: #00d7ff\">None</span>, <span style=\"color: #00af00; text-decoration-color: #00af00\">64</span>)             │             <span style=\"color: #00af00; text-decoration-color: #00af00\">0</span> │\n",
       "├─────────────────────────────────┼────────────────────────┼───────────────┤\n",
       "│ dense_11 (<span style=\"color: #0087ff; text-decoration-color: #0087ff\">Dense</span>)                │ (<span style=\"color: #00d7ff; text-decoration-color: #00d7ff\">None</span>, <span style=\"color: #00af00; text-decoration-color: #00af00\">6</span>)              │           <span style=\"color: #00af00; text-decoration-color: #00af00\">390</span> │\n",
       "└─────────────────────────────────┴────────────────────────┴───────────────┘\n",
       "</pre>\n"
      ],
      "text/plain": [
       "┏━━━━━━━━━━━━━━━━━━━━━━━━━━━━━━━━━┳━━━━━━━━━━━━━━━━━━━━━━━━┳━━━━━━━━━━━━━━━┓\n",
       "┃\u001b[1m \u001b[0m\u001b[1mLayer (type)                   \u001b[0m\u001b[1m \u001b[0m┃\u001b[1m \u001b[0m\u001b[1mOutput Shape          \u001b[0m\u001b[1m \u001b[0m┃\u001b[1m \u001b[0m\u001b[1m      Param #\u001b[0m\u001b[1m \u001b[0m┃\n",
       "┡━━━━━━━━━━━━━━━━━━━━━━━━━━━━━━━━━╇━━━━━━━━━━━━━━━━━━━━━━━━╇━━━━━━━━━━━━━━━┩\n",
       "│ dense_8 (\u001b[38;5;33mDense\u001b[0m)                 │ (\u001b[38;5;45mNone\u001b[0m, \u001b[38;5;34m512\u001b[0m)            │       \u001b[38;5;34m512,512\u001b[0m │\n",
       "├─────────────────────────────────┼────────────────────────┼───────────────┤\n",
       "│ batch_normalization_6           │ (\u001b[38;5;45mNone\u001b[0m, \u001b[38;5;34m512\u001b[0m)            │         \u001b[38;5;34m2,048\u001b[0m │\n",
       "│ (\u001b[38;5;33mBatchNormalization\u001b[0m)            │                        │               │\n",
       "├─────────────────────────────────┼────────────────────────┼───────────────┤\n",
       "│ activation_6 (\u001b[38;5;33mActivation\u001b[0m)       │ (\u001b[38;5;45mNone\u001b[0m, \u001b[38;5;34m512\u001b[0m)            │             \u001b[38;5;34m0\u001b[0m │\n",
       "├─────────────────────────────────┼────────────────────────┼───────────────┤\n",
       "│ dropout_6 (\u001b[38;5;33mDropout\u001b[0m)             │ (\u001b[38;5;45mNone\u001b[0m, \u001b[38;5;34m512\u001b[0m)            │             \u001b[38;5;34m0\u001b[0m │\n",
       "├─────────────────────────────────┼────────────────────────┼───────────────┤\n",
       "│ dense_9 (\u001b[38;5;33mDense\u001b[0m)                 │ (\u001b[38;5;45mNone\u001b[0m, \u001b[38;5;34m128\u001b[0m)            │        \u001b[38;5;34m65,664\u001b[0m │\n",
       "├─────────────────────────────────┼────────────────────────┼───────────────┤\n",
       "│ batch_normalization_7           │ (\u001b[38;5;45mNone\u001b[0m, \u001b[38;5;34m128\u001b[0m)            │           \u001b[38;5;34m512\u001b[0m │\n",
       "│ (\u001b[38;5;33mBatchNormalization\u001b[0m)            │                        │               │\n",
       "├─────────────────────────────────┼────────────────────────┼───────────────┤\n",
       "│ activation_7 (\u001b[38;5;33mActivation\u001b[0m)       │ (\u001b[38;5;45mNone\u001b[0m, \u001b[38;5;34m128\u001b[0m)            │             \u001b[38;5;34m0\u001b[0m │\n",
       "├─────────────────────────────────┼────────────────────────┼───────────────┤\n",
       "│ dropout_7 (\u001b[38;5;33mDropout\u001b[0m)             │ (\u001b[38;5;45mNone\u001b[0m, \u001b[38;5;34m128\u001b[0m)            │             \u001b[38;5;34m0\u001b[0m │\n",
       "├─────────────────────────────────┼────────────────────────┼───────────────┤\n",
       "│ dense_10 (\u001b[38;5;33mDense\u001b[0m)                │ (\u001b[38;5;45mNone\u001b[0m, \u001b[38;5;34m64\u001b[0m)             │         \u001b[38;5;34m8,256\u001b[0m │\n",
       "├─────────────────────────────────┼────────────────────────┼───────────────┤\n",
       "│ batch_normalization_8           │ (\u001b[38;5;45mNone\u001b[0m, \u001b[38;5;34m64\u001b[0m)             │           \u001b[38;5;34m256\u001b[0m │\n",
       "│ (\u001b[38;5;33mBatchNormalization\u001b[0m)            │                        │               │\n",
       "├─────────────────────────────────┼────────────────────────┼───────────────┤\n",
       "│ activation_8 (\u001b[38;5;33mActivation\u001b[0m)       │ (\u001b[38;5;45mNone\u001b[0m, \u001b[38;5;34m64\u001b[0m)             │             \u001b[38;5;34m0\u001b[0m │\n",
       "├─────────────────────────────────┼────────────────────────┼───────────────┤\n",
       "│ dropout_8 (\u001b[38;5;33mDropout\u001b[0m)             │ (\u001b[38;5;45mNone\u001b[0m, \u001b[38;5;34m64\u001b[0m)             │             \u001b[38;5;34m0\u001b[0m │\n",
       "├─────────────────────────────────┼────────────────────────┼───────────────┤\n",
       "│ dense_11 (\u001b[38;5;33mDense\u001b[0m)                │ (\u001b[38;5;45mNone\u001b[0m, \u001b[38;5;34m6\u001b[0m)              │           \u001b[38;5;34m390\u001b[0m │\n",
       "└─────────────────────────────────┴────────────────────────┴───────────────┘\n"
      ]
     },
     "metadata": {},
     "output_type": "display_data"
    },
    {
     "data": {
      "text/html": [
       "<pre style=\"white-space:pre;overflow-x:auto;line-height:normal;font-family:Menlo,'DejaVu Sans Mono',consolas,'Courier New',monospace\"><span style=\"font-weight: bold\"> Total params: </span><span style=\"color: #00af00; text-decoration-color: #00af00\">589,638</span> (2.25 MB)\n",
       "</pre>\n"
      ],
      "text/plain": [
       "\u001b[1m Total params: \u001b[0m\u001b[38;5;34m589,638\u001b[0m (2.25 MB)\n"
      ]
     },
     "metadata": {},
     "output_type": "display_data"
    },
    {
     "data": {
      "text/html": [
       "<pre style=\"white-space:pre;overflow-x:auto;line-height:normal;font-family:Menlo,'DejaVu Sans Mono',consolas,'Courier New',monospace\"><span style=\"font-weight: bold\"> Trainable params: </span><span style=\"color: #00af00; text-decoration-color: #00af00\">588,230</span> (2.24 MB)\n",
       "</pre>\n"
      ],
      "text/plain": [
       "\u001b[1m Trainable params: \u001b[0m\u001b[38;5;34m588,230\u001b[0m (2.24 MB)\n"
      ]
     },
     "metadata": {},
     "output_type": "display_data"
    },
    {
     "data": {
      "text/html": [
       "<pre style=\"white-space:pre;overflow-x:auto;line-height:normal;font-family:Menlo,'DejaVu Sans Mono',consolas,'Courier New',monospace\"><span style=\"font-weight: bold\"> Non-trainable params: </span><span style=\"color: #00af00; text-decoration-color: #00af00\">1,408</span> (5.50 KB)\n",
       "</pre>\n"
      ],
      "text/plain": [
       "\u001b[1m Non-trainable params: \u001b[0m\u001b[38;5;34m1,408\u001b[0m (5.50 KB)\n"
      ]
     },
     "metadata": {},
     "output_type": "display_data"
    }
   ],
   "source": [
    "\n",
    "def step_decay_schedule(initial_lr=0.001, decay_factor=0.5, step_size=10):\n",
    "    def schedule(epoch):\n",
    "        return max(initial_lr * math.pow(decay_factor, math.floor((1+epoch)/step_size)), 0.000001)\n",
    "    return LearningRateScheduler(schedule)\n",
    "    \n",
    "learning_rate = 0.0001  # Adjust this value as needed\n",
    "optimizer = Adam(learning_rate=learning_rate)\n",
    "# Define the model\n",
    "model = Sequential()\n",
    "model.add(Dense(512, input_shape=(x_train.shape[1],), kernel_initializer=glorot_uniform(),kernel_regularizer=l2(0.05)))\n",
    "model.add(BatchNormalization())\n",
    "model.add(Activation('relu'))\n",
    "model.add(Dropout(0.5))\n",
    "model.add(Dense(128, kernel_initializer=glorot_uniform(),kernel_regularizer=l2(0.05)))\n",
    "model.add(BatchNormalization())\n",
    "model.add(Activation('relu'))\n",
    "model.add(Dropout(0.5))\n",
    "model.add(Dense(64, kernel_initializer=glorot_uniform(),kernel_regularizer=l2(0.05)))\n",
    "model.add(BatchNormalization())\n",
    "model.add(Activation('relu'))\n",
    "model.add(Dropout(0.5))\n",
    "model.add(Dense(y_train.shape[1], activation='sigmoid'))  # Output layer with softmax activation for multiclass classification\n",
    "\n",
    "# Compile the model\n",
    "model.compile(loss='binary_crossentropy', optimizer=optimizer, metrics=['accuracy'])\n",
    "\n",
    "# Print model summary\n",
    "model.summary()"
   ]
  },
  {
   "cell_type": "code",
   "execution_count": 49,
   "id": "3c8a82ad-3576-4935-b7c3-7d49a61e2388",
   "metadata": {
    "scrolled": true
   },
   "outputs": [
    {
     "name": "stdout",
     "output_type": "stream",
     "text": [
      "Epoch 1/200\n",
      "\u001b[1m34/34\u001b[0m \u001b[32m━━━━━━━━━━━━━━━━━━━━\u001b[0m\u001b[37m\u001b[0m \u001b[1m3s\u001b[0m 24ms/step - accuracy: 0.1821 - loss: 47.3736 - val_accuracy: 0.2017 - val_loss: 42.6222 - learning_rate: 1.0000e-04\n",
      "Epoch 2/200\n",
      "\u001b[1m34/34\u001b[0m \u001b[32m━━━━━━━━━━━━━━━━━━━━\u001b[0m\u001b[37m\u001b[0m \u001b[1m1s\u001b[0m 19ms/step - accuracy: 0.1787 - loss: 41.3441 - val_accuracy: 0.2091 - val_loss: 37.1674 - learning_rate: 1.0000e-04\n",
      "Epoch 3/200\n",
      "\u001b[1m34/34\u001b[0m \u001b[32m━━━━━━━━━━━━━━━━━━━━\u001b[0m\u001b[37m\u001b[0m \u001b[1m1s\u001b[0m 19ms/step - accuracy: 0.1789 - loss: 36.0555 - val_accuracy: 0.2278 - val_loss: 32.4148 - learning_rate: 1.0000e-04\n",
      "Epoch 4/200\n",
      "\u001b[1m34/34\u001b[0m \u001b[32m━━━━━━━━━━━━━━━━━━━━\u001b[0m\u001b[37m\u001b[0m \u001b[1m1s\u001b[0m 18ms/step - accuracy: 0.1743 - loss: 31.4581 - val_accuracy: 0.2431 - val_loss: 28.2772 - learning_rate: 1.0000e-04\n",
      "Epoch 5/200\n",
      "\u001b[1m34/34\u001b[0m \u001b[32m━━━━━━━━━━━━━━━━━━━━\u001b[0m\u001b[37m\u001b[0m \u001b[1m1s\u001b[0m 18ms/step - accuracy: 0.1880 - loss: 27.4432 - val_accuracy: 0.2492 - val_loss: 24.6757 - learning_rate: 1.0000e-04\n",
      "Epoch 6/200\n",
      "\u001b[1m34/34\u001b[0m \u001b[32m━━━━━━━━━━━━━━━━━━━━\u001b[0m\u001b[37m\u001b[0m \u001b[1m1s\u001b[0m 18ms/step - accuracy: 0.1972 - loss: 23.9539 - val_accuracy: 0.2548 - val_loss: 21.5432 - learning_rate: 1.0000e-04\n",
      "Epoch 7/200\n",
      "\u001b[1m34/34\u001b[0m \u001b[32m━━━━━━━━━━━━━━━━━━━━\u001b[0m\u001b[37m\u001b[0m \u001b[1m1s\u001b[0m 18ms/step - accuracy: 0.2035 - loss: 20.9146 - val_accuracy: 0.2552 - val_loss: 18.8207 - learning_rate: 1.0000e-04\n",
      "Epoch 8/200\n",
      "\u001b[1m34/34\u001b[0m \u001b[32m━━━━━━━━━━━━━━━━━━━━\u001b[0m\u001b[37m\u001b[0m \u001b[1m1s\u001b[0m 18ms/step - accuracy: 0.1989 - loss: 18.2885 - val_accuracy: 0.2562 - val_loss: 16.4562 - learning_rate: 1.0000e-04\n",
      "Epoch 9/200\n",
      "\u001b[1m34/34\u001b[0m \u001b[32m━━━━━━━━━━━━━━━━━━━━\u001b[0m\u001b[37m\u001b[0m \u001b[1m1s\u001b[0m 18ms/step - accuracy: 0.2056 - loss: 15.9938 - val_accuracy: 0.2599 - val_loss: 14.4046 - learning_rate: 1.0000e-04\n",
      "Epoch 10/200\n",
      "\u001b[1m34/34\u001b[0m \u001b[32m━━━━━━━━━━━━━━━━━━━━\u001b[0m\u001b[37m\u001b[0m \u001b[1m1s\u001b[0m 19ms/step - accuracy: 0.2203 - loss: 14.1852 - val_accuracy: 0.2594 - val_loss: 13.3081 - learning_rate: 6.0000e-05\n",
      "Epoch 11/200\n",
      "\u001b[1m34/34\u001b[0m \u001b[32m━━━━━━━━━━━━━━━━━━━━\u001b[0m\u001b[37m\u001b[0m \u001b[1m1s\u001b[0m 19ms/step - accuracy: 0.2140 - loss: 13.1026 - val_accuracy: 0.2622 - val_loss: 12.2956 - learning_rate: 6.0000e-05\n",
      "Epoch 12/200\n",
      "\u001b[1m34/34\u001b[0m \u001b[32m━━━━━━━━━━━━━━━━━━━━\u001b[0m\u001b[37m\u001b[0m \u001b[1m1s\u001b[0m 19ms/step - accuracy: 0.2185 - loss: 12.1032 - val_accuracy: 0.2655 - val_loss: 11.3608 - learning_rate: 6.0000e-05\n",
      "Epoch 13/200\n",
      "\u001b[1m34/34\u001b[0m \u001b[32m━━━━━━━━━━━━━━━━━━━━\u001b[0m\u001b[37m\u001b[0m \u001b[1m1s\u001b[0m 19ms/step - accuracy: 0.2238 - loss: 11.1828 - val_accuracy: 0.2739 - val_loss: 10.4990 - learning_rate: 6.0000e-05\n",
      "Epoch 14/200\n",
      "\u001b[1m34/34\u001b[0m \u001b[32m━━━━━━━━━━━━━━━━━━━━\u001b[0m\u001b[37m\u001b[0m \u001b[1m1s\u001b[0m 19ms/step - accuracy: 0.2404 - loss: 10.3270 - val_accuracy: 0.2841 - val_loss: 9.7056 - learning_rate: 6.0000e-05\n",
      "Epoch 15/200\n",
      "\u001b[1m34/34\u001b[0m \u001b[32m━━━━━━━━━━━━━━━━━━━━\u001b[0m\u001b[37m\u001b[0m \u001b[1m1s\u001b[0m 19ms/step - accuracy: 0.2530 - loss: 9.5438 - val_accuracy: 0.2883 - val_loss: 8.9755 - learning_rate: 6.0000e-05\n",
      "Epoch 16/200\n",
      "\u001b[1m34/34\u001b[0m \u001b[32m━━━━━━━━━━━━━━━━━━━━\u001b[0m\u001b[37m\u001b[0m \u001b[1m1s\u001b[0m 18ms/step - accuracy: 0.2528 - loss: 8.8264 - val_accuracy: 0.3000 - val_loss: 8.3048 - learning_rate: 6.0000e-05\n",
      "Epoch 17/200\n",
      "\u001b[1m34/34\u001b[0m \u001b[32m━━━━━━━━━━━━━━━━━━━━\u001b[0m\u001b[37m\u001b[0m \u001b[1m1s\u001b[0m 18ms/step - accuracy: 0.2521 - loss: 8.1696 - val_accuracy: 0.3135 - val_loss: 7.6885 - learning_rate: 6.0000e-05\n",
      "Epoch 18/200\n",
      "\u001b[1m34/34\u001b[0m \u001b[32m━━━━━━━━━━━━━━━━━━━━\u001b[0m\u001b[37m\u001b[0m \u001b[1m1s\u001b[0m 19ms/step - accuracy: 0.2647 - loss: 7.5678 - val_accuracy: 0.3354 - val_loss: 7.1230 - learning_rate: 6.0000e-05\n",
      "Epoch 19/200\n",
      "\u001b[1m34/34\u001b[0m \u001b[32m━━━━━━━━━━━━━━━━━━━━\u001b[0m\u001b[37m\u001b[0m \u001b[1m1s\u001b[0m 19ms/step - accuracy: 0.2920 - loss: 7.0056 - val_accuracy: 0.3624 - val_loss: 6.6035 - learning_rate: 6.0000e-05\n",
      "Epoch 20/200\n",
      "\u001b[1m34/34\u001b[0m \u001b[32m━━━━━━━━━━━━━━━━━━━━\u001b[0m\u001b[37m\u001b[0m \u001b[1m1s\u001b[0m 19ms/step - accuracy: 0.2960 - loss: 6.5413 - val_accuracy: 0.3894 - val_loss: 6.3096 - learning_rate: 3.6000e-05\n",
      "Epoch 21/200\n",
      "\u001b[1m34/34\u001b[0m \u001b[32m━━━━━━━━━━━━━━━━━━━━\u001b[0m\u001b[37m\u001b[0m \u001b[1m1s\u001b[0m 19ms/step - accuracy: 0.2865 - loss: 6.2501 - val_accuracy: 0.4113 - val_loss: 6.0292 - learning_rate: 3.6000e-05\n",
      "Epoch 22/200\n",
      "\u001b[1m34/34\u001b[0m \u001b[32m━━━━━━━━━━━━━━━━━━━━\u001b[0m\u001b[37m\u001b[0m \u001b[1m1s\u001b[0m 18ms/step - accuracy: 0.2952 - loss: 5.9849 - val_accuracy: 0.4211 - val_loss: 5.7618 - learning_rate: 3.6000e-05\n",
      "Epoch 23/200\n",
      "\u001b[1m34/34\u001b[0m \u001b[32m━━━━━━━━━━━━━━━━━━━━\u001b[0m\u001b[37m\u001b[0m \u001b[1m1s\u001b[0m 18ms/step - accuracy: 0.3031 - loss: 5.7140 - val_accuracy: 0.4299 - val_loss: 5.5076 - learning_rate: 3.6000e-05\n",
      "Epoch 24/200\n",
      "\u001b[1m34/34\u001b[0m \u001b[32m━━━━━━━━━━━━━━━━━━━━\u001b[0m\u001b[37m\u001b[0m \u001b[1m1s\u001b[0m 18ms/step - accuracy: 0.3060 - loss: 5.4688 - val_accuracy: 0.4360 - val_loss: 5.2657 - learning_rate: 3.6000e-05\n",
      "Epoch 25/200\n",
      "\u001b[1m34/34\u001b[0m \u001b[32m━━━━━━━━━━━━━━━━━━━━\u001b[0m\u001b[37m\u001b[0m \u001b[1m1s\u001b[0m 18ms/step - accuracy: 0.3159 - loss: 5.2263 - val_accuracy: 0.4401 - val_loss: 5.0360 - learning_rate: 3.6000e-05\n",
      "Epoch 26/200\n",
      "\u001b[1m34/34\u001b[0m \u001b[32m━━━━━━━━━━━━━━━━━━━━\u001b[0m\u001b[37m\u001b[0m \u001b[1m1s\u001b[0m 18ms/step - accuracy: 0.3249 - loss: 4.9989 - val_accuracy: 0.4448 - val_loss: 4.8183 - learning_rate: 3.6000e-05\n",
      "Epoch 27/200\n",
      "\u001b[1m34/34\u001b[0m \u001b[32m━━━━━━━━━━━━━━━━━━━━\u001b[0m\u001b[37m\u001b[0m \u001b[1m1s\u001b[0m 19ms/step - accuracy: 0.3253 - loss: 4.7895 - val_accuracy: 0.4513 - val_loss: 4.6114 - learning_rate: 3.6000e-05\n",
      "Epoch 28/200\n",
      "\u001b[1m34/34\u001b[0m \u001b[32m━━━━━━━━━━━━━━━━━━━━\u001b[0m\u001b[37m\u001b[0m \u001b[1m1s\u001b[0m 19ms/step - accuracy: 0.3369 - loss: 4.5836 - val_accuracy: 0.4499 - val_loss: 4.4151 - learning_rate: 3.6000e-05\n",
      "Epoch 29/200\n",
      "\u001b[1m34/34\u001b[0m \u001b[32m━━━━━━━━━━━━━━━━━━━━\u001b[0m\u001b[37m\u001b[0m \u001b[1m1s\u001b[0m 19ms/step - accuracy: 0.3445 - loss: 4.3859 - val_accuracy: 0.4518 - val_loss: 4.2293 - learning_rate: 3.6000e-05\n",
      "Epoch 30/200\n",
      "\u001b[1m34/34\u001b[0m \u001b[32m━━━━━━━━━━━━━━━━━━━━\u001b[0m\u001b[37m\u001b[0m \u001b[1m1s\u001b[0m 19ms/step - accuracy: 0.3503 - loss: 4.2226 - val_accuracy: 0.4523 - val_loss: 4.1202 - learning_rate: 2.1600e-05\n",
      "Epoch 31/200\n",
      "\u001b[1m34/34\u001b[0m \u001b[32m━━━━━━━━━━━━━━━━━━━━\u001b[0m\u001b[37m\u001b[0m \u001b[1m1s\u001b[0m 19ms/step - accuracy: 0.3555 - loss: 4.1145 - val_accuracy: 0.4546 - val_loss: 4.0146 - learning_rate: 2.1600e-05\n",
      "Epoch 32/200\n",
      "\u001b[1m34/34\u001b[0m \u001b[32m━━━━━━━━━━━━━━━━━━━━\u001b[0m\u001b[37m\u001b[0m \u001b[1m1s\u001b[0m 18ms/step - accuracy: 0.3701 - loss: 4.0089 - val_accuracy: 0.4574 - val_loss: 3.9125 - learning_rate: 2.1600e-05\n",
      "Epoch 33/200\n",
      "\u001b[1m34/34\u001b[0m \u001b[32m━━━━━━━━━━━━━━━━━━━━\u001b[0m\u001b[37m\u001b[0m \u001b[1m1s\u001b[0m 19ms/step - accuracy: 0.3571 - loss: 3.9116 - val_accuracy: 0.4597 - val_loss: 3.8136 - learning_rate: 2.1600e-05\n",
      "Epoch 34/200\n",
      "\u001b[1m34/34\u001b[0m \u001b[32m━━━━━━━━━━━━━━━━━━━━\u001b[0m\u001b[37m\u001b[0m \u001b[1m1s\u001b[0m 19ms/step - accuracy: 0.3671 - loss: 3.8074 - val_accuracy: 0.4611 - val_loss: 3.7176 - learning_rate: 2.1600e-05\n",
      "Epoch 35/200\n",
      "\u001b[1m34/34\u001b[0m \u001b[32m━━━━━━━━━━━━━━━━━━━━\u001b[0m\u001b[37m\u001b[0m \u001b[1m1s\u001b[0m 19ms/step - accuracy: 0.3759 - loss: 3.7137 - val_accuracy: 0.4616 - val_loss: 3.6246 - learning_rate: 2.1600e-05\n",
      "Epoch 36/200\n",
      "\u001b[1m34/34\u001b[0m \u001b[32m━━━━━━━━━━━━━━━━━━━━\u001b[0m\u001b[37m\u001b[0m \u001b[1m1s\u001b[0m 18ms/step - accuracy: 0.3746 - loss: 3.6147 - val_accuracy: 0.4625 - val_loss: 3.5342 - learning_rate: 2.1600e-05\n",
      "Epoch 37/200\n",
      "\u001b[1m34/34\u001b[0m \u001b[32m━━━━━━━━━━━━━━━━━━━━\u001b[0m\u001b[37m\u001b[0m \u001b[1m1s\u001b[0m 18ms/step - accuracy: 0.3718 - loss: 3.5303 - val_accuracy: 0.4644 - val_loss: 3.4465 - learning_rate: 2.1600e-05\n",
      "Epoch 38/200\n",
      "\u001b[1m34/34\u001b[0m \u001b[32m━━━━━━━━━━━━━━━━━━━━\u001b[0m\u001b[37m\u001b[0m \u001b[1m1s\u001b[0m 18ms/step - accuracy: 0.3752 - loss: 3.4434 - val_accuracy: 0.4672 - val_loss: 3.3614 - learning_rate: 2.1600e-05\n",
      "Epoch 39/200\n",
      "\u001b[1m34/34\u001b[0m \u001b[32m━━━━━━━━━━━━━━━━━━━━\u001b[0m\u001b[37m\u001b[0m \u001b[1m1s\u001b[0m 19ms/step - accuracy: 0.3865 - loss: 3.3574 - val_accuracy: 0.4700 - val_loss: 3.2787 - learning_rate: 2.1600e-05\n",
      "Epoch 40/200\n",
      "\u001b[1m34/34\u001b[0m \u001b[32m━━━━━━━━━━━━━━━━━━━━\u001b[0m\u001b[37m\u001b[0m \u001b[1m1s\u001b[0m 18ms/step - accuracy: 0.3807 - loss: 3.2794 - val_accuracy: 0.4714 - val_loss: 3.2292 - learning_rate: 1.2960e-05\n",
      "Epoch 41/200\n",
      "\u001b[1m34/34\u001b[0m \u001b[32m━━━━━━━━━━━━━━━━━━━━\u001b[0m\u001b[37m\u001b[0m \u001b[1m1s\u001b[0m 19ms/step - accuracy: 0.3911 - loss: 3.2290 - val_accuracy: 0.4672 - val_loss: 3.1809 - learning_rate: 1.2960e-05\n",
      "Epoch 42/200\n",
      "\u001b[1m34/34\u001b[0m \u001b[32m━━━━━━━━━━━━━━━━━━━━\u001b[0m\u001b[37m\u001b[0m \u001b[1m1s\u001b[0m 18ms/step - accuracy: 0.4000 - loss: 3.1881 - val_accuracy: 0.4709 - val_loss: 3.1335 - learning_rate: 1.2960e-05\n",
      "Epoch 43/200\n",
      "\u001b[1m34/34\u001b[0m \u001b[32m━━━━━━━━━━━━━━━━━━━━\u001b[0m\u001b[37m\u001b[0m \u001b[1m1s\u001b[0m 18ms/step - accuracy: 0.4033 - loss: 3.1341 - val_accuracy: 0.4709 - val_loss: 3.0870 - learning_rate: 1.2960e-05\n",
      "Epoch 44/200\n",
      "\u001b[1m34/34\u001b[0m \u001b[32m━━━━━━━━━━━━━━━━━━━━\u001b[0m\u001b[37m\u001b[0m \u001b[1m1s\u001b[0m 18ms/step - accuracy: 0.4067 - loss: 3.0865 - val_accuracy: 0.4681 - val_loss: 3.0413 - learning_rate: 1.2960e-05\n",
      "Epoch 45/200\n",
      "\u001b[1m34/34\u001b[0m \u001b[32m━━━━━━━━━━━━━━━━━━━━\u001b[0m\u001b[37m\u001b[0m \u001b[1m1s\u001b[0m 18ms/step - accuracy: 0.4093 - loss: 3.0443 - val_accuracy: 0.4686 - val_loss: 2.9961 - learning_rate: 1.2960e-05\n",
      "Epoch 46/200\n",
      "\u001b[1m34/34\u001b[0m \u001b[32m━━━━━━━━━━━━━━━━━━━━\u001b[0m\u001b[37m\u001b[0m \u001b[1m1s\u001b[0m 18ms/step - accuracy: 0.4029 - loss: 3.0034 - val_accuracy: 0.4700 - val_loss: 2.9517 - learning_rate: 1.2960e-05\n",
      "Epoch 47/200\n",
      "\u001b[1m34/34\u001b[0m \u001b[32m━━━━━━━━━━━━━━━━━━━━\u001b[0m\u001b[37m\u001b[0m \u001b[1m1s\u001b[0m 18ms/step - accuracy: 0.4070 - loss: 2.9497 - val_accuracy: 0.4723 - val_loss: 2.9085 - learning_rate: 1.2960e-05\n",
      "Epoch 48/200\n",
      "\u001b[1m34/34\u001b[0m \u001b[32m━━━━━━━━━━━━━━━━━━━━\u001b[0m\u001b[37m\u001b[0m \u001b[1m1s\u001b[0m 18ms/step - accuracy: 0.4146 - loss: 2.9104 - val_accuracy: 0.4718 - val_loss: 2.8659 - learning_rate: 1.2960e-05\n",
      "Epoch 49/200\n",
      "\u001b[1m34/34\u001b[0m \u001b[32m━━━━━━━━━━━━━━━━━━━━\u001b[0m\u001b[37m\u001b[0m \u001b[1m1s\u001b[0m 19ms/step - accuracy: 0.4155 - loss: 2.8698 - val_accuracy: 0.4714 - val_loss: 2.8243 - learning_rate: 1.2960e-05\n",
      "Epoch 50/200\n",
      "\u001b[1m34/34\u001b[0m \u001b[32m━━━━━━━━━━━━━━━━━━━━\u001b[0m\u001b[37m\u001b[0m \u001b[1m1s\u001b[0m 19ms/step - accuracy: 0.4151 - loss: 2.8329 - val_accuracy: 0.4718 - val_loss: 2.7988 - learning_rate: 7.7760e-06\n",
      "Epoch 51/200\n",
      "\u001b[1m34/34\u001b[0m \u001b[32m━━━━━━━━━━━━━━━━━━━━\u001b[0m\u001b[37m\u001b[0m \u001b[1m1s\u001b[0m 19ms/step - accuracy: 0.4078 - loss: 2.8062 - val_accuracy: 0.4755 - val_loss: 2.7737 - learning_rate: 7.7760e-06\n",
      "Epoch 52/200\n",
      "\u001b[1m34/34\u001b[0m \u001b[32m━━━━━━━━━━━━━━━━━━━━\u001b[0m\u001b[37m\u001b[0m \u001b[1m1s\u001b[0m 18ms/step - accuracy: 0.4214 - loss: 2.7827 - val_accuracy: 0.4760 - val_loss: 2.7490 - learning_rate: 7.7760e-06\n",
      "Epoch 53/200\n",
      "\u001b[1m34/34\u001b[0m \u001b[32m━━━━━━━━━━━━━━━━━━━━\u001b[0m\u001b[37m\u001b[0m \u001b[1m1s\u001b[0m 18ms/step - accuracy: 0.4192 - loss: 2.7543 - val_accuracy: 0.4783 - val_loss: 2.7249 - learning_rate: 7.7760e-06\n",
      "Epoch 54/200\n",
      "\u001b[1m34/34\u001b[0m \u001b[32m━━━━━━━━━━━━━━━━━━━━\u001b[0m\u001b[37m\u001b[0m \u001b[1m1s\u001b[0m 19ms/step - accuracy: 0.4184 - loss: 2.7308 - val_accuracy: 0.4797 - val_loss: 2.7009 - learning_rate: 7.7760e-06\n",
      "Epoch 55/200\n",
      "\u001b[1m34/34\u001b[0m \u001b[32m━━━━━━━━━━━━━━━━━━━━\u001b[0m\u001b[37m\u001b[0m \u001b[1m1s\u001b[0m 19ms/step - accuracy: 0.4177 - loss: 2.7101 - val_accuracy: 0.4807 - val_loss: 2.6773 - learning_rate: 7.7760e-06\n",
      "Epoch 56/200\n",
      "\u001b[1m34/34\u001b[0m \u001b[32m━━━━━━━━━━━━━━━━━━━━\u001b[0m\u001b[37m\u001b[0m \u001b[1m1s\u001b[0m 19ms/step - accuracy: 0.4181 - loss: 2.6840 - val_accuracy: 0.4816 - val_loss: 2.6537 - learning_rate: 7.7760e-06\n",
      "Epoch 57/200\n",
      "\u001b[1m34/34\u001b[0m \u001b[32m━━━━━━━━━━━━━━━━━━━━\u001b[0m\u001b[37m\u001b[0m \u001b[1m1s\u001b[0m 19ms/step - accuracy: 0.4295 - loss: 2.6600 - val_accuracy: 0.4825 - val_loss: 2.6304 - learning_rate: 7.7760e-06\n",
      "Epoch 58/200\n",
      "\u001b[1m34/34\u001b[0m \u001b[32m━━━━━━━━━━━━━━━━━━━━\u001b[0m\u001b[37m\u001b[0m \u001b[1m1s\u001b[0m 19ms/step - accuracy: 0.4290 - loss: 2.6338 - val_accuracy: 0.4830 - val_loss: 2.6071 - learning_rate: 7.7760e-06\n",
      "Epoch 59/200\n",
      "\u001b[1m34/34\u001b[0m \u001b[32m━━━━━━━━━━━━━━━━━━━━\u001b[0m\u001b[37m\u001b[0m \u001b[1m1s\u001b[0m 18ms/step - accuracy: 0.4164 - loss: 2.6169 - val_accuracy: 0.4839 - val_loss: 2.5842 - learning_rate: 7.7760e-06\n",
      "Epoch 60/200\n",
      "\u001b[1m34/34\u001b[0m \u001b[32m━━━━━━━━━━━━━━━━━━━━\u001b[0m\u001b[37m\u001b[0m \u001b[1m1s\u001b[0m 18ms/step - accuracy: 0.4300 - loss: 2.5960 - val_accuracy: 0.4839 - val_loss: 2.5701 - learning_rate: 4.6656e-06\n",
      "Epoch 61/200\n",
      "\u001b[1m34/34\u001b[0m \u001b[32m━━━━━━━━━━━━━━━━━━━━\u001b[0m\u001b[37m\u001b[0m \u001b[1m1s\u001b[0m 19ms/step - accuracy: 0.4364 - loss: 2.5768 - val_accuracy: 0.4830 - val_loss: 2.5563 - learning_rate: 4.6656e-06\n",
      "Epoch 62/200\n",
      "\u001b[1m34/34\u001b[0m \u001b[32m━━━━━━━━━━━━━━━━━━━━\u001b[0m\u001b[37m\u001b[0m \u001b[1m1s\u001b[0m 18ms/step - accuracy: 0.4380 - loss: 2.5576 - val_accuracy: 0.4830 - val_loss: 2.5427 - learning_rate: 4.6656e-06\n",
      "Epoch 63/200\n",
      "\u001b[1m34/34\u001b[0m \u001b[32m━━━━━━━━━━━━━━━━━━━━\u001b[0m\u001b[37m\u001b[0m \u001b[1m1s\u001b[0m 18ms/step - accuracy: 0.4326 - loss: 2.5463 - val_accuracy: 0.4830 - val_loss: 2.5292 - learning_rate: 4.6656e-06\n",
      "Epoch 64/200\n",
      "\u001b[1m34/34\u001b[0m \u001b[32m━━━━━━━━━━━━━━━━━━━━\u001b[0m\u001b[37m\u001b[0m \u001b[1m1s\u001b[0m 18ms/step - accuracy: 0.4330 - loss: 2.5372 - val_accuracy: 0.4802 - val_loss: 2.5158 - learning_rate: 4.6656e-06\n",
      "Epoch 65/200\n",
      "\u001b[1m34/34\u001b[0m \u001b[32m━━━━━━━━━━━━━━━━━━━━\u001b[0m\u001b[37m\u001b[0m \u001b[1m1s\u001b[0m 19ms/step - accuracy: 0.4364 - loss: 2.5247 - val_accuracy: 0.4821 - val_loss: 2.5025 - learning_rate: 4.6656e-06\n",
      "Epoch 66/200\n",
      "\u001b[1m34/34\u001b[0m \u001b[32m━━━━━━━━━━━━━━━━━━━━\u001b[0m\u001b[37m\u001b[0m \u001b[1m1s\u001b[0m 19ms/step - accuracy: 0.4504 - loss: 2.5039 - val_accuracy: 0.4811 - val_loss: 2.4893 - learning_rate: 4.6656e-06\n",
      "Epoch 67/200\n",
      "\u001b[1m34/34\u001b[0m \u001b[32m━━━━━━━━━━━━━━━━━━━━\u001b[0m\u001b[37m\u001b[0m \u001b[1m1s\u001b[0m 19ms/step - accuracy: 0.4458 - loss: 2.4927 - val_accuracy: 0.4821 - val_loss: 2.4762 - learning_rate: 4.6656e-06\n",
      "Epoch 68/200\n",
      "\u001b[1m34/34\u001b[0m \u001b[32m━━━━━━━━━━━━━━━━━━━━\u001b[0m\u001b[37m\u001b[0m \u001b[1m1s\u001b[0m 18ms/step - accuracy: 0.4367 - loss: 2.4852 - val_accuracy: 0.4811 - val_loss: 2.4630 - learning_rate: 4.6656e-06\n",
      "Epoch 69/200\n",
      "\u001b[1m34/34\u001b[0m \u001b[32m━━━━━━━━━━━━━━━━━━━━\u001b[0m\u001b[37m\u001b[0m \u001b[1m1s\u001b[0m 19ms/step - accuracy: 0.4439 - loss: 2.4678 - val_accuracy: 0.4821 - val_loss: 2.4499 - learning_rate: 4.6656e-06\n",
      "Epoch 70/200\n",
      "\u001b[1m34/34\u001b[0m \u001b[32m━━━━━━━━━━━━━━━━━━━━\u001b[0m\u001b[37m\u001b[0m \u001b[1m1s\u001b[0m 18ms/step - accuracy: 0.4368 - loss: 2.4576 - val_accuracy: 0.4821 - val_loss: 2.4416 - learning_rate: 2.7994e-06\n",
      "Epoch 71/200\n",
      "\u001b[1m34/34\u001b[0m \u001b[32m━━━━━━━━━━━━━━━━━━━━\u001b[0m\u001b[37m\u001b[0m \u001b[1m1s\u001b[0m 19ms/step - accuracy: 0.4296 - loss: 2.4516 - val_accuracy: 0.4825 - val_loss: 2.4337 - learning_rate: 2.7994e-06\n",
      "Epoch 72/200\n",
      "\u001b[1m34/34\u001b[0m \u001b[32m━━━━━━━━━━━━━━━━━━━━\u001b[0m\u001b[37m\u001b[0m \u001b[1m1s\u001b[0m 19ms/step - accuracy: 0.4365 - loss: 2.4418 - val_accuracy: 0.4825 - val_loss: 2.4260 - learning_rate: 2.7994e-06\n",
      "Epoch 73/200\n",
      "\u001b[1m34/34\u001b[0m \u001b[32m━━━━━━━━━━━━━━━━━━━━\u001b[0m\u001b[37m\u001b[0m \u001b[1m1s\u001b[0m 18ms/step - accuracy: 0.4329 - loss: 2.4369 - val_accuracy: 0.4825 - val_loss: 2.4181 - learning_rate: 2.7994e-06\n",
      "Epoch 74/200\n",
      "\u001b[1m34/34\u001b[0m \u001b[32m━━━━━━━━━━━━━━━━━━━━\u001b[0m\u001b[37m\u001b[0m \u001b[1m1s\u001b[0m 19ms/step - accuracy: 0.4618 - loss: 2.4182 - val_accuracy: 0.4825 - val_loss: 2.4103 - learning_rate: 2.7994e-06\n",
      "Epoch 75/200\n",
      "\u001b[1m34/34\u001b[0m \u001b[32m━━━━━━━━━━━━━━━━━━━━\u001b[0m\u001b[37m\u001b[0m \u001b[1m1s\u001b[0m 19ms/step - accuracy: 0.4217 - loss: 2.4165 - val_accuracy: 0.4835 - val_loss: 2.4024 - learning_rate: 2.7994e-06\n",
      "Epoch 76/200\n",
      "\u001b[1m34/34\u001b[0m \u001b[32m━━━━━━━━━━━━━━━━━━━━\u001b[0m\u001b[37m\u001b[0m \u001b[1m1s\u001b[0m 18ms/step - accuracy: 0.4479 - loss: 2.4038 - val_accuracy: 0.4839 - val_loss: 2.3947 - learning_rate: 2.7994e-06\n",
      "Epoch 77/200\n",
      "\u001b[1m34/34\u001b[0m \u001b[32m━━━━━━━━━━━━━━━━━━━━\u001b[0m\u001b[37m\u001b[0m \u001b[1m1s\u001b[0m 19ms/step - accuracy: 0.4449 - loss: 2.4004 - val_accuracy: 0.4844 - val_loss: 2.3871 - learning_rate: 2.7994e-06\n",
      "Epoch 78/200\n",
      "\u001b[1m34/34\u001b[0m \u001b[32m━━━━━━━━━━━━━━━━━━━━\u001b[0m\u001b[37m\u001b[0m \u001b[1m1s\u001b[0m 19ms/step - accuracy: 0.4456 - loss: 2.3919 - val_accuracy: 0.4835 - val_loss: 2.3793 - learning_rate: 2.7994e-06\n",
      "Epoch 79/200\n",
      "\u001b[1m34/34\u001b[0m \u001b[32m━━━━━━━━━━━━━━━━━━━━\u001b[0m\u001b[37m\u001b[0m \u001b[1m1s\u001b[0m 18ms/step - accuracy: 0.4479 - loss: 2.3888 - val_accuracy: 0.4839 - val_loss: 2.3718 - learning_rate: 2.7994e-06\n",
      "Epoch 80/200\n",
      "\u001b[1m34/34\u001b[0m \u001b[32m━━━━━━━━━━━━━━━━━━━━\u001b[0m\u001b[37m\u001b[0m \u001b[1m1s\u001b[0m 19ms/step - accuracy: 0.4437 - loss: 2.3816 - val_accuracy: 0.4825 - val_loss: 2.3671 - learning_rate: 1.6796e-06\n",
      "Epoch 81/200\n",
      "\u001b[1m34/34\u001b[0m \u001b[32m━━━━━━━━━━━━━━━━━━━━\u001b[0m\u001b[37m\u001b[0m \u001b[1m1s\u001b[0m 18ms/step - accuracy: 0.4305 - loss: 2.3776 - val_accuracy: 0.4835 - val_loss: 2.3625 - learning_rate: 1.6796e-06\n",
      "Epoch 82/200\n",
      "\u001b[1m34/34\u001b[0m \u001b[32m━━━━━━━━━━━━━━━━━━━━\u001b[0m\u001b[37m\u001b[0m \u001b[1m1s\u001b[0m 19ms/step - accuracy: 0.4459 - loss: 2.3673 - val_accuracy: 0.4830 - val_loss: 2.3579 - learning_rate: 1.6796e-06\n",
      "Epoch 83/200\n",
      "\u001b[1m34/34\u001b[0m \u001b[32m━━━━━━━━━━━━━━━━━━━━\u001b[0m\u001b[37m\u001b[0m \u001b[1m1s\u001b[0m 18ms/step - accuracy: 0.4341 - loss: 2.3638 - val_accuracy: 0.4835 - val_loss: 2.3532 - learning_rate: 1.6796e-06\n",
      "Epoch 84/200\n",
      "\u001b[1m34/34\u001b[0m \u001b[32m━━━━━━━━━━━━━━━━━━━━\u001b[0m\u001b[37m\u001b[0m \u001b[1m1s\u001b[0m 18ms/step - accuracy: 0.4376 - loss: 2.3624 - val_accuracy: 0.4844 - val_loss: 2.3487 - learning_rate: 1.6796e-06\n",
      "Epoch 85/200\n",
      "\u001b[1m34/34\u001b[0m \u001b[32m━━━━━━━━━━━━━━━━━━━━\u001b[0m\u001b[37m\u001b[0m \u001b[1m1s\u001b[0m 19ms/step - accuracy: 0.4485 - loss: 2.3531 - val_accuracy: 0.4853 - val_loss: 2.3441 - learning_rate: 1.6796e-06\n",
      "Epoch 86/200\n",
      "\u001b[1m34/34\u001b[0m \u001b[32m━━━━━━━━━━━━━━━━━━━━\u001b[0m\u001b[37m\u001b[0m \u001b[1m1s\u001b[0m 19ms/step - accuracy: 0.4453 - loss: 2.3484 - val_accuracy: 0.4849 - val_loss: 2.3395 - learning_rate: 1.6796e-06\n",
      "Epoch 87/200\n",
      "\u001b[1m34/34\u001b[0m \u001b[32m━━━━━━━━━━━━━━━━━━━━\u001b[0m\u001b[37m\u001b[0m \u001b[1m1s\u001b[0m 18ms/step - accuracy: 0.4404 - loss: 2.3487 - val_accuracy: 0.4839 - val_loss: 2.3349 - learning_rate: 1.6796e-06\n",
      "Epoch 88/200\n",
      "\u001b[1m34/34\u001b[0m \u001b[32m━━━━━━━━━━━━━━━━━━━━\u001b[0m\u001b[37m\u001b[0m \u001b[1m1s\u001b[0m 19ms/step - accuracy: 0.4506 - loss: 2.3437 - val_accuracy: 0.4844 - val_loss: 2.3303 - learning_rate: 1.6796e-06\n",
      "Epoch 89/200\n",
      "\u001b[1m34/34\u001b[0m \u001b[32m━━━━━━━━━━━━━━━━━━━━\u001b[0m\u001b[37m\u001b[0m \u001b[1m1s\u001b[0m 19ms/step - accuracy: 0.4458 - loss: 2.3376 - val_accuracy: 0.4853 - val_loss: 2.3259 - learning_rate: 1.6796e-06\n",
      "Epoch 90/200\n",
      "\u001b[1m34/34\u001b[0m \u001b[32m━━━━━━━━━━━━━━━━━━━━\u001b[0m\u001b[37m\u001b[0m \u001b[1m1s\u001b[0m 18ms/step - accuracy: 0.4457 - loss: 2.3316 - val_accuracy: 0.4844 - val_loss: 2.3230 - learning_rate: 1.0078e-06\n",
      "Epoch 91/200\n",
      "\u001b[1m34/34\u001b[0m \u001b[32m━━━━━━━━━━━━━━━━━━━━\u001b[0m\u001b[37m\u001b[0m \u001b[1m1s\u001b[0m 18ms/step - accuracy: 0.4450 - loss: 2.3310 - val_accuracy: 0.4844 - val_loss: 2.3202 - learning_rate: 1.0078e-06\n",
      "Epoch 92/200\n",
      "\u001b[1m34/34\u001b[0m \u001b[32m━━━━━━━━━━━━━━━━━━━━\u001b[0m\u001b[37m\u001b[0m \u001b[1m1s\u001b[0m 19ms/step - accuracy: 0.4488 - loss: 2.3265 - val_accuracy: 0.4849 - val_loss: 2.3175 - learning_rate: 1.0078e-06\n",
      "Epoch 93/200\n",
      "\u001b[1m34/34\u001b[0m \u001b[32m━━━━━━━━━━━━━━━━━━━━\u001b[0m\u001b[37m\u001b[0m \u001b[1m1s\u001b[0m 18ms/step - accuracy: 0.4550 - loss: 2.3217 - val_accuracy: 0.4844 - val_loss: 2.3148 - learning_rate: 1.0078e-06\n",
      "Epoch 94/200\n",
      "\u001b[1m34/34\u001b[0m \u001b[32m━━━━━━━━━━━━━━━━━━━━\u001b[0m\u001b[37m\u001b[0m \u001b[1m1s\u001b[0m 18ms/step - accuracy: 0.4369 - loss: 2.3222 - val_accuracy: 0.4844 - val_loss: 2.3121 - learning_rate: 1.0078e-06\n",
      "Epoch 95/200\n",
      "\u001b[1m34/34\u001b[0m \u001b[32m━━━━━━━━━━━━━━━━━━━━\u001b[0m\u001b[37m\u001b[0m \u001b[1m1s\u001b[0m 19ms/step - accuracy: 0.4487 - loss: 2.3183 - val_accuracy: 0.4844 - val_loss: 2.3095 - learning_rate: 1.0078e-06\n",
      "Epoch 96/200\n",
      "\u001b[1m34/34\u001b[0m \u001b[32m━━━━━━━━━━━━━━━━━━━━\u001b[0m\u001b[37m\u001b[0m \u001b[1m1s\u001b[0m 18ms/step - accuracy: 0.4448 - loss: 2.3174 - val_accuracy: 0.4849 - val_loss: 2.3069 - learning_rate: 1.0078e-06\n",
      "Epoch 97/200\n",
      "\u001b[1m34/34\u001b[0m \u001b[32m━━━━━━━━━━━━━━━━━━━━\u001b[0m\u001b[37m\u001b[0m \u001b[1m1s\u001b[0m 18ms/step - accuracy: 0.4437 - loss: 2.3171 - val_accuracy: 0.4849 - val_loss: 2.3041 - learning_rate: 1.0078e-06\n",
      "Epoch 98/200\n",
      "\u001b[1m34/34\u001b[0m \u001b[32m━━━━━━━━━━━━━━━━━━━━\u001b[0m\u001b[37m\u001b[0m \u001b[1m1s\u001b[0m 19ms/step - accuracy: 0.4498 - loss: 2.3087 - val_accuracy: 0.4858 - val_loss: 2.3014 - learning_rate: 1.0078e-06\n",
      "Epoch 99/200\n",
      "\u001b[1m34/34\u001b[0m \u001b[32m━━━━━━━━━━━━━━━━━━━━\u001b[0m\u001b[37m\u001b[0m \u001b[1m1s\u001b[0m 19ms/step - accuracy: 0.4585 - loss: 2.3059 - val_accuracy: 0.4858 - val_loss: 2.2986 - learning_rate: 1.0078e-06\n",
      "Epoch 100/200\n",
      "\u001b[1m34/34\u001b[0m \u001b[32m━━━━━━━━━━━━━━━━━━━━\u001b[0m\u001b[37m\u001b[0m \u001b[1m1s\u001b[0m 19ms/step - accuracy: 0.4448 - loss: 2.3026 - val_accuracy: 0.4853 - val_loss: 2.2958 - learning_rate: 1.0000e-06\n",
      "Epoch 101/200\n",
      "\u001b[1m34/34\u001b[0m \u001b[32m━━━━━━━━━━━━━━━━━━━━\u001b[0m\u001b[37m\u001b[0m \u001b[1m1s\u001b[0m 18ms/step - accuracy: 0.4551 - loss: 2.3038 - val_accuracy: 0.4853 - val_loss: 2.2931 - learning_rate: 1.0000e-06\n",
      "Epoch 102/200\n",
      "\u001b[1m34/34\u001b[0m \u001b[32m━━━━━━━━━━━━━━━━━━━━\u001b[0m\u001b[37m\u001b[0m \u001b[1m1s\u001b[0m 18ms/step - accuracy: 0.4484 - loss: 2.2985 - val_accuracy: 0.4839 - val_loss: 2.2902 - learning_rate: 1.0000e-06\n",
      "Epoch 103/200\n",
      "\u001b[1m34/34\u001b[0m \u001b[32m━━━━━━━━━━━━━━━━━━━━\u001b[0m\u001b[37m\u001b[0m \u001b[1m1s\u001b[0m 19ms/step - accuracy: 0.4573 - loss: 2.2952 - val_accuracy: 0.4839 - val_loss: 2.2876 - learning_rate: 1.0000e-06\n",
      "Epoch 104/200\n",
      "\u001b[1m34/34\u001b[0m \u001b[32m━━━━━━━━━━━━━━━━━━━━\u001b[0m\u001b[37m\u001b[0m \u001b[1m1s\u001b[0m 19ms/step - accuracy: 0.4519 - loss: 2.2925 - val_accuracy: 0.4839 - val_loss: 2.2850 - learning_rate: 1.0000e-06\n",
      "Epoch 105/200\n",
      "\u001b[1m34/34\u001b[0m \u001b[32m━━━━━━━━━━━━━━━━━━━━\u001b[0m\u001b[37m\u001b[0m \u001b[1m1s\u001b[0m 18ms/step - accuracy: 0.4403 - loss: 2.2953 - val_accuracy: 0.4844 - val_loss: 2.2824 - learning_rate: 1.0000e-06\n",
      "Epoch 106/200\n",
      "\u001b[1m34/34\u001b[0m \u001b[32m━━━━━━━━━━━━━━━━━━━━\u001b[0m\u001b[37m\u001b[0m \u001b[1m1s\u001b[0m 18ms/step - accuracy: 0.4397 - loss: 2.2797 - val_accuracy: 0.4853 - val_loss: 2.2798 - learning_rate: 1.0000e-06\n",
      "Epoch 107/200\n",
      "\u001b[1m34/34\u001b[0m \u001b[32m━━━━━━━━━━━━━━━━━━━━\u001b[0m\u001b[37m\u001b[0m \u001b[1m1s\u001b[0m 18ms/step - accuracy: 0.4450 - loss: 2.2868 - val_accuracy: 0.4849 - val_loss: 2.2771 - learning_rate: 1.0000e-06\n",
      "Epoch 108/200\n",
      "\u001b[1m34/34\u001b[0m \u001b[32m━━━━━━━━━━━━━━━━━━━━\u001b[0m\u001b[37m\u001b[0m \u001b[1m1s\u001b[0m 18ms/step - accuracy: 0.4521 - loss: 2.2819 - val_accuracy: 0.4853 - val_loss: 2.2745 - learning_rate: 1.0000e-06\n",
      "Epoch 109/200\n",
      "\u001b[1m34/34\u001b[0m \u001b[32m━━━━━━━━━━━━━━━━━━━━\u001b[0m\u001b[37m\u001b[0m \u001b[1m1s\u001b[0m 18ms/step - accuracy: 0.4574 - loss: 2.2809 - val_accuracy: 0.4867 - val_loss: 2.2719 - learning_rate: 1.0000e-06\n",
      "Epoch 110/200\n",
      "\u001b[1m34/34\u001b[0m \u001b[32m━━━━━━━━━━━━━━━━━━━━\u001b[0m\u001b[37m\u001b[0m \u001b[1m1s\u001b[0m 19ms/step - accuracy: 0.4519 - loss: 2.2759 - val_accuracy: 0.4867 - val_loss: 2.2693 - learning_rate: 1.0000e-06\n",
      "Epoch 111/200\n",
      "\u001b[1m34/34\u001b[0m \u001b[32m━━━━━━━━━━━━━━━━━━━━\u001b[0m\u001b[37m\u001b[0m \u001b[1m1s\u001b[0m 19ms/step - accuracy: 0.4457 - loss: 2.2765 - val_accuracy: 0.4844 - val_loss: 2.2665 - learning_rate: 1.0000e-06\n",
      "Epoch 112/200\n",
      "\u001b[1m34/34\u001b[0m \u001b[32m━━━━━━━━━━━━━━━━━━━━\u001b[0m\u001b[37m\u001b[0m \u001b[1m1s\u001b[0m 19ms/step - accuracy: 0.4505 - loss: 2.2724 - val_accuracy: 0.4849 - val_loss: 2.2638 - learning_rate: 1.0000e-06\n",
      "Epoch 113/200\n",
      "\u001b[1m34/34\u001b[0m \u001b[32m━━━━━━━━━━━━━━━━━━━━\u001b[0m\u001b[37m\u001b[0m \u001b[1m1s\u001b[0m 18ms/step - accuracy: 0.4530 - loss: 2.2695 - val_accuracy: 0.4844 - val_loss: 2.2612 - learning_rate: 1.0000e-06\n",
      "Epoch 114/200\n",
      "\u001b[1m34/34\u001b[0m \u001b[32m━━━━━━━━━━━━━━━━━━━━\u001b[0m\u001b[37m\u001b[0m \u001b[1m1s\u001b[0m 18ms/step - accuracy: 0.4580 - loss: 2.2640 - val_accuracy: 0.4853 - val_loss: 2.2585 - learning_rate: 1.0000e-06\n",
      "Epoch 115/200\n",
      "\u001b[1m34/34\u001b[0m \u001b[32m━━━━━━━━━━━━━━━━━━━━\u001b[0m\u001b[37m\u001b[0m \u001b[1m1s\u001b[0m 18ms/step - accuracy: 0.4521 - loss: 2.2647 - val_accuracy: 0.4853 - val_loss: 2.2559 - learning_rate: 1.0000e-06\n",
      "Epoch 116/200\n",
      "\u001b[1m34/34\u001b[0m \u001b[32m━━━━━━━━━━━━━━━━━━━━\u001b[0m\u001b[37m\u001b[0m \u001b[1m1s\u001b[0m 18ms/step - accuracy: 0.4530 - loss: 2.2657 - val_accuracy: 0.4863 - val_loss: 2.2533 - learning_rate: 1.0000e-06\n",
      "Epoch 117/200\n",
      "\u001b[1m34/34\u001b[0m \u001b[32m━━━━━━━━━━━━━━━━━━━━\u001b[0m\u001b[37m\u001b[0m \u001b[1m1s\u001b[0m 18ms/step - accuracy: 0.4482 - loss: 2.2593 - val_accuracy: 0.4844 - val_loss: 2.2506 - learning_rate: 1.0000e-06\n",
      "Epoch 118/200\n",
      "\u001b[1m34/34\u001b[0m \u001b[32m━━━━━━━━━━━━━━━━━━━━\u001b[0m\u001b[37m\u001b[0m \u001b[1m1s\u001b[0m 18ms/step - accuracy: 0.4502 - loss: 2.2594 - val_accuracy: 0.4858 - val_loss: 2.2480 - learning_rate: 1.0000e-06\n",
      "Epoch 119/200\n",
      "\u001b[1m34/34\u001b[0m \u001b[32m━━━━━━━━━━━━━━━━━━━━\u001b[0m\u001b[37m\u001b[0m \u001b[1m1s\u001b[0m 19ms/step - accuracy: 0.4581 - loss: 2.2502 - val_accuracy: 0.4849 - val_loss: 2.2453 - learning_rate: 1.0000e-06\n",
      "Epoch 120/200\n",
      "\u001b[1m34/34\u001b[0m \u001b[32m━━━━━━━━━━━━━━━━━━━━\u001b[0m\u001b[37m\u001b[0m \u001b[1m1s\u001b[0m 18ms/step - accuracy: 0.4419 - loss: 2.2528 - val_accuracy: 0.4853 - val_loss: 2.2427 - learning_rate: 1.0000e-06\n",
      "Epoch 121/200\n",
      "\u001b[1m34/34\u001b[0m \u001b[32m━━━━━━━━━━━━━━━━━━━━\u001b[0m\u001b[37m\u001b[0m \u001b[1m1s\u001b[0m 18ms/step - accuracy: 0.4459 - loss: 2.2508 - val_accuracy: 0.4853 - val_loss: 2.2402 - learning_rate: 1.0000e-06\n",
      "Epoch 122/200\n",
      "\u001b[1m34/34\u001b[0m \u001b[32m━━━━━━━━━━━━━━━━━━━━\u001b[0m\u001b[37m\u001b[0m \u001b[1m1s\u001b[0m 19ms/step - accuracy: 0.4504 - loss: 2.2450 - val_accuracy: 0.4858 - val_loss: 2.2375 - learning_rate: 1.0000e-06\n",
      "Epoch 123/200\n",
      "\u001b[1m34/34\u001b[0m \u001b[32m━━━━━━━━━━━━━━━━━━━━\u001b[0m\u001b[37m\u001b[0m \u001b[1m1s\u001b[0m 19ms/step - accuracy: 0.4465 - loss: 2.2452 - val_accuracy: 0.4849 - val_loss: 2.2349 - learning_rate: 1.0000e-06\n",
      "Epoch 124/200\n",
      "\u001b[1m34/34\u001b[0m \u001b[32m━━━━━━━━━━━━━━━━━━━━\u001b[0m\u001b[37m\u001b[0m \u001b[1m1s\u001b[0m 19ms/step - accuracy: 0.4462 - loss: 2.2395 - val_accuracy: 0.4835 - val_loss: 2.2322 - learning_rate: 1.0000e-06\n",
      "Epoch 125/200\n",
      "\u001b[1m34/34\u001b[0m \u001b[32m━━━━━━━━━━━━━━━━━━━━\u001b[0m\u001b[37m\u001b[0m \u001b[1m1s\u001b[0m 18ms/step - accuracy: 0.4513 - loss: 2.2376 - val_accuracy: 0.4839 - val_loss: 2.2297 - learning_rate: 1.0000e-06\n",
      "Epoch 126/200\n",
      "\u001b[1m34/34\u001b[0m \u001b[32m━━━━━━━━━━━━━━━━━━━━\u001b[0m\u001b[37m\u001b[0m \u001b[1m1s\u001b[0m 18ms/step - accuracy: 0.4567 - loss: 2.2339 - val_accuracy: 0.4844 - val_loss: 2.2271 - learning_rate: 1.0000e-06\n",
      "Epoch 127/200\n",
      "\u001b[1m34/34\u001b[0m \u001b[32m━━━━━━━━━━━━━━━━━━━━\u001b[0m\u001b[37m\u001b[0m \u001b[1m1s\u001b[0m 19ms/step - accuracy: 0.4617 - loss: 2.2287 - val_accuracy: 0.4839 - val_loss: 2.2245 - learning_rate: 1.0000e-06\n",
      "Epoch 128/200\n",
      "\u001b[1m34/34\u001b[0m \u001b[32m━━━━━━━━━━━━━━━━━━━━\u001b[0m\u001b[37m\u001b[0m \u001b[1m1s\u001b[0m 19ms/step - accuracy: 0.4509 - loss: 2.2291 - val_accuracy: 0.4844 - val_loss: 2.2220 - learning_rate: 1.0000e-06\n",
      "Epoch 129/200\n",
      "\u001b[1m34/34\u001b[0m \u001b[32m━━━━━━━━━━━━━━━━━━━━\u001b[0m\u001b[37m\u001b[0m \u001b[1m1s\u001b[0m 19ms/step - accuracy: 0.4564 - loss: 2.2249 - val_accuracy: 0.4839 - val_loss: 2.2193 - learning_rate: 1.0000e-06\n",
      "Epoch 130/200\n",
      "\u001b[1m34/34\u001b[0m \u001b[32m━━━━━━━━━━━━━━━━━━━━\u001b[0m\u001b[37m\u001b[0m \u001b[1m1s\u001b[0m 19ms/step - accuracy: 0.4630 - loss: 2.2248 - val_accuracy: 0.4835 - val_loss: 2.2167 - learning_rate: 1.0000e-06\n",
      "Epoch 131/200\n",
      "\u001b[1m34/34\u001b[0m \u001b[32m━━━━━━━━━━━━━━━━━━━━\u001b[0m\u001b[37m\u001b[0m \u001b[1m1s\u001b[0m 19ms/step - accuracy: 0.4627 - loss: 2.2170 - val_accuracy: 0.4835 - val_loss: 2.2140 - learning_rate: 1.0000e-06\n",
      "Epoch 132/200\n",
      "\u001b[1m34/34\u001b[0m \u001b[32m━━━━━━━━━━━━━━━━━━━━\u001b[0m\u001b[37m\u001b[0m \u001b[1m1s\u001b[0m 19ms/step - accuracy: 0.4566 - loss: 2.2200 - val_accuracy: 0.4844 - val_loss: 2.2114 - learning_rate: 1.0000e-06\n",
      "Epoch 133/200\n",
      "\u001b[1m34/34\u001b[0m \u001b[32m━━━━━━━━━━━━━━━━━━━━\u001b[0m\u001b[37m\u001b[0m \u001b[1m1s\u001b[0m 18ms/step - accuracy: 0.4506 - loss: 2.2170 - val_accuracy: 0.4844 - val_loss: 2.2088 - learning_rate: 1.0000e-06\n",
      "Epoch 134/200\n",
      "\u001b[1m34/34\u001b[0m \u001b[32m━━━━━━━━━━━━━━━━━━━━\u001b[0m\u001b[37m\u001b[0m \u001b[1m1s\u001b[0m 18ms/step - accuracy: 0.4603 - loss: 2.2109 - val_accuracy: 0.4844 - val_loss: 2.2061 - learning_rate: 1.0000e-06\n",
      "Epoch 135/200\n",
      "\u001b[1m34/34\u001b[0m \u001b[32m━━━━━━━━━━━━━━━━━━━━\u001b[0m\u001b[37m\u001b[0m \u001b[1m1s\u001b[0m 19ms/step - accuracy: 0.4468 - loss: 2.2116 - val_accuracy: 0.4835 - val_loss: 2.2035 - learning_rate: 1.0000e-06\n",
      "Epoch 136/200\n",
      "\u001b[1m34/34\u001b[0m \u001b[32m━━━━━━━━━━━━━━━━━━━━\u001b[0m\u001b[37m\u001b[0m \u001b[1m1s\u001b[0m 18ms/step - accuracy: 0.4517 - loss: 2.2069 - val_accuracy: 0.4825 - val_loss: 2.2009 - learning_rate: 1.0000e-06\n",
      "Epoch 137/200\n",
      "\u001b[1m34/34\u001b[0m \u001b[32m━━━━━━━━━━━━━━━━━━━━\u001b[0m\u001b[37m\u001b[0m \u001b[1m1s\u001b[0m 18ms/step - accuracy: 0.4579 - loss: 2.2061 - val_accuracy: 0.4839 - val_loss: 2.1983 - learning_rate: 1.0000e-06\n",
      "Epoch 138/200\n",
      "\u001b[1m34/34\u001b[0m \u001b[32m━━━━━━━━━━━━━━━━━━━━\u001b[0m\u001b[37m\u001b[0m \u001b[1m1s\u001b[0m 19ms/step - accuracy: 0.4553 - loss: 2.2083 - val_accuracy: 0.4844 - val_loss: 2.1957 - learning_rate: 1.0000e-06\n",
      "Epoch 139/200\n",
      "\u001b[1m34/34\u001b[0m \u001b[32m━━━━━━━━━━━━━━━━━━━━\u001b[0m\u001b[37m\u001b[0m \u001b[1m1s\u001b[0m 19ms/step - accuracy: 0.4634 - loss: 2.1990 - val_accuracy: 0.4849 - val_loss: 2.1932 - learning_rate: 1.0000e-06\n",
      "Epoch 140/200\n",
      "\u001b[1m34/34\u001b[0m \u001b[32m━━━━━━━━━━━━━━━━━━━━\u001b[0m\u001b[37m\u001b[0m \u001b[1m1s\u001b[0m 18ms/step - accuracy: 0.4443 - loss: 2.1985 - val_accuracy: 0.4844 - val_loss: 2.1905 - learning_rate: 1.0000e-06\n",
      "Epoch 141/200\n",
      "\u001b[1m34/34\u001b[0m \u001b[32m━━━━━━━━━━━━━━━━━━━━\u001b[0m\u001b[37m\u001b[0m \u001b[1m1s\u001b[0m 18ms/step - accuracy: 0.4564 - loss: 2.1914 - val_accuracy: 0.4844 - val_loss: 2.1880 - learning_rate: 1.0000e-06\n",
      "Epoch 142/200\n",
      "\u001b[1m34/34\u001b[0m \u001b[32m━━━━━━━━━━━━━━━━━━━━\u001b[0m\u001b[37m\u001b[0m \u001b[1m1s\u001b[0m 18ms/step - accuracy: 0.4467 - loss: 2.1900 - val_accuracy: 0.4844 - val_loss: 2.1856 - learning_rate: 1.0000e-06\n",
      "Epoch 143/200\n",
      "\u001b[1m34/34\u001b[0m \u001b[32m━━━━━━━━━━━━━━━━━━━━\u001b[0m\u001b[37m\u001b[0m \u001b[1m1s\u001b[0m 18ms/step - accuracy: 0.4480 - loss: 2.1924 - val_accuracy: 0.4853 - val_loss: 2.1831 - learning_rate: 1.0000e-06\n",
      "Epoch 144/200\n",
      "\u001b[1m34/34\u001b[0m \u001b[32m━━━━━━━━━━━━━━━━━━━━\u001b[0m\u001b[37m\u001b[0m \u001b[1m1s\u001b[0m 19ms/step - accuracy: 0.4435 - loss: 2.1891 - val_accuracy: 0.4839 - val_loss: 2.1806 - learning_rate: 1.0000e-06\n",
      "Epoch 145/200\n",
      "\u001b[1m34/34\u001b[0m \u001b[32m━━━━━━━━━━━━━━━━━━━━\u001b[0m\u001b[37m\u001b[0m \u001b[1m1s\u001b[0m 19ms/step - accuracy: 0.4692 - loss: 2.1839 - val_accuracy: 0.4853 - val_loss: 2.1781 - learning_rate: 1.0000e-06\n",
      "Epoch 146/200\n",
      "\u001b[1m34/34\u001b[0m \u001b[32m━━━━━━━━━━━━━━━━━━━━\u001b[0m\u001b[37m\u001b[0m \u001b[1m1s\u001b[0m 19ms/step - accuracy: 0.4536 - loss: 2.1818 - val_accuracy: 0.4853 - val_loss: 2.1755 - learning_rate: 1.0000e-06\n",
      "Epoch 147/200\n",
      "\u001b[1m34/34\u001b[0m \u001b[32m━━━━━━━━━━━━━━━━━━━━\u001b[0m\u001b[37m\u001b[0m \u001b[1m1s\u001b[0m 18ms/step - accuracy: 0.4521 - loss: 2.1781 - val_accuracy: 0.4844 - val_loss: 2.1729 - learning_rate: 1.0000e-06\n",
      "Epoch 148/200\n",
      "\u001b[1m34/34\u001b[0m \u001b[32m━━━━━━━━━━━━━━━━━━━━\u001b[0m\u001b[37m\u001b[0m \u001b[1m1s\u001b[0m 18ms/step - accuracy: 0.4547 - loss: 2.1767 - val_accuracy: 0.4849 - val_loss: 2.1704 - learning_rate: 1.0000e-06\n",
      "Epoch 149/200\n",
      "\u001b[1m34/34\u001b[0m \u001b[32m━━━━━━━━━━━━━━━━━━━━\u001b[0m\u001b[37m\u001b[0m \u001b[1m1s\u001b[0m 18ms/step - accuracy: 0.4603 - loss: 2.1713 - val_accuracy: 0.4853 - val_loss: 2.1677 - learning_rate: 1.0000e-06\n",
      "Epoch 150/200\n",
      "\u001b[1m34/34\u001b[0m \u001b[32m━━━━━━━━━━━━━━━━━━━━\u001b[0m\u001b[37m\u001b[0m \u001b[1m1s\u001b[0m 19ms/step - accuracy: 0.4490 - loss: 2.1708 - val_accuracy: 0.4863 - val_loss: 2.1650 - learning_rate: 1.0000e-06\n",
      "Epoch 151/200\n",
      "\u001b[1m34/34\u001b[0m \u001b[32m━━━━━━━━━━━━━━━━━━━━\u001b[0m\u001b[37m\u001b[0m \u001b[1m1s\u001b[0m 18ms/step - accuracy: 0.4423 - loss: 2.1729 - val_accuracy: 0.4858 - val_loss: 2.1626 - learning_rate: 1.0000e-06\n",
      "Epoch 152/200\n",
      "\u001b[1m34/34\u001b[0m \u001b[32m━━━━━━━━━━━━━━━━━━━━\u001b[0m\u001b[37m\u001b[0m \u001b[1m1s\u001b[0m 18ms/step - accuracy: 0.4538 - loss: 2.1638 - val_accuracy: 0.4849 - val_loss: 2.1600 - learning_rate: 1.0000e-06\n",
      "Epoch 153/200\n",
      "\u001b[1m34/34\u001b[0m \u001b[32m━━━━━━━━━━━━━━━━━━━━\u001b[0m\u001b[37m\u001b[0m \u001b[1m1s\u001b[0m 18ms/step - accuracy: 0.4443 - loss: 2.1653 - val_accuracy: 0.4844 - val_loss: 2.1576 - learning_rate: 1.0000e-06\n",
      "Epoch 154/200\n",
      "\u001b[1m34/34\u001b[0m \u001b[32m━━━━━━━━━━━━━━━━━━━━\u001b[0m\u001b[37m\u001b[0m \u001b[1m1s\u001b[0m 18ms/step - accuracy: 0.4683 - loss: 2.1587 - val_accuracy: 0.4849 - val_loss: 2.1551 - learning_rate: 1.0000e-06\n",
      "Epoch 155/200\n",
      "\u001b[1m34/34\u001b[0m \u001b[32m━━━━━━━━━━━━━━━━━━━━\u001b[0m\u001b[37m\u001b[0m \u001b[1m1s\u001b[0m 19ms/step - accuracy: 0.4566 - loss: 2.1575 - val_accuracy: 0.4853 - val_loss: 2.1527 - learning_rate: 1.0000e-06\n",
      "Epoch 156/200\n",
      "\u001b[1m34/34\u001b[0m \u001b[32m━━━━━━━━━━━━━━━━━━━━\u001b[0m\u001b[37m\u001b[0m \u001b[1m1s\u001b[0m 18ms/step - accuracy: 0.4421 - loss: 2.1580 - val_accuracy: 0.4853 - val_loss: 2.1501 - learning_rate: 1.0000e-06\n",
      "Epoch 157/200\n",
      "\u001b[1m34/34\u001b[0m \u001b[32m━━━━━━━━━━━━━━━━━━━━\u001b[0m\u001b[37m\u001b[0m \u001b[1m1s\u001b[0m 19ms/step - accuracy: 0.4559 - loss: 2.1498 - val_accuracy: 0.4849 - val_loss: 2.1475 - learning_rate: 1.0000e-06\n",
      "Epoch 158/200\n",
      "\u001b[1m34/34\u001b[0m \u001b[32m━━━━━━━━━━━━━━━━━━━━\u001b[0m\u001b[37m\u001b[0m \u001b[1m1s\u001b[0m 18ms/step - accuracy: 0.4711 - loss: 2.1482 - val_accuracy: 0.4844 - val_loss: 2.1448 - learning_rate: 1.0000e-06\n",
      "Epoch 159/200\n",
      "\u001b[1m34/34\u001b[0m \u001b[32m━━━━━━━━━━━━━━━━━━━━\u001b[0m\u001b[37m\u001b[0m \u001b[1m1s\u001b[0m 19ms/step - accuracy: 0.4567 - loss: 2.1447 - val_accuracy: 0.4844 - val_loss: 2.1424 - learning_rate: 1.0000e-06\n",
      "Epoch 160/200\n",
      "\u001b[1m34/34\u001b[0m \u001b[32m━━━━━━━━━━━━━━━━━━━━\u001b[0m\u001b[37m\u001b[0m \u001b[1m1s\u001b[0m 18ms/step - accuracy: 0.4565 - loss: 2.1433 - val_accuracy: 0.4853 - val_loss: 2.1398 - learning_rate: 1.0000e-06\n",
      "Epoch 161/200\n",
      "\u001b[1m34/34\u001b[0m \u001b[32m━━━━━━━━━━━━━━━━━━━━\u001b[0m\u001b[37m\u001b[0m \u001b[1m1s\u001b[0m 19ms/step - accuracy: 0.4514 - loss: 2.1434 - val_accuracy: 0.4858 - val_loss: 2.1375 - learning_rate: 1.0000e-06\n",
      "Epoch 162/200\n",
      "\u001b[1m34/34\u001b[0m \u001b[32m━━━━━━━━━━━━━━━━━━━━\u001b[0m\u001b[37m\u001b[0m \u001b[1m1s\u001b[0m 19ms/step - accuracy: 0.4583 - loss: 2.1379 - val_accuracy: 0.4853 - val_loss: 2.1350 - learning_rate: 1.0000e-06\n",
      "Epoch 163/200\n",
      "\u001b[1m34/34\u001b[0m \u001b[32m━━━━━━━━━━━━━━━━━━━━\u001b[0m\u001b[37m\u001b[0m \u001b[1m1s\u001b[0m 18ms/step - accuracy: 0.4433 - loss: 2.1415 - val_accuracy: 0.4853 - val_loss: 2.1327 - learning_rate: 1.0000e-06\n",
      "Epoch 164/200\n",
      "\u001b[1m34/34\u001b[0m \u001b[32m━━━━━━━━━━━━━━━━━━━━\u001b[0m\u001b[37m\u001b[0m \u001b[1m1s\u001b[0m 18ms/step - accuracy: 0.4519 - loss: 2.1369 - val_accuracy: 0.4844 - val_loss: 2.1302 - learning_rate: 1.0000e-06\n",
      "Epoch 165/200\n",
      "\u001b[1m34/34\u001b[0m \u001b[32m━━━━━━━━━━━━━━━━━━━━\u001b[0m\u001b[37m\u001b[0m \u001b[1m1s\u001b[0m 18ms/step - accuracy: 0.4685 - loss: 2.1302 - val_accuracy: 0.4849 - val_loss: 2.1278 - learning_rate: 1.0000e-06\n",
      "Epoch 166/200\n",
      "\u001b[1m34/34\u001b[0m \u001b[32m━━━━━━━━━━━━━━━━━━━━\u001b[0m\u001b[37m\u001b[0m \u001b[1m1s\u001b[0m 18ms/step - accuracy: 0.4672 - loss: 2.1267 - val_accuracy: 0.4853 - val_loss: 2.1254 - learning_rate: 1.0000e-06\n",
      "Epoch 167/200\n",
      "\u001b[1m34/34\u001b[0m \u001b[32m━━━━━━━━━━━━━━━━━━━━\u001b[0m\u001b[37m\u001b[0m \u001b[1m1s\u001b[0m 18ms/step - accuracy: 0.4607 - loss: 2.1265 - val_accuracy: 0.4853 - val_loss: 2.1229 - learning_rate: 1.0000e-06\n",
      "Epoch 168/200\n",
      "\u001b[1m34/34\u001b[0m \u001b[32m━━━━━━━━━━━━━━━━━━━━\u001b[0m\u001b[37m\u001b[0m \u001b[1m1s\u001b[0m 19ms/step - accuracy: 0.4609 - loss: 2.1223 - val_accuracy: 0.4853 - val_loss: 2.1203 - learning_rate: 1.0000e-06\n",
      "Epoch 169/200\n",
      "\u001b[1m34/34\u001b[0m \u001b[32m━━━━━━━━━━━━━━━━━━━━\u001b[0m\u001b[37m\u001b[0m \u001b[1m1s\u001b[0m 18ms/step - accuracy: 0.4609 - loss: 2.1257 - val_accuracy: 0.4835 - val_loss: 2.1178 - learning_rate: 1.0000e-06\n",
      "Epoch 170/200\n",
      "\u001b[1m34/34\u001b[0m \u001b[32m━━━━━━━━━━━━━━━━━━━━\u001b[0m\u001b[37m\u001b[0m \u001b[1m1s\u001b[0m 18ms/step - accuracy: 0.4614 - loss: 2.1236 - val_accuracy: 0.4853 - val_loss: 2.1155 - learning_rate: 1.0000e-06\n",
      "Epoch 171/200\n",
      "\u001b[1m34/34\u001b[0m \u001b[32m━━━━━━━━━━━━━━━━━━━━\u001b[0m\u001b[37m\u001b[0m \u001b[1m1s\u001b[0m 18ms/step - accuracy: 0.4655 - loss: 2.1088 - val_accuracy: 0.4835 - val_loss: 2.1130 - learning_rate: 1.0000e-06\n",
      "Epoch 172/200\n",
      "\u001b[1m34/34\u001b[0m \u001b[32m━━━━━━━━━━━━━━━━━━━━\u001b[0m\u001b[37m\u001b[0m \u001b[1m1s\u001b[0m 18ms/step - accuracy: 0.4597 - loss: 2.1145 - val_accuracy: 0.4844 - val_loss: 2.1106 - learning_rate: 1.0000e-06\n",
      "Epoch 173/200\n",
      "\u001b[1m34/34\u001b[0m \u001b[32m━━━━━━━━━━━━━━━━━━━━\u001b[0m\u001b[37m\u001b[0m \u001b[1m1s\u001b[0m 18ms/step - accuracy: 0.4743 - loss: 2.1068 - val_accuracy: 0.4853 - val_loss: 2.1083 - learning_rate: 1.0000e-06\n",
      "Epoch 174/200\n",
      "\u001b[1m34/34\u001b[0m \u001b[32m━━━━━━━━━━━━━━━━━━━━\u001b[0m\u001b[37m\u001b[0m \u001b[1m1s\u001b[0m 18ms/step - accuracy: 0.4736 - loss: 2.1100 - val_accuracy: 0.4844 - val_loss: 2.1058 - learning_rate: 1.0000e-06\n",
      "Epoch 175/200\n",
      "\u001b[1m34/34\u001b[0m \u001b[32m━━━━━━━━━━━━━━━━━━━━\u001b[0m\u001b[37m\u001b[0m \u001b[1m1s\u001b[0m 19ms/step - accuracy: 0.4629 - loss: 2.1067 - val_accuracy: 0.4849 - val_loss: 2.1033 - learning_rate: 1.0000e-06\n",
      "Epoch 176/200\n",
      "\u001b[1m34/34\u001b[0m \u001b[32m━━━━━━━━━━━━━━━━━━━━\u001b[0m\u001b[37m\u001b[0m \u001b[1m1s\u001b[0m 19ms/step - accuracy: 0.4570 - loss: 2.1015 - val_accuracy: 0.4835 - val_loss: 2.1008 - learning_rate: 1.0000e-06\n",
      "Epoch 177/200\n",
      "\u001b[1m34/34\u001b[0m \u001b[32m━━━━━━━━━━━━━━━━━━━━\u001b[0m\u001b[37m\u001b[0m \u001b[1m1s\u001b[0m 18ms/step - accuracy: 0.4738 - loss: 2.1011 - val_accuracy: 0.4858 - val_loss: 2.0983 - learning_rate: 1.0000e-06\n",
      "Epoch 178/200\n",
      "\u001b[1m34/34\u001b[0m \u001b[32m━━━━━━━━━━━━━━━━━━━━\u001b[0m\u001b[37m\u001b[0m \u001b[1m1s\u001b[0m 18ms/step - accuracy: 0.4650 - loss: 2.1003 - val_accuracy: 0.4849 - val_loss: 2.0960 - learning_rate: 1.0000e-06\n",
      "Epoch 179/200\n",
      "\u001b[1m34/34\u001b[0m \u001b[32m━━━━━━━━━━━━━━━━━━━━\u001b[0m\u001b[37m\u001b[0m \u001b[1m1s\u001b[0m 19ms/step - accuracy: 0.4653 - loss: 2.0943 - val_accuracy: 0.4839 - val_loss: 2.0934 - learning_rate: 1.0000e-06\n",
      "Epoch 180/200\n",
      "\u001b[1m34/34\u001b[0m \u001b[32m━━━━━━━━━━━━━━━━━━━━\u001b[0m\u001b[37m\u001b[0m \u001b[1m1s\u001b[0m 19ms/step - accuracy: 0.4643 - loss: 2.0946 - val_accuracy: 0.4835 - val_loss: 2.0910 - learning_rate: 1.0000e-06\n",
      "Epoch 181/200\n",
      "\u001b[1m34/34\u001b[0m \u001b[32m━━━━━━━━━━━━━━━━━━━━\u001b[0m\u001b[37m\u001b[0m \u001b[1m1s\u001b[0m 18ms/step - accuracy: 0.4709 - loss: 2.0885 - val_accuracy: 0.4839 - val_loss: 2.0886 - learning_rate: 1.0000e-06\n",
      "Epoch 182/200\n",
      "\u001b[1m34/34\u001b[0m \u001b[32m━━━━━━━━━━━━━━━━━━━━\u001b[0m\u001b[37m\u001b[0m \u001b[1m1s\u001b[0m 18ms/step - accuracy: 0.4571 - loss: 2.0888 - val_accuracy: 0.4839 - val_loss: 2.0862 - learning_rate: 1.0000e-06\n",
      "Epoch 183/200\n",
      "\u001b[1m34/34\u001b[0m \u001b[32m━━━━━━━━━━━━━━━━━━━━\u001b[0m\u001b[37m\u001b[0m \u001b[1m1s\u001b[0m 18ms/step - accuracy: 0.4477 - loss: 2.0918 - val_accuracy: 0.4858 - val_loss: 2.0836 - learning_rate: 1.0000e-06\n",
      "Epoch 184/200\n",
      "\u001b[1m34/34\u001b[0m \u001b[32m━━━━━━━━━━━━━━━━━━━━\u001b[0m\u001b[37m\u001b[0m \u001b[1m1s\u001b[0m 19ms/step - accuracy: 0.4495 - loss: 2.0847 - val_accuracy: 0.4849 - val_loss: 2.0812 - learning_rate: 1.0000e-06\n",
      "Epoch 185/200\n",
      "\u001b[1m34/34\u001b[0m \u001b[32m━━━━━━━━━━━━━━━━━━━━\u001b[0m\u001b[37m\u001b[0m \u001b[1m1s\u001b[0m 19ms/step - accuracy: 0.4777 - loss: 2.0780 - val_accuracy: 0.4849 - val_loss: 2.0787 - learning_rate: 1.0000e-06\n",
      "Epoch 186/200\n",
      "\u001b[1m34/34\u001b[0m \u001b[32m━━━━━━━━━━━━━━━━━━━━\u001b[0m\u001b[37m\u001b[0m \u001b[1m1s\u001b[0m 18ms/step - accuracy: 0.4626 - loss: 2.0792 - val_accuracy: 0.4839 - val_loss: 2.0764 - learning_rate: 1.0000e-06\n",
      "Epoch 187/200\n",
      "\u001b[1m34/34\u001b[0m \u001b[32m━━━━━━━━━━━━━━━━━━━━\u001b[0m\u001b[37m\u001b[0m \u001b[1m1s\u001b[0m 19ms/step - accuracy: 0.4623 - loss: 2.0761 - val_accuracy: 0.4839 - val_loss: 2.0741 - learning_rate: 1.0000e-06\n",
      "Epoch 188/200\n",
      "\u001b[1m34/34\u001b[0m \u001b[32m━━━━━━━━━━━━━━━━━━━━\u001b[0m\u001b[37m\u001b[0m \u001b[1m1s\u001b[0m 18ms/step - accuracy: 0.4597 - loss: 2.0729 - val_accuracy: 0.4835 - val_loss: 2.0718 - learning_rate: 1.0000e-06\n",
      "Epoch 189/200\n",
      "\u001b[1m34/34\u001b[0m \u001b[32m━━━━━━━━━━━━━━━━━━━━\u001b[0m\u001b[37m\u001b[0m \u001b[1m1s\u001b[0m 18ms/step - accuracy: 0.4664 - loss: 2.0726 - val_accuracy: 0.4835 - val_loss: 2.0697 - learning_rate: 1.0000e-06\n",
      "Epoch 190/200\n",
      "\u001b[1m34/34\u001b[0m \u001b[32m━━━━━━━━━━━━━━━━━━━━\u001b[0m\u001b[37m\u001b[0m \u001b[1m1s\u001b[0m 18ms/step - accuracy: 0.4763 - loss: 2.0679 - val_accuracy: 0.4835 - val_loss: 2.0673 - learning_rate: 1.0000e-06\n",
      "Epoch 191/200\n",
      "\u001b[1m34/34\u001b[0m \u001b[32m━━━━━━━━━━━━━━━━━━━━\u001b[0m\u001b[37m\u001b[0m \u001b[1m1s\u001b[0m 18ms/step - accuracy: 0.4705 - loss: 2.0648 - val_accuracy: 0.4830 - val_loss: 2.0648 - learning_rate: 1.0000e-06\n",
      "Epoch 192/200\n",
      "\u001b[1m34/34\u001b[0m \u001b[32m━━━━━━━━━━━━━━━━━━━━\u001b[0m\u001b[37m\u001b[0m \u001b[1m1s\u001b[0m 19ms/step - accuracy: 0.4661 - loss: 2.0607 - val_accuracy: 0.4835 - val_loss: 2.0623 - learning_rate: 1.0000e-06\n",
      "Epoch 193/200\n",
      "\u001b[1m34/34\u001b[0m \u001b[32m━━━━━━━━━━━━━━━━━━━━\u001b[0m\u001b[37m\u001b[0m \u001b[1m1s\u001b[0m 18ms/step - accuracy: 0.4560 - loss: 2.0654 - val_accuracy: 0.4835 - val_loss: 2.0600 - learning_rate: 1.0000e-06\n",
      "Epoch 194/200\n",
      "\u001b[1m34/34\u001b[0m \u001b[32m━━━━━━━━━━━━━━━━━━━━\u001b[0m\u001b[37m\u001b[0m \u001b[1m1s\u001b[0m 19ms/step - accuracy: 0.4701 - loss: 2.0594 - val_accuracy: 0.4835 - val_loss: 2.0576 - learning_rate: 1.0000e-06\n",
      "Epoch 195/200\n",
      "\u001b[1m34/34\u001b[0m \u001b[32m━━━━━━━━━━━━━━━━━━━━\u001b[0m\u001b[37m\u001b[0m \u001b[1m1s\u001b[0m 19ms/step - accuracy: 0.4583 - loss: 2.0569 - val_accuracy: 0.4844 - val_loss: 2.0550 - learning_rate: 1.0000e-06\n",
      "Epoch 196/200\n",
      "\u001b[1m34/34\u001b[0m \u001b[32m━━━━━━━━━━━━━━━━━━━━\u001b[0m\u001b[37m\u001b[0m \u001b[1m1s\u001b[0m 18ms/step - accuracy: 0.4676 - loss: 2.0536 - val_accuracy: 0.4830 - val_loss: 2.0528 - learning_rate: 1.0000e-06\n",
      "Epoch 197/200\n",
      "\u001b[1m34/34\u001b[0m \u001b[32m━━━━━━━━━━━━━━━━━━━━\u001b[0m\u001b[37m\u001b[0m \u001b[1m1s\u001b[0m 18ms/step - accuracy: 0.4656 - loss: 2.0518 - val_accuracy: 0.4835 - val_loss: 2.0505 - learning_rate: 1.0000e-06\n",
      "Epoch 198/200\n",
      "\u001b[1m34/34\u001b[0m \u001b[32m━━━━━━━━━━━━━━━━━━━━\u001b[0m\u001b[37m\u001b[0m \u001b[1m1s\u001b[0m 18ms/step - accuracy: 0.4575 - loss: 2.0480 - val_accuracy: 0.4839 - val_loss: 2.0481 - learning_rate: 1.0000e-06\n",
      "Epoch 199/200\n",
      "\u001b[1m34/34\u001b[0m \u001b[32m━━━━━━━━━━━━━━━━━━━━\u001b[0m\u001b[37m\u001b[0m \u001b[1m1s\u001b[0m 18ms/step - accuracy: 0.4785 - loss: 2.0438 - val_accuracy: 0.4830 - val_loss: 2.0457 - learning_rate: 1.0000e-06\n",
      "Epoch 200/200\n",
      "\u001b[1m34/34\u001b[0m \u001b[32m━━━━━━━━━━━━━━━━━━━━\u001b[0m\u001b[37m\u001b[0m \u001b[1m1s\u001b[0m 18ms/step - accuracy: 0.4703 - loss: 2.0417 - val_accuracy: 0.4844 - val_loss: 2.0433 - learning_rate: 1.0000e-06\n",
      "CPU times: user 15min 8s, sys: 1min 52s, total: 17min 1s\n",
      "Wall time: 2min 17s\n"
     ]
    }
   ],
   "source": [
    "%%time\n",
    "batch_size = 256\n",
    "epochs = 200\n",
    "early_stopping = EarlyStopping(monitor='val_loss', patience=6, restore_best_weights=True)\n",
    "\n",
    "# Train the model\n",
    "history = model.fit(x_train, y_train,\n",
    "                    batch_size=batch_size,\n",
    "                    epochs=epochs,\n",
    "                    verbose=1,\n",
    "                    validation_data=(x_val, y_val),\n",
    "                   shuffle=True,\n",
    "                   callbacks=[step_decay_schedule(initial_lr=0.0001, decay_factor=0.6, step_size=10),early_stopping])"
   ]
  },
  {
   "cell_type": "code",
   "execution_count": 25,
   "id": "0ac4eb59-87a2-4cc1-843d-ca924f82942d",
   "metadata": {},
   "outputs": [
    {
     "data": {
      "image/png": "[encoded data removed]",
      "text/plain": [
       "<Figure size 640x480 with 1 Axes>"
      ]
     },
     "metadata": {},
     "output_type": "display_data"
    }
   ],
   "source": [
    "plt.plot(history.history['loss'])\n",
    "plt.plot(history.history['val_loss'])\n",
    "plt.title('Model loss')\n",
    "plt.ylabel('Loss')\n",
    "plt.xlabel('Epoch')\n",
    "plt.legend(['Train', 'Validation'], loc='upper right')\n",
    "plt.show()"
   ]
  },
  {
   "cell_type": "code",
   "execution_count": 52,
   "id": "8adaf6da-a3a7-4871-986a-aca407871f08",
   "metadata": {},
   "outputs": [
    {
     "name": "stdout",
     "output_type": "stream",
     "text": [
      "\u001b[1m84/84\u001b[0m \u001b[32m━━━━━━━━━━━━━━━━━━━━\u001b[0m\u001b[37m\u001b[0m \u001b[1m0s\u001b[0m 2ms/step - accuracy: 0.4930 - loss: 2.0356\n",
      "Test Accuracy: 49.72%\n"
     ]
    }
   ],
   "source": [
    "test_loss, test_accuracy = model.evaluate(x_test, y_test)\n",
    "\n",
    "# Print the test accuracy\n",
    "print(f\"Test Accuracy: {test_accuracy * 100:.2f}%\")"
   ]
  },
  {
   "cell_type": "code",
   "execution_count": 58,
   "id": "2a0d69c0-beff-4e25-bcb5-183ef934f616",
   "metadata": {},
   "outputs": [
    {
     "name": "stdout",
     "output_type": "stream",
     "text": [
      "\u001b[1m84/84\u001b[0m \u001b[32m━━━━━━━━━━━━━━━━━━━━\u001b[0m\u001b[37m\u001b[0m \u001b[1m0s\u001b[0m 2ms/step\n",
      "Accuracy: 0.31\n",
      "               precision    recall  f1-score   support\n",
      "\n",
      "       Action       0.69      0.54      0.61       782\n",
      "       Comedy       0.61      0.42      0.50       773\n",
      "Crime Fiction       0.71      0.58      0.64       774\n",
      "       Horror       0.75      0.71      0.73       570\n",
      " Romance Film       0.78      0.68      0.72       844\n",
      "     Thriller       0.60      0.34      0.44       724\n",
      "\n",
      "    micro avg       0.70      0.54      0.61      4467\n",
      "    macro avg       0.69      0.54      0.60      4467\n",
      " weighted avg       0.69      0.54      0.60      4467\n",
      "  samples avg       0.62      0.58      0.57      4467\n",
      "\n"
     ]
    },
    {
     "name": "stderr",
     "output_type": "stream",
     "text": [
      "/home/asolta2s/myenv/lib64/python3.9/site-packages/sklearn/metrics/_classification.py:1517: UndefinedMetricWarning: Precision is ill-defined and being set to 0.0 in samples with no predicted labels. Use `zero_division` parameter to control this behavior.\n",
      "  _warn_prf(average, modifier, f\"{metric.capitalize()} is\", len(result))\n"
     ]
    }
   ],
   "source": [
    "\n",
    "# Predict and evaluate the model\n",
    "y_pred_dl = model.predict(x_test)\n",
    "y_pred_binary_dl = (y_pred_dl >= 0.5).astype(int)\n",
    "accuracy_dl = accuracy_score(y_test, y_pred_binary_dl)\n",
    "print(f'Accuracy: {accuracy_dl:.2f}')\n",
    "\n",
    "# Detailed classification report\n",
    "report = classification_report(y_test, y_pred_binary_dl, target_names=list(y_train.columns))\n",
    "print(report)\n",
    "precision['Deep Learning'], recall['Deep Learning'], f1['Deep Learning'], _ = precision_recall_fscore_support(y_test, y_pred_binary_dl, average='micro')\n"
   ]
  },
  {
   "cell_type": "code",
   "execution_count": 59,
   "id": "b93e4982-f043-45a1-8610-d1a457468279",
   "metadata": {},
   "outputs": [
    {
     "data": {
      "image/png": "[encoded data removed]",
      "text/plain": [
       "<Figure size 800x600 with 1 Axes>"
      ]
     },
     "metadata": {},
     "output_type": "display_data"
    }
   ],
   "source": [
    "import numpy as np\n",
    "import matplotlib.pyplot as plt\n",
    "import seaborn as sns\n",
    "import pandas as pd\n",
    "\n",
    "confusion_matrix = np.zeros((len(y_train.columns), len(y_train.columns)), dtype=int)\n",
    "\n",
    "# Populate the confusion matrix\n",
    "for i in range(len(y_test)):\n",
    "    true_indices = np.where(y_test.iloc[i] == 1)[0]\n",
    "    pred_indices = np.where(y_pred_binary_dl[i] == 1)[0]\n",
    "    for true_label in true_indices:\n",
    "        for pred_label in pred_indices:\n",
    "          if pred_label not in true_indices or true_label==pred_label:\n",
    "            confusion_matrix[true_label, pred_label] += 1\n",
    "\n",
    "# Convert to DataFrame for better visualization\n",
    "confusion_df = pd.DataFrame(confusion_matrix, index=y_train.columns, columns=y_train.columns)\n",
    "\n",
    "# Plot the confusion matrix\n",
    "plt.figure(figsize=(8, 6))\n",
    "sns.heatmap(confusion_df, annot=True, cmap=\"Blues\", fmt='d', cbar=False)\n",
    "plt.title(\"Confusion Matrix of True and Predicted Genres\")\n",
    "plt.xlabel(\"Predicted Genres\")\n",
    "plt.ylabel(\"True Genres\")\n",
    "plt.show()"
   ]
  },
  {
   "cell_type": "code",
   "execution_count": 64,
   "id": "01394619-ad17-4906-b26a-ac9ad38109f3",
   "metadata": {},
   "outputs": [
    {
     "name": "stdout",
     "output_type": "stream",
     "text": [
      "jaccard scores for Our model:\n",
      "\n",
      "0.5017144986954901\n",
      "0.4419499235210747\n",
      "[0.43371017 0.33163265 0.46757322 0.57346648 0.56603774 0.27927928]\n"
     ]
    }
   ],
   "source": [
    "print ('jaccard scores for Our model:\\n')\n",
    "print(jaccard_score(y_test, y_pred_binary_dl, average='samples'))\n",
    "print(jaccard_score(y_test, y_pred_binary_dl, average='macro'))\n",
    "print(jaccard_score(y_test, y_pred_binary_dl, average=None))\n",
    "\n",
    "jaccard['Deep Learning'] = jaccard_score(y_test, y_pred_binary_dl, average='samples')"
   ]
  },
  {
   "cell_type": "code",
   "execution_count": 61,
   "id": "0e38a8d8-2287-4134-89b6-0091b4e6d48e",
   "metadata": {},
   "outputs": [],
   "source": [
    "model.save('model2.keras')\n"
   ]
  },
  {
   "cell_type": "markdown",
   "id": "a44d8171-6e3d-444b-a9bf-b6420ab3e621",
   "metadata": {},
   "source": [
    "## Logistic Regression"
   ]
  },
  {
   "cell_type": "code",
   "execution_count": 30,
   "id": "f8862a2c-95cd-47eb-b382-60b0a15fb7d5",
   "metadata": {},
   "outputs": [
    {
     "name": "stdout",
     "output_type": "stream",
     "text": [
      "Training took: 4.01 seconds\n",
      "Accuracy: 0.30\n",
      "               precision    recall  f1-score   support\n",
      "\n",
      "       Action       0.74      0.48      0.58       782\n",
      "       Comedy       0.68      0.37      0.48       773\n",
      "Crime Fiction       0.77      0.50      0.61       774\n",
      "       Horror       0.85      0.57      0.68       570\n",
      " Romance Film       0.81      0.63      0.71       844\n",
      "     Thriller       0.62      0.33      0.43       724\n",
      "\n",
      "    micro avg       0.75      0.48      0.58      4467\n",
      "    macro avg       0.75      0.48      0.58      4467\n",
      " weighted avg       0.74      0.48      0.58      4467\n",
      "  samples avg       0.58      0.51      0.52      4467\n",
      "\n"
     ]
    },
    {
     "name": "stderr",
     "output_type": "stream",
     "text": [
      "/home/asolta2s/myenv/lib64/python3.9/site-packages/sklearn/metrics/_classification.py:1517: UndefinedMetricWarning: Precision is ill-defined and being set to 0.0 in samples with no predicted labels. Use `zero_division` parameter to control this behavior.\n",
      "  _warn_prf(average, modifier, f\"{metric.capitalize()} is\", len(result))\n"
     ]
    }
   ],
   "source": [
    "import time\n",
    "start_time = time.time()\n",
    "\n",
    "lr = LogisticRegression()\n",
    "clf = OneVsRestClassifier(lr)\n",
    "clf.fit(x_train, y_train)\n",
    "\n",
    "y_pred_lr = clf.predict(x_test)\n",
    "y_pred_binary_lr = (y_pred_lr >= 0.5).astype(int)\n",
    "accuracy_lr = accuracy_score(y_test, y_pred_binary_lr)\n",
    "end_time = time.time()\n",
    "print(f'Training took: {end_time - start_time :.2f} seconds')\n",
    "print(f'Accuracy: {accuracy_lr:.2f}')\n",
    "\n",
    "# Detailed classification report\n",
    "report = classification_report(y_test, y_pred_binary_lr, target_names=list(y_train.columns))\n",
    "print(report)\n",
    "precision['LogisticReg'], recall['LogisticReg'], f1['LogisticReg'], _ = precision_recall_fscore_support(y_test, y_pred_binary_lr, average='micro')"
   ]
  },
  {
   "cell_type": "code",
   "execution_count": 31,
   "id": "517ba7f5-0c05-4833-aa2b-fa2f32d85d00",
   "metadata": {},
   "outputs": [
    {
     "name": "stdout",
     "output_type": "stream",
     "text": [
      "jaccard scores for LogisticReg:\n",
      "\n",
      "0.4622313330848552\n",
      "0.4158749398815633\n",
      "[0.40700219 0.31243124 0.43419573 0.51757188 0.54818653 0.27586207]\n"
     ]
    }
   ],
   "source": [
    "print ('jaccard scores for LogisticReg:\\n')\n",
    "print(jaccard_score(y_test, y_pred_binary_lr, average='samples'))\n",
    "print(jaccard_score(y_test, y_pred_binary_lr, average='macro'))\n",
    "print(jaccard_score(y_test, y_pred_binary_lr, average=None))\n",
    "\n",
    "jaccard_score['LogisticReg'] = jaccard_score(y_test, y_pred_binary_lr, average='samples')"
   ]
  },
  {
   "cell_type": "markdown",
   "id": "4271fad4-5948-4b94-9095-6b46d70f0eef",
   "metadata": {},
   "source": [
    "## SVM"
   ]
  },
  {
   "cell_type": "code",
   "execution_count": 32,
   "id": "4a05ba27-a32d-4ac7-88eb-0db2058bf368",
   "metadata": {},
   "outputs": [
    {
     "name": "stdout",
     "output_type": "stream",
     "text": [
      "Training took: 137.41 seconds\n",
      "Accuracy: 0.29\n",
      "               precision    recall  f1-score   support\n",
      "\n",
      "       Action       0.76      0.47      0.58       782\n",
      "       Comedy       0.69      0.32      0.44       773\n",
      "Crime Fiction       0.77      0.48      0.59       774\n",
      "       Horror       0.85      0.57      0.68       570\n",
      " Romance Film       0.81      0.61      0.70       844\n",
      "     Thriller       0.65      0.29      0.41       724\n",
      "\n",
      "    micro avg       0.77      0.46      0.57      4467\n",
      "    macro avg       0.76      0.46      0.57      4467\n",
      " weighted avg       0.75      0.46      0.56      4467\n",
      "  samples avg       0.57      0.49      0.50      4467\n",
      "\n"
     ]
    },
    {
     "name": "stderr",
     "output_type": "stream",
     "text": [
      "/home/asolta2s/myenv/lib64/python3.9/site-packages/sklearn/metrics/_classification.py:1517: UndefinedMetricWarning: Precision is ill-defined and being set to 0.0 in samples with no predicted labels. Use `zero_division` parameter to control this behavior.\n",
      "  _warn_prf(average, modifier, f\"{metric.capitalize()} is\", len(result))\n"
     ]
    }
   ],
   "source": [
    "import time\n",
    "start_time = time.time()\n",
    "\n",
    "clf = OneVsRestClassifier(SVC())\n",
    "clf.fit(x_train, y_train)\n",
    "y_pred_svm = clf.predict(x_test)\n",
    "\n",
    "y_pred_binary_svm = (y_pred_svm >= 0.5).astype(int)\n",
    "accuracy_svm = accuracy_score(y_test, y_pred_binary_svm)\n",
    "end_time = time.time()\n",
    "print(f'Training took: {end_time - start_time :.2f} seconds')\n",
    "print(f'Accuracy: {accuracy_svm:.2f}')\n",
    "\n",
    "# Detailed classification report\n",
    "report = classification_report(y_test, y_pred_binary_svm, target_names=list(y_train.columns))\n",
    "\n",
    "print(report)\n",
    "precision['SVM'], recall['SVM'], f1['SVM'], _ = precision_recall_fscore_support(y_test, y_pred_binary_svm, average='micro')\n"
   ]
  },
  {
   "cell_type": "code",
   "execution_count": 67,
   "id": "7a3dcbf1-0abc-47ea-9d5f-d40e1d702400",
   "metadata": {},
   "outputs": [
    {
     "name": "stdout",
     "output_type": "stream",
     "text": [
      "jaccard scores for SVM:\n",
      "\n",
      "0.44990682072307114\n",
      "0.4030135097301346\n",
      "[0.41025641 0.28022599 0.41902605 0.51515152 0.53894081 0.25448029]\n"
     ]
    }
   ],
   "source": [
    "print ('jaccard scores for SVM:\\n')\n",
    "print(jaccard_score(y_test, y_pred_binary_svm, average='samples'))\n",
    "print(jaccard_score(y_test, y_pred_binary_svm, average='macro'))\n",
    "print(jaccard_score(y_test, y_pred_binary_svm, average=None))\n",
    "\n",
    "jaccard['SVM'] = jaccard_score(y_test, y_pred_binary_svm, average='samples')"
   ]
  },
  {
   "cell_type": "markdown",
   "id": "3b6af9ab-728e-40da-af53-23d0dd4317e0",
   "metadata": {},
   "source": [
    "## LightGBM"
   ]
  },
  {
   "cell_type": "code",
   "execution_count": 14,
   "id": "26327208-7b35-4ee7-9cba-ba6697944075",
   "metadata": {},
   "outputs": [
    {
     "name": "stdout",
     "output_type": "stream",
     "text": [
      "Training model for label: Action\n",
      "[LightGBM] [Info] Number of positive: 2428, number of negative: 6156\n",
      "[LightGBM] [Info] Auto-choosing row-wise multi-threading, the overhead of testing was 10.296309 seconds.\n",
      "You can set `force_row_wise=true` to remove the overhead.\n",
      "And if memory is not enough, you can set `force_col_wise=true`.\n",
      "[LightGBM] [Info] Total Bins 147553\n",
      "[LightGBM] [Info] Number of data points in the train set: 8584, number of used features: 1000\n",
      "[LightGBM] [Info] [binary:BoostFromScore]: pavg=0.282852 -> initscore=-0.930359\n",
      "[LightGBM] [Info] Start training from score -0.930359\n",
      "Training until validation scores don't improve for 10 rounds\n",
      "Did not meet early stopping. Best iteration is:\n",
      "[100]\tvalid_0's binary_logloss: 0.440924\n",
      "Training model for label: Comedy\n",
      "[LightGBM] [Info] Number of positive: 2601, number of negative: 5983\n",
      "[LightGBM] [Info] Auto-choosing row-wise multi-threading, the overhead of testing was 4.004741 seconds.\n",
      "You can set `force_row_wise=true` to remove the overhead.\n",
      "And if memory is not enough, you can set `force_col_wise=true`.\n",
      "[LightGBM] [Info] Total Bins 147553\n",
      "[LightGBM] [Info] Number of data points in the train set: 8584, number of used features: 1000\n",
      "[LightGBM] [Info] [binary:BoostFromScore]: pavg=0.303006 -> initscore=-0.833026\n",
      "[LightGBM] [Info] Start training from score -0.833026\n",
      "Training until validation scores don't improve for 10 rounds\n",
      "Did not meet early stopping. Best iteration is:\n",
      "[100]\tvalid_0's binary_logloss: 0.502998\n",
      "Training model for label: Crime Fiction\n",
      "[LightGBM] [Info] Number of positive: 2396, number of negative: 6188\n",
      "[LightGBM] [Info] Auto-choosing row-wise multi-threading, the overhead of testing was 7.406486 seconds.\n",
      "You can set `force_row_wise=true` to remove the overhead.\n",
      "And if memory is not enough, you can set `force_col_wise=true`.\n",
      "[LightGBM] [Info] Total Bins 147553\n",
      "[LightGBM] [Info] Number of data points in the train set: 8584, number of used features: 1000\n",
      "[LightGBM] [Info] [binary:BoostFromScore]: pavg=0.279124 -> initscore=-0.948811\n",
      "[LightGBM] [Info] Start training from score -0.948811\n",
      "Training until validation scores don't improve for 10 rounds\n",
      "Did not meet early stopping. Best iteration is:\n",
      "[100]\tvalid_0's binary_logloss: 0.416051\n",
      "Training model for label: Horror\n",
      "[LightGBM] [Info] Number of positive: 1857, number of negative: 6727\n",
      "[LightGBM] [Info] Auto-choosing row-wise multi-threading, the overhead of testing was 2.793641 seconds.\n",
      "You can set `force_row_wise=true` to remove the overhead.\n",
      "And if memory is not enough, you can set `force_col_wise=true`.\n",
      "[LightGBM] [Info] Total Bins 147553\n",
      "[LightGBM] [Info] Number of data points in the train set: 8584, number of used features: 1000\n",
      "[LightGBM] [Info] [binary:BoostFromScore]: pavg=0.216333 -> initscore=-1.287167\n",
      "[LightGBM] [Info] Start training from score -1.287167\n",
      "Training until validation scores don't improve for 10 rounds\n",
      "Did not meet early stopping. Best iteration is:\n",
      "[100]\tvalid_0's binary_logloss: 0.288855\n",
      "Training model for label: Romance Film\n",
      "[LightGBM] [Info] Number of positive: 2770, number of negative: 5814\n",
      "[LightGBM] [Info] Auto-choosing row-wise multi-threading, the overhead of testing was 5.310640 seconds.\n",
      "You can set `force_row_wise=true` to remove the overhead.\n",
      "And if memory is not enough, you can set `force_col_wise=true`.\n",
      "[LightGBM] [Info] Total Bins 147553\n",
      "[LightGBM] [Info] Number of data points in the train set: 8584, number of used features: 1000\n",
      "[LightGBM] [Info] [binary:BoostFromScore]: pavg=0.322693 -> initscore=-0.741421\n",
      "[LightGBM] [Info] Start training from score -0.741421\n",
      "Training until validation scores don't improve for 10 rounds\n",
      "Did not meet early stopping. Best iteration is:\n",
      "[100]\tvalid_0's binary_logloss: 0.383874\n",
      "Training model for label: Thriller\n",
      "[LightGBM] [Info] Number of positive: 2288, number of negative: 6296\n",
      "[LightGBM] [Info] Auto-choosing row-wise multi-threading, the overhead of testing was 3.805606 seconds.\n",
      "You can set `force_row_wise=true` to remove the overhead.\n",
      "And if memory is not enough, you can set `force_col_wise=true`.\n",
      "[LightGBM] [Info] Total Bins 147553\n",
      "[LightGBM] [Info] Number of data points in the train set: 8584, number of used features: 1000\n",
      "[LightGBM] [Info] [binary:BoostFromScore]: pavg=0.266542 -> initscore=-1.012236\n",
      "[LightGBM] [Info] Start training from score -1.012236\n",
      "Training until validation scores don't improve for 10 rounds\n",
      "Early stopping, best iteration is:\n",
      "[81]\tvalid_0's binary_logloss: 0.487724\n",
      "Training took: 854.86 seconds\n"
     ]
    }
   ],
   "source": [
    "import time\n",
    "start_time = time.time()\n",
    "\n",
    "early_stopping_callback = lgb.early_stopping(stopping_rounds=10)\n",
    "\n",
    "def train_and_predict(X_train, X_test, y_train, y_test):\n",
    "    predictions = np.zeros_like(y_test)\n",
    "    for i, label in enumerate(y_train.columns):\n",
    "        print(f'Training model for label: {label}')\n",
    "        lgb_train = lgb.Dataset(X_train, y_train.iloc[:, i])\n",
    "        lgb_eval = lgb.Dataset(X_test, y_test.iloc[:, i], reference=lgb_train)\n",
    "\n",
    "        params = {\n",
    "            'objective': 'binary',\n",
    "            'metric': 'binary_logloss',\n",
    "            'boosting_type': 'gbdt',\n",
    "            'num_leaves': 31,\n",
    "            'learning_rate': 0.05,\n",
    "            'feature_fraction': 0.9\n",
    "        }\n",
    "\n",
    "        gbm = lgb.train(params,\n",
    "                        lgb_train,\n",
    "                        num_boost_round=100,\n",
    "                        valid_sets=lgb_eval,\n",
    "                        callbacks=[early_stopping_callback])\n",
    "\n",
    "        y_pred = gbm.predict(X_test, num_iteration=gbm.best_iteration)\n",
    "        predictions[:, i] = (y_pred > 0.5).astype(int)\n",
    "    return predictions\n",
    "\n",
    "# Train the model and get predictions\n",
    "y_pred = train_and_predict(x_train, x_test, y_train, y_test)\n",
    "end_time = time.time()\n",
    "print(f'Training took: {end_time - start_time :.2f} seconds')\n"
   ]
  },
  {
   "cell_type": "code",
   "execution_count": 15,
   "id": "fa440371-695a-4e1a-9818-d6d196a31df7",
   "metadata": {},
   "outputs": [
    {
     "name": "stdout",
     "output_type": "stream",
     "text": [
      "Accuracy: 0.30\n",
      "               precision    recall  f1-score   support\n",
      "\n",
      "       Action       0.75      0.46      0.57       782\n",
      "       Comedy       0.68      0.36      0.47       773\n",
      "Crime Fiction       0.73      0.55      0.62       774\n",
      "       Horror       0.80      0.56      0.66       570\n",
      " Romance Film       0.77      0.66      0.71       844\n",
      "     Thriller       0.63      0.35      0.45       724\n",
      "\n",
      "    micro avg       0.73      0.49      0.59      4467\n",
      "    macro avg       0.73      0.49      0.58      4467\n",
      " weighted avg       0.72      0.49      0.58      4467\n",
      "  samples avg       0.58      0.52      0.52      4467\n",
      "\n"
     ]
    },
    {
     "name": "stderr",
     "output_type": "stream",
     "text": [
      "/home/asolta2s/myenv/lib64/python3.9/site-packages/sklearn/metrics/_classification.py:1517: UndefinedMetricWarning: Precision is ill-defined and being set to 0.0 in samples with no predicted labels. Use `zero_division` parameter to control this behavior.\n",
      "  _warn_prf(average, modifier, f\"{metric.capitalize()} is\", len(result))\n"
     ]
    }
   ],
   "source": [
    "accuracy = accuracy_score(y_test, y_pred)\n",
    "print(f'Accuracy: {accuracy:.2f}')\n",
    "\n",
    "# Detailed classification report\n",
    "report = classification_report(y_test, y_pred, target_names=list(y_train.columns))\n",
    "precision['LGBM'], recall['LGBM'], f1['LGBM'], _ = precision_recall_fscore_support(y_test, y_pred, average='micro')\n",
    "print(report)"
   ]
  },
  {
   "cell_type": "code",
   "execution_count": 68,
   "id": "5ed467dc-05b3-42cf-9dab-747cb124f20b",
   "metadata": {},
   "outputs": [
    {
     "name": "stdout",
     "output_type": "stream",
     "text": [
      "jaccard scores for LGBM:\n",
      "\n",
      "0.467163622810287\n",
      "0.41503873249956996\n",
      "[0.39555556 0.31125828 0.45230439 0.49384615 0.54975369 0.28751432]\n"
     ]
    }
   ],
   "source": [
    "print ('jaccard scores for LGBM:\\n')\n",
    "print(jaccard_score(y_test, y_pred, average='samples'))\n",
    "print(jaccard_score(y_test, y_pred, average='macro'))\n",
    "print(jaccard_score(y_test, y_pred, average=None))\n",
    "\n",
    "jaccard['LGBM'] = jaccard_score(y_test, y_pred, average='samples')"
   ]
  },
  {
   "cell_type": "markdown",
   "id": "964ff38c-8be5-4a3f-82b6-036a99b8a9e7",
   "metadata": {},
   "source": [
    "## Metrics Visualization"
   ]
  },
  {
   "cell_type": "code",
   "execution_count": 73,
   "id": "55d77068-b5cd-41c9-b636-8624a8915071",
   "metadata": {},
   "outputs": [
    {
     "data": {
      "image/png": "[encoded data removed]",
      "text/plain": [
       "<Figure size 1100x600 with 1 Axes>"
      ]
     },
     "metadata": {},
     "output_type": "display_data"
    }
   ],
   "source": [
    "# Prepare data for plotting\n",
    "labels = precision.keys()\n",
    "precision_values = precision.values()\n",
    "recall_values = recall.values()\n",
    "jaccard_score_values = jaccard.values()\n",
    "f1_values = f1.values()\n",
    "\n",
    "# Set the position of the bars on the x-axis\n",
    "x = range(len(labels))\n",
    "\n",
    "# Width of a bar\n",
    "bar_width = 0.2\n",
    "# Create the plot\n",
    "fig, ax = plt.subplots(figsize=(11, 6))\n",
    "\n",
    "# Plot bars\n",
    "# ax.bar(x, precision_values, width=bar_width, label='Precision', align='center')\n",
    "# ax.bar([p + bar_width for p in x], recall_values, width=bar_width, label='Recall', align='center')\n",
    "ax.bar([p + bar_width * 2 for p in x], f1_values, width=bar_width, label='F1 Score', align='center')\n",
    "ax.bar(x, jaccard_score_values, width=bar_width, label='Jaccard Score', align='center')\n",
    "\n",
    "\n",
    "# Set the labels for the x-axis\n",
    "ax.set_xticks([p + bar_width for p in x])\n",
    "ax.set_xticklabels(labels)\n",
    "\n",
    "# Add labels, title, and legend\n",
    "ax.set_xlabel('Models')\n",
    "ax.set_ylabel('Scores')\n",
    "ax.set_title('Precision, Recall, and F1 Score')\n",
    "ax.legend()\n",
    "\n",
    "# Show the plot\n",
    "plt.show()"
   ]
  },
  {
   "cell_type": "code",
   "execution_count": null,
   "id": "c3ab9a06-caf2-4046-88fb-a2c6b716a30a",
   "metadata": {},
   "outputs": [],
   "source": []
  }
 ],
 "metadata": {
  "kernelspec": {
   "display_name": "Python 3 (ipykernel)",
   "language": "python",
   "name": "python3"
  },
  "language_info": {
   "codemirror_mode": {
    "name": "ipython",
    "version": 3
   },
   "file_extension": ".py",
   "mimetype": "text/x-python",
   "name": "python",
   "nbconvert_exporter": "python",
   "pygments_lexer": "ipython3",
   "version": "3.9.18"
  }
 },
 "nbformat": 4,
 "nbformat_minor": 5
}
