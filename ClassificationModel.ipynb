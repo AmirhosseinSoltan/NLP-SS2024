{
 "cells": [
  {
   "cell_type": "code",
   "execution_count": 1,
   "id": "78ed9739-828e-46fc-88ed-b786eb68951c",
   "metadata": {},
   "outputs": [
    {
     "name": "stderr",
     "output_type": "stream",
     "text": [
      "2024-06-26 22:44:03.737581: I tensorflow/core/util/port.cc:113] oneDNN custom operations are on. You may see slightly different numerical results due to floating-point round-off errors from different computation orders. To turn them off, set the environment variable `TF_ENABLE_ONEDNN_OPTS=0`.\n",
      "2024-06-26 22:44:03.783603: I tensorflow/core/platform/cpu_feature_guard.cc:210] This TensorFlow binary is optimized to use available CPU instructions in performance-critical operations.\n",
      "To enable the following instructions: AVX2 AVX512F AVX512_VNNI AVX512_BF16 FMA, in other operations, rebuild TensorFlow with the appropriate compiler flags.\n",
      "2024-06-26 22:44:04.392470: W tensorflow/compiler/tf2tensorrt/utils/py_utils.cc:38] TF-TRT Warning: Could not find TensorRT\n"
     ]
    }
   ],
   "source": [
    "from keras.optimizers import Adam\n",
    "from keras.models import Sequential\n",
    "from keras.layers import Dense, Dropout,BatchNormalization, Activation\n",
    "from keras.initializers import glorot_uniform\n",
    "from keras.callbacks import LearningRateScheduler, EarlyStopping\n",
    "from sklearn.metrics import accuracy_score, average_precision_score\n",
    "from keras.regularizers import l2\n",
    "from sklearn.model_selection import train_test_split\n",
    "from sklearn.metrics import jaccard_score\n",
    "from sklearn.metrics import accuracy_score, classification_report, precision_recall_fscore_support\n",
    "from sklearn.linear_model import LogisticRegression\n",
    "from sklearn.multiclass import OneVsRestClassifier\n",
    "from sklearn.svm import SVC\n",
    "import lightgbm as lgb\n",
    "from sklearn.metrics import jaccard_score\n",
    "import pandas as pd\n",
    "import matplotlib.pyplot as plt\n",
    "import numpy as np\n",
    "import math\n",
    "import keras"
   ]
  },
  {
   "cell_type": "code",
   "execution_count": 2,
   "id": "416aa5f8-98e9-469a-8980-4d6d62df4291",
   "metadata": {},
   "outputs": [],
   "source": [
    "y_train = pd.read_csv('../Dataset_MovieSummaries/y_train1.csv')\n",
    "y_train.drop('Unnamed: 0', axis=1, inplace=True)\n",
    "x_train = pd.read_csv('../Dataset_MovieSummaries/X_train1.csv')\n",
    "x_train.drop('Unnamed: 0', axis=1, inplace=True)\n",
    "y_test = pd.read_csv('../Dataset_MovieSummaries/y_test1.csv')\n",
    "y_test.drop('Unnamed: 0', axis=1, inplace=True)\n",
    "x_test = pd.read_csv('../Dataset_MovieSummaries/X_test1.csv')\n",
    "x_test.drop('Unnamed: 0', axis=1, inplace=True)"
   ]
  },
  {
   "cell_type": "code",
   "execution_count": 3,
   "id": "5ad7bb7e-143a-42c2-a5a4-fd3e4c8ab4a5",
   "metadata": {},
   "outputs": [],
   "source": [
    "x_train, x_val, y_train, y_val = train_test_split(x_train, y_train, test_size=0.2, random_state=42)"
   ]
  },
  {
   "cell_type": "code",
   "execution_count": 4,
   "id": "edcf789d-0b4c-4274-b302-7f27d70afa32",
   "metadata": {},
   "outputs": [],
   "source": [
    "x_train.reset_index(drop = True, inplace = True)\n",
    "y_train.reset_index(drop = True, inplace = True)\n",
    "x_val.reset_index(drop = True, inplace = True)\n",
    "y_val.reset_index(drop = True, inplace = True)\n",
    "x_test.reset_index(drop = True, inplace = True)\n",
    "y_test.reset_index(drop = True, inplace = True)"
   ]
  },
  {
   "cell_type": "code",
   "execution_count": 5,
   "id": "2bb311da-4153-450f-bcc7-75a336a015a5",
   "metadata": {},
   "outputs": [],
   "source": [
    "\n",
    "precision = {}\n",
    "recall= {}\n",
    "f1={}\n",
    "jaccard = {}\n",
    "MAP = {}"
   ]
  },
  {
   "cell_type": "markdown",
   "id": "77f14daa-98ee-43aa-86db-3fec923dcb67",
   "metadata": {},
   "source": [
    "## Deep learning"
   ]
  },
  {
   "cell_type": "code",
   "execution_count": 87,
   "id": "3005c82b-9baa-4e73-b734-7b3ded01556e",
   "metadata": {},
   "outputs": [
    {
     "name": "stderr",
     "output_type": "stream",
     "text": [
      "/home/asolta2s/myenv/lib/python3.9/site-packages/keras/src/layers/core/dense.py:87: UserWarning: Do not pass an `input_shape`/`input_dim` argument to a layer. When using Sequential models, prefer using an `Input(shape)` object as the first layer in the model instead.\n",
      "  super().__init__(activity_regularizer=activity_regularizer, **kwargs)\n"
     ]
    },
    {
     "data": {
      "text/html": [
       "<pre style=\"white-space:pre;overflow-x:auto;line-height:normal;font-family:Menlo,'DejaVu Sans Mono',consolas,'Courier New',monospace\"><span style=\"font-weight: bold\">Model: \"sequential_11\"</span>\n",
       "</pre>\n"
      ],
      "text/plain": [
       "\u001b[1mModel: \"sequential_11\"\u001b[0m\n"
      ]
     },
     "metadata": {},
     "output_type": "display_data"
    },
    {
     "data": {
      "text/html": [
       "<pre style=\"white-space:pre;overflow-x:auto;line-height:normal;font-family:Menlo,'DejaVu Sans Mono',consolas,'Courier New',monospace\">┏━━━━━━━━━━━━━━━━━━━━━━━━━━━━━━━━━┳━━━━━━━━━━━━━━━━━━━━━━━━┳━━━━━━━━━━━━━━━┓\n",
       "┃<span style=\"font-weight: bold\"> Layer (type)                    </span>┃<span style=\"font-weight: bold\"> Output Shape           </span>┃<span style=\"font-weight: bold\">       Param # </span>┃\n",
       "┡━━━━━━━━━━━━━━━━━━━━━━━━━━━━━━━━━╇━━━━━━━━━━━━━━━━━━━━━━━━╇━━━━━━━━━━━━━━━┩\n",
       "│ dense_43 (<span style=\"color: #0087ff; text-decoration-color: #0087ff\">Dense</span>)                │ (<span style=\"color: #00d7ff; text-decoration-color: #00d7ff\">None</span>, <span style=\"color: #00af00; text-decoration-color: #00af00\">512</span>)            │       <span style=\"color: #00af00; text-decoration-color: #00af00\">512,512</span> │\n",
       "├─────────────────────────────────┼────────────────────────┼───────────────┤\n",
       "│ batch_normalization_32          │ (<span style=\"color: #00d7ff; text-decoration-color: #00d7ff\">None</span>, <span style=\"color: #00af00; text-decoration-color: #00af00\">512</span>)            │         <span style=\"color: #00af00; text-decoration-color: #00af00\">2,048</span> │\n",
       "│ (<span style=\"color: #0087ff; text-decoration-color: #0087ff\">BatchNormalization</span>)            │                        │               │\n",
       "├─────────────────────────────────┼────────────────────────┼───────────────┤\n",
       "│ activation_32 (<span style=\"color: #0087ff; text-decoration-color: #0087ff\">Activation</span>)      │ (<span style=\"color: #00d7ff; text-decoration-color: #00d7ff\">None</span>, <span style=\"color: #00af00; text-decoration-color: #00af00\">512</span>)            │             <span style=\"color: #00af00; text-decoration-color: #00af00\">0</span> │\n",
       "├─────────────────────────────────┼────────────────────────┼───────────────┤\n",
       "│ dropout_32 (<span style=\"color: #0087ff; text-decoration-color: #0087ff\">Dropout</span>)            │ (<span style=\"color: #00d7ff; text-decoration-color: #00d7ff\">None</span>, <span style=\"color: #00af00; text-decoration-color: #00af00\">512</span>)            │             <span style=\"color: #00af00; text-decoration-color: #00af00\">0</span> │\n",
       "├─────────────────────────────────┼────────────────────────┼───────────────┤\n",
       "│ dense_44 (<span style=\"color: #0087ff; text-decoration-color: #0087ff\">Dense</span>)                │ (<span style=\"color: #00d7ff; text-decoration-color: #00d7ff\">None</span>, <span style=\"color: #00af00; text-decoration-color: #00af00\">128</span>)            │        <span style=\"color: #00af00; text-decoration-color: #00af00\">65,664</span> │\n",
       "├─────────────────────────────────┼────────────────────────┼───────────────┤\n",
       "│ batch_normalization_33          │ (<span style=\"color: #00d7ff; text-decoration-color: #00d7ff\">None</span>, <span style=\"color: #00af00; text-decoration-color: #00af00\">128</span>)            │           <span style=\"color: #00af00; text-decoration-color: #00af00\">512</span> │\n",
       "│ (<span style=\"color: #0087ff; text-decoration-color: #0087ff\">BatchNormalization</span>)            │                        │               │\n",
       "├─────────────────────────────────┼────────────────────────┼───────────────┤\n",
       "│ activation_33 (<span style=\"color: #0087ff; text-decoration-color: #0087ff\">Activation</span>)      │ (<span style=\"color: #00d7ff; text-decoration-color: #00d7ff\">None</span>, <span style=\"color: #00af00; text-decoration-color: #00af00\">128</span>)            │             <span style=\"color: #00af00; text-decoration-color: #00af00\">0</span> │\n",
       "├─────────────────────────────────┼────────────────────────┼───────────────┤\n",
       "│ dropout_33 (<span style=\"color: #0087ff; text-decoration-color: #0087ff\">Dropout</span>)            │ (<span style=\"color: #00d7ff; text-decoration-color: #00d7ff\">None</span>, <span style=\"color: #00af00; text-decoration-color: #00af00\">128</span>)            │             <span style=\"color: #00af00; text-decoration-color: #00af00\">0</span> │\n",
       "├─────────────────────────────────┼────────────────────────┼───────────────┤\n",
       "│ dense_45 (<span style=\"color: #0087ff; text-decoration-color: #0087ff\">Dense</span>)                │ (<span style=\"color: #00d7ff; text-decoration-color: #00d7ff\">None</span>, <span style=\"color: #00af00; text-decoration-color: #00af00\">6</span>)              │           <span style=\"color: #00af00; text-decoration-color: #00af00\">774</span> │\n",
       "└─────────────────────────────────┴────────────────────────┴───────────────┘\n",
       "</pre>\n"
      ],
      "text/plain": [
       "┏━━━━━━━━━━━━━━━━━━━━━━━━━━━━━━━━━┳━━━━━━━━━━━━━━━━━━━━━━━━┳━━━━━━━━━━━━━━━┓\n",
       "┃\u001b[1m \u001b[0m\u001b[1mLayer (type)                   \u001b[0m\u001b[1m \u001b[0m┃\u001b[1m \u001b[0m\u001b[1mOutput Shape          \u001b[0m\u001b[1m \u001b[0m┃\u001b[1m \u001b[0m\u001b[1m      Param #\u001b[0m\u001b[1m \u001b[0m┃\n",
       "┡━━━━━━━━━━━━━━━━━━━━━━━━━━━━━━━━━╇━━━━━━━━━━━━━━━━━━━━━━━━╇━━━━━━━━━━━━━━━┩\n",
       "│ dense_43 (\u001b[38;5;33mDense\u001b[0m)                │ (\u001b[38;5;45mNone\u001b[0m, \u001b[38;5;34m512\u001b[0m)            │       \u001b[38;5;34m512,512\u001b[0m │\n",
       "├─────────────────────────────────┼────────────────────────┼───────────────┤\n",
       "│ batch_normalization_32          │ (\u001b[38;5;45mNone\u001b[0m, \u001b[38;5;34m512\u001b[0m)            │         \u001b[38;5;34m2,048\u001b[0m │\n",
       "│ (\u001b[38;5;33mBatchNormalization\u001b[0m)            │                        │               │\n",
       "├─────────────────────────────────┼────────────────────────┼───────────────┤\n",
       "│ activation_32 (\u001b[38;5;33mActivation\u001b[0m)      │ (\u001b[38;5;45mNone\u001b[0m, \u001b[38;5;34m512\u001b[0m)            │             \u001b[38;5;34m0\u001b[0m │\n",
       "├─────────────────────────────────┼────────────────────────┼───────────────┤\n",
       "│ dropout_32 (\u001b[38;5;33mDropout\u001b[0m)            │ (\u001b[38;5;45mNone\u001b[0m, \u001b[38;5;34m512\u001b[0m)            │             \u001b[38;5;34m0\u001b[0m │\n",
       "├─────────────────────────────────┼────────────────────────┼───────────────┤\n",
       "│ dense_44 (\u001b[38;5;33mDense\u001b[0m)                │ (\u001b[38;5;45mNone\u001b[0m, \u001b[38;5;34m128\u001b[0m)            │        \u001b[38;5;34m65,664\u001b[0m │\n",
       "├─────────────────────────────────┼────────────────────────┼───────────────┤\n",
       "│ batch_normalization_33          │ (\u001b[38;5;45mNone\u001b[0m, \u001b[38;5;34m128\u001b[0m)            │           \u001b[38;5;34m512\u001b[0m │\n",
       "│ (\u001b[38;5;33mBatchNormalization\u001b[0m)            │                        │               │\n",
       "├─────────────────────────────────┼────────────────────────┼───────────────┤\n",
       "│ activation_33 (\u001b[38;5;33mActivation\u001b[0m)      │ (\u001b[38;5;45mNone\u001b[0m, \u001b[38;5;34m128\u001b[0m)            │             \u001b[38;5;34m0\u001b[0m │\n",
       "├─────────────────────────────────┼────────────────────────┼───────────────┤\n",
       "│ dropout_33 (\u001b[38;5;33mDropout\u001b[0m)            │ (\u001b[38;5;45mNone\u001b[0m, \u001b[38;5;34m128\u001b[0m)            │             \u001b[38;5;34m0\u001b[0m │\n",
       "├─────────────────────────────────┼────────────────────────┼───────────────┤\n",
       "│ dense_45 (\u001b[38;5;33mDense\u001b[0m)                │ (\u001b[38;5;45mNone\u001b[0m, \u001b[38;5;34m6\u001b[0m)              │           \u001b[38;5;34m774\u001b[0m │\n",
       "└─────────────────────────────────┴────────────────────────┴───────────────┘\n"
      ]
     },
     "metadata": {},
     "output_type": "display_data"
    },
    {
     "data": {
      "text/html": [
       "<pre style=\"white-space:pre;overflow-x:auto;line-height:normal;font-family:Menlo,'DejaVu Sans Mono',consolas,'Courier New',monospace\"><span style=\"font-weight: bold\"> Total params: </span><span style=\"color: #00af00; text-decoration-color: #00af00\">581,510</span> (2.22 MB)\n",
       "</pre>\n"
      ],
      "text/plain": [
       "\u001b[1m Total params: \u001b[0m\u001b[38;5;34m581,510\u001b[0m (2.22 MB)\n"
      ]
     },
     "metadata": {},
     "output_type": "display_data"
    },
    {
     "data": {
      "text/html": [
       "<pre style=\"white-space:pre;overflow-x:auto;line-height:normal;font-family:Menlo,'DejaVu Sans Mono',consolas,'Courier New',monospace\"><span style=\"font-weight: bold\"> Trainable params: </span><span style=\"color: #00af00; text-decoration-color: #00af00\">580,230</span> (2.21 MB)\n",
       "</pre>\n"
      ],
      "text/plain": [
       "\u001b[1m Trainable params: \u001b[0m\u001b[38;5;34m580,230\u001b[0m (2.21 MB)\n"
      ]
     },
     "metadata": {},
     "output_type": "display_data"
    },
    {
     "data": {
      "text/html": [
       "<pre style=\"white-space:pre;overflow-x:auto;line-height:normal;font-family:Menlo,'DejaVu Sans Mono',consolas,'Courier New',monospace\"><span style=\"font-weight: bold\"> Non-trainable params: </span><span style=\"color: #00af00; text-decoration-color: #00af00\">1,280</span> (5.00 KB)\n",
       "</pre>\n"
      ],
      "text/plain": [
       "\u001b[1m Non-trainable params: \u001b[0m\u001b[38;5;34m1,280\u001b[0m (5.00 KB)\n"
      ]
     },
     "metadata": {},
     "output_type": "display_data"
    }
   ],
   "source": [
    "\n",
    "def step_decay_schedule(initial_lr=0.001, decay_factor=0.5, step_size=10):\n",
    "    def schedule(epoch):\n",
    "        return max(initial_lr * math.pow(decay_factor, math.floor((1+epoch)/step_size)), 0.000001)\n",
    "    return LearningRateScheduler(schedule)\n",
    "    \n",
    "learning_rate = 0.0001  # Adjust this value as needed\n",
    "optimizer = Adam(learning_rate=learning_rate)\n",
    "# Define the model\n",
    "model = Sequential()\n",
    "model.add(Dense(512, input_shape=(x_train.shape[1],), kernel_initializer=glorot_uniform(),kernel_regularizer=l2(0.1)))\n",
    "model.add(BatchNormalization())\n",
    "model.add(Activation('relu'))\n",
    "model.add(Dropout(0.5))\n",
    "model.add(Dense(128, kernel_initializer=glorot_uniform(),kernel_regularizer=l2(0.1)))\n",
    "model.add(BatchNormalization())\n",
    "model.add(Activation('relu'))\n",
    "model.add(Dropout(0.5))\n",
    "model.add(Dense(y_train.shape[1], activation='sigmoid'))  # Output layer with softmax activation for multiclass classification\n",
    "\n",
    "# Compile the model\n",
    "model.compile(loss='binary_crossentropy', optimizer=optimizer, metrics=['accuracy'])\n",
    "\n",
    "# Print model summary\n",
    "model.summary()"
   ]
  },
  {
   "cell_type": "code",
   "execution_count": 88,
   "id": "3c8a82ad-3576-4935-b7c3-7d49a61e2388",
   "metadata": {
    "scrolled": true
   },
   "outputs": [
    {
     "name": "stdout",
     "output_type": "stream",
     "text": [
      "Epoch 1/200\n",
      "\u001b[1m68/68\u001b[0m \u001b[32m━━━━━━━━━━━━━━━━━━━━\u001b[0m\u001b[37m\u001b[0m \u001b[1m2s\u001b[0m 14ms/step - accuracy: 0.1534 - loss: 82.8723 - val_accuracy: 0.0126 - val_loss: 66.0257 - learning_rate: 1.0000e-04\n",
      "Epoch 2/200\n",
      "\u001b[1m68/68\u001b[0m \u001b[32m━━━━━━━━━━━━━━━━━━━━\u001b[0m\u001b[37m\u001b[0m \u001b[1m1s\u001b[0m 12ms/step - accuracy: 0.1579 - loss: 61.5417 - val_accuracy: 0.0126 - val_loss: 48.9084 - learning_rate: 1.0000e-04\n",
      "Epoch 3/200\n",
      "\u001b[1m68/68\u001b[0m \u001b[32m━━━━━━━━━━━━━━━━━━━━\u001b[0m\u001b[37m\u001b[0m \u001b[1m1s\u001b[0m 11ms/step - accuracy: 0.1647 - loss: 45.5526 - val_accuracy: 0.0126 - val_loss: 36.0930 - learning_rate: 1.0000e-04\n",
      "Epoch 4/200\n",
      "\u001b[1m68/68\u001b[0m \u001b[32m━━━━━━━━━━━━━━━━━━━━\u001b[0m\u001b[37m\u001b[0m \u001b[1m1s\u001b[0m 12ms/step - accuracy: 0.1937 - loss: 33.5842 - val_accuracy: 0.0158 - val_loss: 26.5357 - learning_rate: 1.0000e-04\n",
      "Epoch 5/200\n",
      "\u001b[1m68/68\u001b[0m \u001b[32m━━━━━━━━━━━━━━━━━━━━\u001b[0m\u001b[37m\u001b[0m \u001b[1m1s\u001b[0m 11ms/step - accuracy: 0.2144 - loss: 24.6717 - val_accuracy: 0.0578 - val_loss: 19.4543 - learning_rate: 1.0000e-04\n",
      "Epoch 6/200\n",
      "\u001b[1m68/68\u001b[0m \u001b[32m━━━━━━━━━━━━━━━━━━━━\u001b[0m\u001b[37m\u001b[0m \u001b[1m1s\u001b[0m 12ms/step - accuracy: 0.2480 - loss: 18.0694 - val_accuracy: 0.1500 - val_loss: 14.2451 - learning_rate: 1.0000e-04\n",
      "Epoch 7/200\n",
      "\u001b[1m68/68\u001b[0m \u001b[32m━━━━━━━━━━━━━━━━━━━━\u001b[0m\u001b[37m\u001b[0m \u001b[1m1s\u001b[0m 11ms/step - accuracy: 0.2710 - loss: 13.2170 - val_accuracy: 0.2124 - val_loss: 10.4369 - learning_rate: 1.0000e-04\n",
      "Epoch 8/200\n",
      "\u001b[1m68/68\u001b[0m \u001b[32m━━━━━━━━━━━━━━━━━━━━\u001b[0m\u001b[37m\u001b[0m \u001b[1m1s\u001b[0m 11ms/step - accuracy: 0.3108 - loss: 9.6640 - val_accuracy: 0.3009 - val_loss: 7.6631 - learning_rate: 1.0000e-04\n",
      "Epoch 9/200\n",
      "\u001b[1m68/68\u001b[0m \u001b[32m━━━━━━━━━━━━━━━━━━━━\u001b[0m\u001b[37m\u001b[0m \u001b[1m1s\u001b[0m 12ms/step - accuracy: 0.3470 - loss: 7.0802 - val_accuracy: 0.3805 - val_loss: 5.6529 - learning_rate: 1.0000e-04\n",
      "Epoch 10/200\n",
      "\u001b[1m68/68\u001b[0m \u001b[32m━━━━━━━━━━━━━━━━━━━━\u001b[0m\u001b[37m\u001b[0m \u001b[1m1s\u001b[0m 11ms/step - accuracy: 0.3915 - loss: 5.3647 - val_accuracy: 0.4164 - val_loss: 4.7103 - learning_rate: 6.0000e-05\n",
      "Epoch 11/200\n",
      "\u001b[1m68/68\u001b[0m \u001b[32m━━━━━━━━━━━━━━━━━━━━\u001b[0m\u001b[37m\u001b[0m \u001b[1m1s\u001b[0m 12ms/step - accuracy: 0.4228 - loss: 4.4628 - val_accuracy: 0.4299 - val_loss: 3.9265 - learning_rate: 6.0000e-05\n",
      "Epoch 12/200\n",
      "\u001b[1m68/68\u001b[0m \u001b[32m━━━━━━━━━━━━━━━━━━━━\u001b[0m\u001b[37m\u001b[0m \u001b[1m1s\u001b[0m 11ms/step - accuracy: 0.4394 - loss: 3.7164 - val_accuracy: 0.4476 - val_loss: 3.2839 - learning_rate: 6.0000e-05\n",
      "Epoch 13/200\n",
      "\u001b[1m68/68\u001b[0m \u001b[32m━━━━━━━━━━━━━━━━━━━━\u001b[0m\u001b[37m\u001b[0m \u001b[1m1s\u001b[0m 11ms/step - accuracy: 0.4732 - loss: 3.1064 - val_accuracy: 0.4555 - val_loss: 2.7570 - learning_rate: 6.0000e-05\n",
      "Epoch 14/200\n",
      "\u001b[1m68/68\u001b[0m \u001b[32m━━━━━━━━━━━━━━━━━━━━\u001b[0m\u001b[37m\u001b[0m \u001b[1m1s\u001b[0m 12ms/step - accuracy: 0.4960 - loss: 2.5953 - val_accuracy: 0.4704 - val_loss: 2.3276 - learning_rate: 6.0000e-05\n",
      "Epoch 15/200\n",
      "\u001b[1m68/68\u001b[0m \u001b[32m━━━━━━━━━━━━━━━━━━━━\u001b[0m\u001b[37m\u001b[0m \u001b[1m1s\u001b[0m 11ms/step - accuracy: 0.5025 - loss: 2.1853 - val_accuracy: 0.4690 - val_loss: 1.9796 - learning_rate: 6.0000e-05\n",
      "Epoch 16/200\n",
      "\u001b[1m68/68\u001b[0m \u001b[32m━━━━━━━━━━━━━━━━━━━━\u001b[0m\u001b[37m\u001b[0m \u001b[1m1s\u001b[0m 11ms/step - accuracy: 0.5246 - loss: 1.8481 - val_accuracy: 0.4714 - val_loss: 1.6977 - learning_rate: 6.0000e-05\n",
      "Epoch 17/200\n",
      "\u001b[1m68/68\u001b[0m \u001b[32m━━━━━━━━━━━━━━━━━━━━\u001b[0m\u001b[37m\u001b[0m \u001b[1m1s\u001b[0m 12ms/step - accuracy: 0.5376 - loss: 1.5723 - val_accuracy: 0.4746 - val_loss: 1.4680 - learning_rate: 6.0000e-05\n",
      "Epoch 18/200\n",
      "\u001b[1m68/68\u001b[0m \u001b[32m━━━━━━━━━━━━━━━━━━━━\u001b[0m\u001b[37m\u001b[0m \u001b[1m1s\u001b[0m 12ms/step - accuracy: 0.5451 - loss: 1.3544 - val_accuracy: 0.4797 - val_loss: 1.2819 - learning_rate: 6.0000e-05\n",
      "Epoch 19/200\n",
      "\u001b[1m68/68\u001b[0m \u001b[32m━━━━━━━━━━━━━━━━━━━━\u001b[0m\u001b[37m\u001b[0m \u001b[1m1s\u001b[0m 11ms/step - accuracy: 0.5666 - loss: 1.1772 - val_accuracy: 0.4830 - val_loss: 1.1323 - learning_rate: 6.0000e-05\n",
      "Epoch 20/200\n",
      "\u001b[1m68/68\u001b[0m \u001b[32m━━━━━━━━━━━━━━━━━━━━\u001b[0m\u001b[37m\u001b[0m \u001b[1m1s\u001b[0m 11ms/step - accuracy: 0.5792 - loss: 1.0399 - val_accuracy: 0.4793 - val_loss: 1.0515 - learning_rate: 3.6000e-05\n",
      "Epoch 21/200\n",
      "\u001b[1m68/68\u001b[0m \u001b[32m━━━━━━━━━━━━━━━━━━━━\u001b[0m\u001b[37m\u001b[0m \u001b[1m1s\u001b[0m 11ms/step - accuracy: 0.5833 - loss: 0.9622 - val_accuracy: 0.4821 - val_loss: 0.9809 - learning_rate: 3.6000e-05\n",
      "Epoch 22/200\n",
      "\u001b[1m68/68\u001b[0m \u001b[32m━━━━━━━━━━━━━━━━━━━━\u001b[0m\u001b[37m\u001b[0m \u001b[1m1s\u001b[0m 11ms/step - accuracy: 0.5900 - loss: 0.8977 - val_accuracy: 0.4825 - val_loss: 0.9202 - learning_rate: 3.6000e-05\n",
      "Epoch 23/200\n",
      "\u001b[1m68/68\u001b[0m \u001b[32m━━━━━━━━━━━━━━━━━━━━\u001b[0m\u001b[37m\u001b[0m \u001b[1m1s\u001b[0m 12ms/step - accuracy: 0.5939 - loss: 0.8298 - val_accuracy: 0.4872 - val_loss: 0.8661 - learning_rate: 3.6000e-05\n",
      "Epoch 24/200\n",
      "\u001b[1m68/68\u001b[0m \u001b[32m━━━━━━━━━━━━━━━━━━━━\u001b[0m\u001b[37m\u001b[0m \u001b[1m1s\u001b[0m 11ms/step - accuracy: 0.6009 - loss: 0.7806 - val_accuracy: 0.4867 - val_loss: 0.8189 - learning_rate: 3.6000e-05\n",
      "Epoch 25/200\n",
      "\u001b[1m68/68\u001b[0m \u001b[32m━━━━━━━━━━━━━━━━━━━━\u001b[0m\u001b[37m\u001b[0m \u001b[1m1s\u001b[0m 12ms/step - accuracy: 0.6023 - loss: 0.7326 - val_accuracy: 0.4853 - val_loss: 0.7764 - learning_rate: 3.6000e-05\n",
      "Epoch 26/200\n",
      "\u001b[1m68/68\u001b[0m \u001b[32m━━━━━━━━━━━━━━━━━━━━\u001b[0m\u001b[37m\u001b[0m \u001b[1m1s\u001b[0m 11ms/step - accuracy: 0.6084 - loss: 0.6924 - val_accuracy: 0.4863 - val_loss: 0.7386 - learning_rate: 3.6000e-05\n",
      "Epoch 27/200\n",
      "\u001b[1m68/68\u001b[0m \u001b[32m━━━━━━━━━━━━━━━━━━━━\u001b[0m\u001b[37m\u001b[0m \u001b[1m1s\u001b[0m 11ms/step - accuracy: 0.6077 - loss: 0.6536 - val_accuracy: 0.4783 - val_loss: 0.7064 - learning_rate: 3.6000e-05\n",
      "Epoch 28/200\n",
      "\u001b[1m68/68\u001b[0m \u001b[32m━━━━━━━━━━━━━━━━━━━━\u001b[0m\u001b[37m\u001b[0m \u001b[1m1s\u001b[0m 12ms/step - accuracy: 0.6104 - loss: 0.6230 - val_accuracy: 0.4872 - val_loss: 0.6780 - learning_rate: 3.6000e-05\n",
      "Epoch 29/200\n",
      "\u001b[1m68/68\u001b[0m \u001b[32m━━━━━━━━━━━━━━━━━━━━\u001b[0m\u001b[37m\u001b[0m \u001b[1m1s\u001b[0m 12ms/step - accuracy: 0.6122 - loss: 0.5956 - val_accuracy: 0.4909 - val_loss: 0.6532 - learning_rate: 3.6000e-05\n",
      "Epoch 30/200\n",
      "\u001b[1m68/68\u001b[0m \u001b[32m━━━━━━━━━━━━━━━━━━━━\u001b[0m\u001b[37m\u001b[0m \u001b[1m1s\u001b[0m 11ms/step - accuracy: 0.6153 - loss: 0.5728 - val_accuracy: 0.4858 - val_loss: 0.6391 - learning_rate: 2.1600e-05\n",
      "Epoch 31/200\n",
      "\u001b[1m68/68\u001b[0m \u001b[32m━━━━━━━━━━━━━━━━━━━━\u001b[0m\u001b[37m\u001b[0m \u001b[1m1s\u001b[0m 12ms/step - accuracy: 0.6219 - loss: 0.5552 - val_accuracy: 0.4844 - val_loss: 0.6265 - learning_rate: 2.1600e-05\n",
      "Epoch 32/200\n",
      "\u001b[1m68/68\u001b[0m \u001b[32m━━━━━━━━━━━━━━━━━━━━\u001b[0m\u001b[37m\u001b[0m \u001b[1m1s\u001b[0m 11ms/step - accuracy: 0.6142 - loss: 0.5424 - val_accuracy: 0.4867 - val_loss: 0.6143 - learning_rate: 2.1600e-05\n",
      "Epoch 33/200\n",
      "\u001b[1m68/68\u001b[0m \u001b[32m━━━━━━━━━━━━━━━━━━━━\u001b[0m\u001b[37m\u001b[0m \u001b[1m1s\u001b[0m 11ms/step - accuracy: 0.6213 - loss: 0.5320 - val_accuracy: 0.4900 - val_loss: 0.6040 - learning_rate: 2.1600e-05\n",
      "Epoch 34/200\n",
      "\u001b[1m68/68\u001b[0m \u001b[32m━━━━━━━━━━━━━━━━━━━━\u001b[0m\u001b[37m\u001b[0m \u001b[1m1s\u001b[0m 12ms/step - accuracy: 0.6293 - loss: 0.5199 - val_accuracy: 0.4877 - val_loss: 0.5937 - learning_rate: 2.1600e-05\n",
      "Epoch 35/200\n",
      "\u001b[1m68/68\u001b[0m \u001b[32m━━━━━━━━━━━━━━━━━━━━\u001b[0m\u001b[37m\u001b[0m \u001b[1m1s\u001b[0m 12ms/step - accuracy: 0.6254 - loss: 0.5110 - val_accuracy: 0.4886 - val_loss: 0.5851 - learning_rate: 2.1600e-05\n",
      "Epoch 36/200\n",
      "\u001b[1m68/68\u001b[0m \u001b[32m━━━━━━━━━━━━━━━━━━━━\u001b[0m\u001b[37m\u001b[0m \u001b[1m1s\u001b[0m 12ms/step - accuracy: 0.6180 - loss: 0.5039 - val_accuracy: 0.4946 - val_loss: 0.5768 - learning_rate: 2.1600e-05\n",
      "Epoch 37/200\n",
      "\u001b[1m68/68\u001b[0m \u001b[32m━━━━━━━━━━━━━━━━━━━━\u001b[0m\u001b[37m\u001b[0m \u001b[1m1s\u001b[0m 11ms/step - accuracy: 0.6287 - loss: 0.4915 - val_accuracy: 0.4886 - val_loss: 0.5690 - learning_rate: 2.1600e-05\n",
      "Epoch 38/200\n",
      "\u001b[1m68/68\u001b[0m \u001b[32m━━━━━━━━━━━━━━━━━━━━\u001b[0m\u001b[37m\u001b[0m \u001b[1m1s\u001b[0m 11ms/step - accuracy: 0.6378 - loss: 0.4827 - val_accuracy: 0.4905 - val_loss: 0.5624 - learning_rate: 2.1600e-05\n",
      "Epoch 39/200\n",
      "\u001b[1m68/68\u001b[0m \u001b[32m━━━━━━━━━━━━━━━━━━━━\u001b[0m\u001b[37m\u001b[0m \u001b[1m1s\u001b[0m 12ms/step - accuracy: 0.6312 - loss: 0.4748 - val_accuracy: 0.4946 - val_loss: 0.5566 - learning_rate: 2.1600e-05\n",
      "Epoch 40/200\n",
      "\u001b[1m68/68\u001b[0m \u001b[32m━━━━━━━━━━━━━━━━━━━━\u001b[0m\u001b[37m\u001b[0m \u001b[1m1s\u001b[0m 11ms/step - accuracy: 0.6269 - loss: 0.4713 - val_accuracy: 0.4918 - val_loss: 0.5527 - learning_rate: 1.2960e-05\n",
      "Epoch 41/200\n",
      "\u001b[1m68/68\u001b[0m \u001b[32m━━━━━━━━━━━━━━━━━━━━\u001b[0m\u001b[37m\u001b[0m \u001b[1m1s\u001b[0m 12ms/step - accuracy: 0.6195 - loss: 0.4642 - val_accuracy: 0.4932 - val_loss: 0.5489 - learning_rate: 1.2960e-05\n",
      "Epoch 42/200\n",
      "\u001b[1m68/68\u001b[0m \u001b[32m━━━━━━━━━━━━━━━━━━━━\u001b[0m\u001b[37m\u001b[0m \u001b[1m1s\u001b[0m 12ms/step - accuracy: 0.6283 - loss: 0.4620 - val_accuracy: 0.4984 - val_loss: 0.5456 - learning_rate: 1.2960e-05\n",
      "Epoch 43/200\n",
      "\u001b[1m68/68\u001b[0m \u001b[32m━━━━━━━━━━━━━━━━━━━━\u001b[0m\u001b[37m\u001b[0m \u001b[1m1s\u001b[0m 12ms/step - accuracy: 0.6374 - loss: 0.4558 - val_accuracy: 0.4891 - val_loss: 0.5428 - learning_rate: 1.2960e-05\n",
      "Epoch 44/200\n",
      "\u001b[1m68/68\u001b[0m \u001b[32m━━━━━━━━━━━━━━━━━━━━\u001b[0m\u001b[37m\u001b[0m \u001b[1m1s\u001b[0m 11ms/step - accuracy: 0.6250 - loss: 0.4553 - val_accuracy: 0.4932 - val_loss: 0.5399 - learning_rate: 1.2960e-05\n",
      "Epoch 45/200\n",
      "\u001b[1m68/68\u001b[0m \u001b[32m━━━━━━━━━━━━━━━━━━━━\u001b[0m\u001b[37m\u001b[0m \u001b[1m1s\u001b[0m 12ms/step - accuracy: 0.6326 - loss: 0.4504 - val_accuracy: 0.4923 - val_loss: 0.5372 - learning_rate: 1.2960e-05\n",
      "Epoch 46/200\n",
      "\u001b[1m68/68\u001b[0m \u001b[32m━━━━━━━━━━━━━━━━━━━━\u001b[0m\u001b[37m\u001b[0m \u001b[1m1s\u001b[0m 12ms/step - accuracy: 0.6424 - loss: 0.4486 - val_accuracy: 0.4881 - val_loss: 0.5344 - learning_rate: 1.2960e-05\n",
      "Epoch 47/200\n",
      "\u001b[1m68/68\u001b[0m \u001b[32m━━━━━━━━━━━━━━━━━━━━\u001b[0m\u001b[37m\u001b[0m \u001b[1m1s\u001b[0m 12ms/step - accuracy: 0.6511 - loss: 0.4427 - val_accuracy: 0.4923 - val_loss: 0.5321 - learning_rate: 1.2960e-05\n",
      "Epoch 48/200\n",
      "\u001b[1m68/68\u001b[0m \u001b[32m━━━━━━━━━━━━━━━━━━━━\u001b[0m\u001b[37m\u001b[0m \u001b[1m1s\u001b[0m 12ms/step - accuracy: 0.6426 - loss: 0.4415 - val_accuracy: 0.4886 - val_loss: 0.5301 - learning_rate: 1.2960e-05\n",
      "Epoch 49/200\n",
      "\u001b[1m68/68\u001b[0m \u001b[32m━━━━━━━━━━━━━━━━━━━━\u001b[0m\u001b[37m\u001b[0m \u001b[1m1s\u001b[0m 12ms/step - accuracy: 0.6350 - loss: 0.4377 - val_accuracy: 0.4918 - val_loss: 0.5278 - learning_rate: 1.2960e-05\n",
      "Epoch 50/200\n",
      "\u001b[1m68/68\u001b[0m \u001b[32m━━━━━━━━━━━━━━━━━━━━\u001b[0m\u001b[37m\u001b[0m \u001b[1m1s\u001b[0m 12ms/step - accuracy: 0.6496 - loss: 0.4357 - val_accuracy: 0.4942 - val_loss: 0.5264 - learning_rate: 7.7760e-06\n",
      "Epoch 51/200\n",
      "\u001b[1m68/68\u001b[0m \u001b[32m━━━━━━━━━━━━━━━━━━━━\u001b[0m\u001b[37m\u001b[0m \u001b[1m1s\u001b[0m 12ms/step - accuracy: 0.6307 - loss: 0.4349 - val_accuracy: 0.4928 - val_loss: 0.5252 - learning_rate: 7.7760e-06\n",
      "Epoch 52/200\n",
      "\u001b[1m68/68\u001b[0m \u001b[32m━━━━━━━━━━━━━━━━━━━━\u001b[0m\u001b[37m\u001b[0m \u001b[1m1s\u001b[0m 12ms/step - accuracy: 0.6424 - loss: 0.4296 - val_accuracy: 0.4946 - val_loss: 0.5240 - learning_rate: 7.7760e-06\n",
      "Epoch 53/200\n",
      "\u001b[1m68/68\u001b[0m \u001b[32m━━━━━━━━━━━━━━━━━━━━\u001b[0m\u001b[37m\u001b[0m \u001b[1m1s\u001b[0m 12ms/step - accuracy: 0.6382 - loss: 0.4328 - val_accuracy: 0.4937 - val_loss: 0.5231 - learning_rate: 7.7760e-06\n",
      "Epoch 54/200\n",
      "\u001b[1m68/68\u001b[0m \u001b[32m━━━━━━━━━━━━━━━━━━━━\u001b[0m\u001b[37m\u001b[0m \u001b[1m1s\u001b[0m 12ms/step - accuracy: 0.6378 - loss: 0.4278 - val_accuracy: 0.4942 - val_loss: 0.5220 - learning_rate: 7.7760e-06\n",
      "Epoch 55/200\n",
      "\u001b[1m68/68\u001b[0m \u001b[32m━━━━━━━━━━━━━━━━━━━━\u001b[0m\u001b[37m\u001b[0m \u001b[1m1s\u001b[0m 12ms/step - accuracy: 0.6473 - loss: 0.4302 - val_accuracy: 0.4909 - val_loss: 0.5207 - learning_rate: 7.7760e-06\n",
      "Epoch 56/200\n",
      "\u001b[1m68/68\u001b[0m \u001b[32m━━━━━━━━━━━━━━━━━━━━\u001b[0m\u001b[37m\u001b[0m \u001b[1m1s\u001b[0m 12ms/step - accuracy: 0.6370 - loss: 0.4290 - val_accuracy: 0.4928 - val_loss: 0.5196 - learning_rate: 7.7760e-06\n",
      "Epoch 57/200\n",
      "\u001b[1m68/68\u001b[0m \u001b[32m━━━━━━━━━━━━━━━━━━━━\u001b[0m\u001b[37m\u001b[0m \u001b[1m1s\u001b[0m 12ms/step - accuracy: 0.6372 - loss: 0.4241 - val_accuracy: 0.4960 - val_loss: 0.5188 - learning_rate: 7.7760e-06\n",
      "Epoch 58/200\n",
      "\u001b[1m68/68\u001b[0m \u001b[32m━━━━━━━━━━━━━━━━━━━━\u001b[0m\u001b[37m\u001b[0m \u001b[1m1s\u001b[0m 12ms/step - accuracy: 0.6506 - loss: 0.4219 - val_accuracy: 0.4951 - val_loss: 0.5177 - learning_rate: 7.7760e-06\n",
      "Epoch 59/200\n",
      "\u001b[1m68/68\u001b[0m \u001b[32m━━━━━━━━━━━━━━━━━━━━\u001b[0m\u001b[37m\u001b[0m \u001b[1m1s\u001b[0m 12ms/step - accuracy: 0.6342 - loss: 0.4234 - val_accuracy: 0.4932 - val_loss: 0.5168 - learning_rate: 7.7760e-06\n",
      "Epoch 60/200\n",
      "\u001b[1m68/68\u001b[0m \u001b[32m━━━━━━━━━━━━━━━━━━━━\u001b[0m\u001b[37m\u001b[0m \u001b[1m1s\u001b[0m 12ms/step - accuracy: 0.6501 - loss: 0.4180 - val_accuracy: 0.4942 - val_loss: 0.5163 - learning_rate: 4.6656e-06\n",
      "Epoch 61/200\n",
      "\u001b[1m68/68\u001b[0m \u001b[32m━━━━━━━━━━━━━━━━━━━━\u001b[0m\u001b[37m\u001b[0m \u001b[1m1s\u001b[0m 12ms/step - accuracy: 0.6523 - loss: 0.4188 - val_accuracy: 0.4946 - val_loss: 0.5160 - learning_rate: 4.6656e-06\n",
      "Epoch 62/200\n",
      "\u001b[1m68/68\u001b[0m \u001b[32m━━━━━━━━━━━━━━━━━━━━\u001b[0m\u001b[37m\u001b[0m \u001b[1m1s\u001b[0m 12ms/step - accuracy: 0.6346 - loss: 0.4216 - val_accuracy: 0.4951 - val_loss: 0.5153 - learning_rate: 4.6656e-06\n",
      "Epoch 63/200\n",
      "\u001b[1m68/68\u001b[0m \u001b[32m━━━━━━━━━━━━━━━━━━━━\u001b[0m\u001b[37m\u001b[0m \u001b[1m1s\u001b[0m 12ms/step - accuracy: 0.6408 - loss: 0.4188 - val_accuracy: 0.4951 - val_loss: 0.5148 - learning_rate: 4.6656e-06\n",
      "Epoch 64/200\n",
      "\u001b[1m68/68\u001b[0m \u001b[32m━━━━━━━━━━━━━━━━━━━━\u001b[0m\u001b[37m\u001b[0m \u001b[1m1s\u001b[0m 12ms/step - accuracy: 0.6443 - loss: 0.4199 - val_accuracy: 0.4956 - val_loss: 0.5145 - learning_rate: 4.6656e-06\n",
      "Epoch 65/200\n",
      "\u001b[1m68/68\u001b[0m \u001b[32m━━━━━━━━━━━━━━━━━━━━\u001b[0m\u001b[37m\u001b[0m \u001b[1m1s\u001b[0m 12ms/step - accuracy: 0.6413 - loss: 0.4199 - val_accuracy: 0.4951 - val_loss: 0.5141 - learning_rate: 4.6656e-06\n",
      "Epoch 66/200\n",
      "\u001b[1m68/68\u001b[0m \u001b[32m━━━━━━━━━━━━━━━━━━━━\u001b[0m\u001b[37m\u001b[0m \u001b[1m1s\u001b[0m 12ms/step - accuracy: 0.6415 - loss: 0.4188 - val_accuracy: 0.4937 - val_loss: 0.5138 - learning_rate: 4.6656e-06\n",
      "Epoch 67/200\n",
      "\u001b[1m68/68\u001b[0m \u001b[32m━━━━━━━━━━━━━━━━━━━━\u001b[0m\u001b[37m\u001b[0m \u001b[1m1s\u001b[0m 12ms/step - accuracy: 0.6377 - loss: 0.4141 - val_accuracy: 0.4946 - val_loss: 0.5134 - learning_rate: 4.6656e-06\n",
      "Epoch 68/200\n",
      "\u001b[1m68/68\u001b[0m \u001b[32m━━━━━━━━━━━━━━━━━━━━\u001b[0m\u001b[37m\u001b[0m \u001b[1m1s\u001b[0m 12ms/step - accuracy: 0.6399 - loss: 0.4156 - val_accuracy: 0.4928 - val_loss: 0.5126 - learning_rate: 4.6656e-06\n",
      "Epoch 69/200\n",
      "\u001b[1m68/68\u001b[0m \u001b[32m━━━━━━━━━━━━━━━━━━━━\u001b[0m\u001b[37m\u001b[0m \u001b[1m1s\u001b[0m 12ms/step - accuracy: 0.6423 - loss: 0.4142 - val_accuracy: 0.4923 - val_loss: 0.5123 - learning_rate: 4.6656e-06\n",
      "Epoch 70/200\n",
      "\u001b[1m68/68\u001b[0m \u001b[32m━━━━━━━━━━━━━━━━━━━━\u001b[0m\u001b[37m\u001b[0m \u001b[1m1s\u001b[0m 11ms/step - accuracy: 0.6493 - loss: 0.4125 - val_accuracy: 0.4918 - val_loss: 0.5123 - learning_rate: 2.7994e-06\n",
      "Epoch 71/200\n",
      "\u001b[1m68/68\u001b[0m \u001b[32m━━━━━━━━━━━━━━━━━━━━\u001b[0m\u001b[37m\u001b[0m \u001b[1m1s\u001b[0m 11ms/step - accuracy: 0.6420 - loss: 0.4147 - val_accuracy: 0.4909 - val_loss: 0.5119 - learning_rate: 2.7994e-06\n",
      "Epoch 72/200\n",
      "\u001b[1m68/68\u001b[0m \u001b[32m━━━━━━━━━━━━━━━━━━━━\u001b[0m\u001b[37m\u001b[0m \u001b[1m1s\u001b[0m 11ms/step - accuracy: 0.6535 - loss: 0.4124 - val_accuracy: 0.4900 - val_loss: 0.5114 - learning_rate: 2.7994e-06\n",
      "Epoch 73/200\n",
      "\u001b[1m68/68\u001b[0m \u001b[32m━━━━━━━━━━━━━━━━━━━━\u001b[0m\u001b[37m\u001b[0m \u001b[1m1s\u001b[0m 12ms/step - accuracy: 0.6415 - loss: 0.4112 - val_accuracy: 0.4905 - val_loss: 0.5112 - learning_rate: 2.7994e-06\n",
      "Epoch 74/200\n",
      "\u001b[1m68/68\u001b[0m \u001b[32m━━━━━━━━━━━━━━━━━━━━\u001b[0m\u001b[37m\u001b[0m \u001b[1m1s\u001b[0m 11ms/step - accuracy: 0.6484 - loss: 0.4116 - val_accuracy: 0.4914 - val_loss: 0.5111 - learning_rate: 2.7994e-06\n",
      "Epoch 75/200\n",
      "\u001b[1m68/68\u001b[0m \u001b[32m━━━━━━━━━━━━━━━━━━━━\u001b[0m\u001b[37m\u001b[0m \u001b[1m1s\u001b[0m 12ms/step - accuracy: 0.6439 - loss: 0.4132 - val_accuracy: 0.4918 - val_loss: 0.5110 - learning_rate: 2.7994e-06\n",
      "Epoch 76/200\n",
      "\u001b[1m68/68\u001b[0m \u001b[32m━━━━━━━━━━━━━━━━━━━━\u001b[0m\u001b[37m\u001b[0m \u001b[1m1s\u001b[0m 11ms/step - accuracy: 0.6424 - loss: 0.4144 - val_accuracy: 0.4909 - val_loss: 0.5108 - learning_rate: 2.7994e-06\n",
      "Epoch 77/200\n",
      "\u001b[1m68/68\u001b[0m \u001b[32m━━━━━━━━━━━━━━━━━━━━\u001b[0m\u001b[37m\u001b[0m \u001b[1m1s\u001b[0m 11ms/step - accuracy: 0.6500 - loss: 0.4125 - val_accuracy: 0.4918 - val_loss: 0.5105 - learning_rate: 2.7994e-06\n",
      "Epoch 78/200\n",
      "\u001b[1m68/68\u001b[0m \u001b[32m━━━━━━━━━━━━━━━━━━━━\u001b[0m\u001b[37m\u001b[0m \u001b[1m1s\u001b[0m 12ms/step - accuracy: 0.6498 - loss: 0.4098 - val_accuracy: 0.4923 - val_loss: 0.5103 - learning_rate: 2.7994e-06\n",
      "Epoch 79/200\n",
      "\u001b[1m68/68\u001b[0m \u001b[32m━━━━━━━━━━━━━━━━━━━━\u001b[0m\u001b[37m\u001b[0m \u001b[1m1s\u001b[0m 12ms/step - accuracy: 0.6441 - loss: 0.4128 - val_accuracy: 0.4956 - val_loss: 0.5103 - learning_rate: 2.7994e-06\n",
      "Epoch 80/200\n",
      "\u001b[1m68/68\u001b[0m \u001b[32m━━━━━━━━━━━━━━━━━━━━\u001b[0m\u001b[37m\u001b[0m \u001b[1m1s\u001b[0m 11ms/step - accuracy: 0.6470 - loss: 0.4101 - val_accuracy: 0.4942 - val_loss: 0.5101 - learning_rate: 1.6796e-06\n",
      "Epoch 81/200\n",
      "\u001b[1m68/68\u001b[0m \u001b[32m━━━━━━━━━━━━━━━━━━━━\u001b[0m\u001b[37m\u001b[0m \u001b[1m1s\u001b[0m 12ms/step - accuracy: 0.6501 - loss: 0.4091 - val_accuracy: 0.4942 - val_loss: 0.5098 - learning_rate: 1.6796e-06\n",
      "Epoch 82/200\n",
      "\u001b[1m68/68\u001b[0m \u001b[32m━━━━━━━━━━━━━━━━━━━━\u001b[0m\u001b[37m\u001b[0m \u001b[1m1s\u001b[0m 12ms/step - accuracy: 0.6475 - loss: 0.4096 - val_accuracy: 0.4942 - val_loss: 0.5096 - learning_rate: 1.6796e-06\n",
      "Epoch 83/200\n",
      "\u001b[1m68/68\u001b[0m \u001b[32m━━━━━━━━━━━━━━━━━━━━\u001b[0m\u001b[37m\u001b[0m \u001b[1m1s\u001b[0m 11ms/step - accuracy: 0.6488 - loss: 0.4103 - val_accuracy: 0.4942 - val_loss: 0.5096 - learning_rate: 1.6796e-06\n",
      "Epoch 84/200\n",
      "\u001b[1m68/68\u001b[0m \u001b[32m━━━━━━━━━━━━━━━━━━━━\u001b[0m\u001b[37m\u001b[0m \u001b[1m1s\u001b[0m 12ms/step - accuracy: 0.6544 - loss: 0.4086 - val_accuracy: 0.4942 - val_loss: 0.5095 - learning_rate: 1.6796e-06\n",
      "Epoch 85/200\n",
      "\u001b[1m68/68\u001b[0m \u001b[32m━━━━━━━━━━━━━━━━━━━━\u001b[0m\u001b[37m\u001b[0m \u001b[1m1s\u001b[0m 11ms/step - accuracy: 0.6503 - loss: 0.4092 - val_accuracy: 0.4946 - val_loss: 0.5094 - learning_rate: 1.6796e-06\n",
      "Epoch 86/200\n",
      "\u001b[1m68/68\u001b[0m \u001b[32m━━━━━━━━━━━━━━━━━━━━\u001b[0m\u001b[37m\u001b[0m \u001b[1m1s\u001b[0m 11ms/step - accuracy: 0.6507 - loss: 0.4067 - val_accuracy: 0.4942 - val_loss: 0.5092 - learning_rate: 1.6796e-06\n",
      "Epoch 87/200\n",
      "\u001b[1m68/68\u001b[0m \u001b[32m━━━━━━━━━━━━━━━━━━━━\u001b[0m\u001b[37m\u001b[0m \u001b[1m1s\u001b[0m 11ms/step - accuracy: 0.6567 - loss: 0.4058 - val_accuracy: 0.4932 - val_loss: 0.5092 - learning_rate: 1.6796e-06\n",
      "Epoch 88/200\n",
      "\u001b[1m68/68\u001b[0m \u001b[32m━━━━━━━━━━━━━━━━━━━━\u001b[0m\u001b[37m\u001b[0m \u001b[1m1s\u001b[0m 12ms/step - accuracy: 0.6463 - loss: 0.4080 - val_accuracy: 0.4942 - val_loss: 0.5091 - learning_rate: 1.6796e-06\n",
      "Epoch 89/200\n",
      "\u001b[1m68/68\u001b[0m \u001b[32m━━━━━━━━━━━━━━━━━━━━\u001b[0m\u001b[37m\u001b[0m \u001b[1m1s\u001b[0m 11ms/step - accuracy: 0.6448 - loss: 0.4108 - val_accuracy: 0.4937 - val_loss: 0.5090 - learning_rate: 1.6796e-06\n",
      "Epoch 90/200\n",
      "\u001b[1m68/68\u001b[0m \u001b[32m━━━━━━━━━━━━━━━━━━━━\u001b[0m\u001b[37m\u001b[0m \u001b[1m1s\u001b[0m 11ms/step - accuracy: 0.6449 - loss: 0.4086 - val_accuracy: 0.4937 - val_loss: 0.5089 - learning_rate: 1.0078e-06\n",
      "Epoch 91/200\n",
      "\u001b[1m68/68\u001b[0m \u001b[32m━━━━━━━━━━━━━━━━━━━━\u001b[0m\u001b[37m\u001b[0m \u001b[1m1s\u001b[0m 12ms/step - accuracy: 0.6532 - loss: 0.4068 - val_accuracy: 0.4951 - val_loss: 0.5089 - learning_rate: 1.0078e-06\n",
      "Epoch 92/200\n",
      "\u001b[1m68/68\u001b[0m \u001b[32m━━━━━━━━━━━━━━━━━━━━\u001b[0m\u001b[37m\u001b[0m \u001b[1m1s\u001b[0m 11ms/step - accuracy: 0.6424 - loss: 0.4072 - val_accuracy: 0.4956 - val_loss: 0.5088 - learning_rate: 1.0078e-06\n",
      "Epoch 93/200\n",
      "\u001b[1m68/68\u001b[0m \u001b[32m━━━━━━━━━━━━━━━━━━━━\u001b[0m\u001b[37m\u001b[0m \u001b[1m1s\u001b[0m 12ms/step - accuracy: 0.6545 - loss: 0.4086 - val_accuracy: 0.4956 - val_loss: 0.5088 - learning_rate: 1.0078e-06\n",
      "Epoch 94/200\n",
      "\u001b[1m68/68\u001b[0m \u001b[32m━━━━━━━━━━━━━━━━━━━━\u001b[0m\u001b[37m\u001b[0m \u001b[1m1s\u001b[0m 11ms/step - accuracy: 0.6546 - loss: 0.4064 - val_accuracy: 0.4956 - val_loss: 0.5088 - learning_rate: 1.0078e-06\n",
      "Epoch 95/200\n",
      "\u001b[1m68/68\u001b[0m \u001b[32m━━━━━━━━━━━━━━━━━━━━\u001b[0m\u001b[37m\u001b[0m \u001b[1m1s\u001b[0m 12ms/step - accuracy: 0.6493 - loss: 0.4056 - val_accuracy: 0.4946 - val_loss: 0.5086 - learning_rate: 1.0078e-06\n",
      "Epoch 96/200\n",
      "\u001b[1m68/68\u001b[0m \u001b[32m━━━━━━━━━━━━━━━━━━━━\u001b[0m\u001b[37m\u001b[0m \u001b[1m1s\u001b[0m 12ms/step - accuracy: 0.6543 - loss: 0.4051 - val_accuracy: 0.4960 - val_loss: 0.5086 - learning_rate: 1.0078e-06\n",
      "Epoch 97/200\n",
      "\u001b[1m68/68\u001b[0m \u001b[32m━━━━━━━━━━━━━━━━━━━━\u001b[0m\u001b[37m\u001b[0m \u001b[1m1s\u001b[0m 12ms/step - accuracy: 0.6528 - loss: 0.4050 - val_accuracy: 0.4951 - val_loss: 0.5085 - learning_rate: 1.0078e-06\n",
      "Epoch 98/200\n",
      "\u001b[1m68/68\u001b[0m \u001b[32m━━━━━━━━━━━━━━━━━━━━\u001b[0m\u001b[37m\u001b[0m \u001b[1m1s\u001b[0m 12ms/step - accuracy: 0.6430 - loss: 0.4089 - val_accuracy: 0.4960 - val_loss: 0.5084 - learning_rate: 1.0078e-06\n",
      "Epoch 99/200\n",
      "\u001b[1m68/68\u001b[0m \u001b[32m━━━━━━━━━━━━━━━━━━━━\u001b[0m\u001b[37m\u001b[0m \u001b[1m1s\u001b[0m 12ms/step - accuracy: 0.6562 - loss: 0.4046 - val_accuracy: 0.4965 - val_loss: 0.5084 - learning_rate: 1.0078e-06\n",
      "Epoch 100/200\n",
      "\u001b[1m68/68\u001b[0m \u001b[32m━━━━━━━━━━━━━━━━━━━━\u001b[0m\u001b[37m\u001b[0m \u001b[1m1s\u001b[0m 12ms/step - accuracy: 0.6464 - loss: 0.4035 - val_accuracy: 0.4951 - val_loss: 0.5083 - learning_rate: 1.0000e-06\n",
      "Epoch 101/200\n",
      "\u001b[1m68/68\u001b[0m \u001b[32m━━━━━━━━━━━━━━━━━━━━\u001b[0m\u001b[37m\u001b[0m \u001b[1m1s\u001b[0m 12ms/step - accuracy: 0.6514 - loss: 0.4062 - val_accuracy: 0.4951 - val_loss: 0.5082 - learning_rate: 1.0000e-06\n",
      "Epoch 102/200\n",
      "\u001b[1m68/68\u001b[0m \u001b[32m━━━━━━━━━━━━━━━━━━━━\u001b[0m\u001b[37m\u001b[0m \u001b[1m1s\u001b[0m 11ms/step - accuracy: 0.6406 - loss: 0.4063 - val_accuracy: 0.4956 - val_loss: 0.5083 - learning_rate: 1.0000e-06\n",
      "Epoch 103/200\n",
      "\u001b[1m68/68\u001b[0m \u001b[32m━━━━━━━━━━━━━━━━━━━━\u001b[0m\u001b[37m\u001b[0m \u001b[1m1s\u001b[0m 12ms/step - accuracy: 0.6535 - loss: 0.4062 - val_accuracy: 0.4942 - val_loss: 0.5082 - learning_rate: 1.0000e-06\n",
      "Epoch 104/200\n",
      "\u001b[1m68/68\u001b[0m \u001b[32m━━━━━━━━━━━━━━━━━━━━\u001b[0m\u001b[37m\u001b[0m \u001b[1m1s\u001b[0m 12ms/step - accuracy: 0.6561 - loss: 0.4076 - val_accuracy: 0.4942 - val_loss: 0.5082 - learning_rate: 1.0000e-06\n",
      "Epoch 105/200\n",
      "\u001b[1m68/68\u001b[0m \u001b[32m━━━━━━━━━━━━━━━━━━━━\u001b[0m\u001b[37m\u001b[0m \u001b[1m1s\u001b[0m 12ms/step - accuracy: 0.6480 - loss: 0.4095 - val_accuracy: 0.4956 - val_loss: 0.5081 - learning_rate: 1.0000e-06\n",
      "Epoch 106/200\n",
      "\u001b[1m68/68\u001b[0m \u001b[32m━━━━━━━━━━━━━━━━━━━━\u001b[0m\u001b[37m\u001b[0m \u001b[1m1s\u001b[0m 11ms/step - accuracy: 0.6531 - loss: 0.4019 - val_accuracy: 0.4946 - val_loss: 0.5080 - learning_rate: 1.0000e-06\n",
      "Epoch 107/200\n",
      "\u001b[1m68/68\u001b[0m \u001b[32m━━━━━━━━━━━━━━━━━━━━\u001b[0m\u001b[37m\u001b[0m \u001b[1m1s\u001b[0m 12ms/step - accuracy: 0.6504 - loss: 0.4040 - val_accuracy: 0.4942 - val_loss: 0.5079 - learning_rate: 1.0000e-06\n",
      "Epoch 108/200\n",
      "\u001b[1m68/68\u001b[0m \u001b[32m━━━━━━━━━━━━━━━━━━━━\u001b[0m\u001b[37m\u001b[0m \u001b[1m1s\u001b[0m 11ms/step - accuracy: 0.6531 - loss: 0.4052 - val_accuracy: 0.4960 - val_loss: 0.5079 - learning_rate: 1.0000e-06\n",
      "Epoch 109/200\n",
      "\u001b[1m68/68\u001b[0m \u001b[32m━━━━━━━━━━━━━━━━━━━━\u001b[0m\u001b[37m\u001b[0m \u001b[1m1s\u001b[0m 11ms/step - accuracy: 0.6493 - loss: 0.4034 - val_accuracy: 0.4942 - val_loss: 0.5078 - learning_rate: 1.0000e-06\n",
      "Epoch 110/200\n",
      "\u001b[1m68/68\u001b[0m \u001b[32m━━━━━━━━━━━━━━━━━━━━\u001b[0m\u001b[37m\u001b[0m \u001b[1m1s\u001b[0m 12ms/step - accuracy: 0.6517 - loss: 0.4070 - val_accuracy: 0.4956 - val_loss: 0.5077 - learning_rate: 1.0000e-06\n",
      "Epoch 111/200\n",
      "\u001b[1m68/68\u001b[0m \u001b[32m━━━━━━━━━━━━━━━━━━━━\u001b[0m\u001b[37m\u001b[0m \u001b[1m1s\u001b[0m 11ms/step - accuracy: 0.6545 - loss: 0.4045 - val_accuracy: 0.4946 - val_loss: 0.5077 - learning_rate: 1.0000e-06\n",
      "Epoch 112/200\n",
      "\u001b[1m68/68\u001b[0m \u001b[32m━━━━━━━━━━━━━━━━━━━━\u001b[0m\u001b[37m\u001b[0m \u001b[1m1s\u001b[0m 12ms/step - accuracy: 0.6492 - loss: 0.4063 - val_accuracy: 0.4932 - val_loss: 0.5076 - learning_rate: 1.0000e-06\n",
      "Epoch 113/200\n",
      "\u001b[1m68/68\u001b[0m \u001b[32m━━━━━━━━━━━━━━━━━━━━\u001b[0m\u001b[37m\u001b[0m \u001b[1m1s\u001b[0m 12ms/step - accuracy: 0.6487 - loss: 0.4065 - val_accuracy: 0.4923 - val_loss: 0.5076 - learning_rate: 1.0000e-06\n",
      "Epoch 114/200\n",
      "\u001b[1m68/68\u001b[0m \u001b[32m━━━━━━━━━━━━━━━━━━━━\u001b[0m\u001b[37m\u001b[0m \u001b[1m1s\u001b[0m 12ms/step - accuracy: 0.6551 - loss: 0.4029 - val_accuracy: 0.4914 - val_loss: 0.5076 - learning_rate: 1.0000e-06\n",
      "Epoch 115/200\n",
      "\u001b[1m68/68\u001b[0m \u001b[32m━━━━━━━━━━━━━━━━━━━━\u001b[0m\u001b[37m\u001b[0m \u001b[1m1s\u001b[0m 12ms/step - accuracy: 0.6546 - loss: 0.4031 - val_accuracy: 0.4914 - val_loss: 0.5075 - learning_rate: 1.0000e-06\n",
      "Epoch 116/200\n",
      "\u001b[1m68/68\u001b[0m \u001b[32m━━━━━━━━━━━━━━━━━━━━\u001b[0m\u001b[37m\u001b[0m \u001b[1m1s\u001b[0m 12ms/step - accuracy: 0.6513 - loss: 0.4042 - val_accuracy: 0.4918 - val_loss: 0.5074 - learning_rate: 1.0000e-06\n",
      "Epoch 117/200\n",
      "\u001b[1m68/68\u001b[0m \u001b[32m━━━━━━━━━━━━━━━━━━━━\u001b[0m\u001b[37m\u001b[0m \u001b[1m1s\u001b[0m 12ms/step - accuracy: 0.6458 - loss: 0.4085 - val_accuracy: 0.4928 - val_loss: 0.5074 - learning_rate: 1.0000e-06\n",
      "Epoch 118/200\n",
      "\u001b[1m68/68\u001b[0m \u001b[32m━━━━━━━━━━━━━━━━━━━━\u001b[0m\u001b[37m\u001b[0m \u001b[1m1s\u001b[0m 12ms/step - accuracy: 0.6598 - loss: 0.4045 - val_accuracy: 0.4932 - val_loss: 0.5073 - learning_rate: 1.0000e-06\n",
      "Epoch 119/200\n",
      "\u001b[1m68/68\u001b[0m \u001b[32m━━━━━━━━━━━━━━━━━━━━\u001b[0m\u001b[37m\u001b[0m \u001b[1m1s\u001b[0m 12ms/step - accuracy: 0.6514 - loss: 0.4039 - val_accuracy: 0.4923 - val_loss: 0.5073 - learning_rate: 1.0000e-06\n",
      "Epoch 120/200\n",
      "\u001b[1m68/68\u001b[0m \u001b[32m━━━━━━━━━━━━━━━━━━━━\u001b[0m\u001b[37m\u001b[0m \u001b[1m1s\u001b[0m 12ms/step - accuracy: 0.6549 - loss: 0.4048 - val_accuracy: 0.4937 - val_loss: 0.5072 - learning_rate: 1.0000e-06\n",
      "Epoch 121/200\n",
      "\u001b[1m68/68\u001b[0m \u001b[32m━━━━━━━━━━━━━━━━━━━━\u001b[0m\u001b[37m\u001b[0m \u001b[1m1s\u001b[0m 11ms/step - accuracy: 0.6543 - loss: 0.4006 - val_accuracy: 0.4923 - val_loss: 0.5071 - learning_rate: 1.0000e-06\n",
      "Epoch 122/200\n",
      "\u001b[1m68/68\u001b[0m \u001b[32m━━━━━━━━━━━━━━━━━━━━\u001b[0m\u001b[37m\u001b[0m \u001b[1m1s\u001b[0m 12ms/step - accuracy: 0.6551 - loss: 0.4020 - val_accuracy: 0.4914 - val_loss: 0.5071 - learning_rate: 1.0000e-06\n",
      "Epoch 123/200\n",
      "\u001b[1m68/68\u001b[0m \u001b[32m━━━━━━━━━━━━━━━━━━━━\u001b[0m\u001b[37m\u001b[0m \u001b[1m1s\u001b[0m 11ms/step - accuracy: 0.6475 - loss: 0.4044 - val_accuracy: 0.4932 - val_loss: 0.5071 - learning_rate: 1.0000e-06\n",
      "Epoch 124/200\n",
      "\u001b[1m68/68\u001b[0m \u001b[32m━━━━━━━━━━━━━━━━━━━━\u001b[0m\u001b[37m\u001b[0m \u001b[1m1s\u001b[0m 12ms/step - accuracy: 0.6532 - loss: 0.4035 - val_accuracy: 0.4937 - val_loss: 0.5071 - learning_rate: 1.0000e-06\n",
      "Epoch 125/200\n",
      "\u001b[1m68/68\u001b[0m \u001b[32m━━━━━━━━━━━━━━━━━━━━\u001b[0m\u001b[37m\u001b[0m \u001b[1m1s\u001b[0m 12ms/step - accuracy: 0.6653 - loss: 0.4034 - val_accuracy: 0.4951 - val_loss: 0.5070 - learning_rate: 1.0000e-06\n",
      "Epoch 126/200\n",
      "\u001b[1m68/68\u001b[0m \u001b[32m━━━━━━━━━━━━━━━━━━━━\u001b[0m\u001b[37m\u001b[0m \u001b[1m1s\u001b[0m 12ms/step - accuracy: 0.6565 - loss: 0.4051 - val_accuracy: 0.4965 - val_loss: 0.5070 - learning_rate: 1.0000e-06\n",
      "Epoch 127/200\n",
      "\u001b[1m68/68\u001b[0m \u001b[32m━━━━━━━━━━━━━━━━━━━━\u001b[0m\u001b[37m\u001b[0m \u001b[1m1s\u001b[0m 12ms/step - accuracy: 0.6499 - loss: 0.4070 - val_accuracy: 0.4946 - val_loss: 0.5069 - learning_rate: 1.0000e-06\n",
      "Epoch 128/200\n",
      "\u001b[1m68/68\u001b[0m \u001b[32m━━━━━━━━━━━━━━━━━━━━\u001b[0m\u001b[37m\u001b[0m \u001b[1m1s\u001b[0m 11ms/step - accuracy: 0.6535 - loss: 0.4047 - val_accuracy: 0.4956 - val_loss: 0.5068 - learning_rate: 1.0000e-06\n",
      "Epoch 129/200\n",
      "\u001b[1m68/68\u001b[0m \u001b[32m━━━━━━━━━━━━━━━━━━━━\u001b[0m\u001b[37m\u001b[0m \u001b[1m1s\u001b[0m 12ms/step - accuracy: 0.6496 - loss: 0.4044 - val_accuracy: 0.4965 - val_loss: 0.5068 - learning_rate: 1.0000e-06\n",
      "Epoch 130/200\n",
      "\u001b[1m68/68\u001b[0m \u001b[32m━━━━━━━━━━━━━━━━━━━━\u001b[0m\u001b[37m\u001b[0m \u001b[1m1s\u001b[0m 12ms/step - accuracy: 0.6518 - loss: 0.3993 - val_accuracy: 0.4956 - val_loss: 0.5067 - learning_rate: 1.0000e-06\n",
      "Epoch 131/200\n",
      "\u001b[1m68/68\u001b[0m \u001b[32m━━━━━━━━━━━━━━━━━━━━\u001b[0m\u001b[37m\u001b[0m \u001b[1m1s\u001b[0m 12ms/step - accuracy: 0.6571 - loss: 0.4010 - val_accuracy: 0.4960 - val_loss: 0.5067 - learning_rate: 1.0000e-06\n",
      "Epoch 132/200\n",
      "\u001b[1m68/68\u001b[0m \u001b[32m━━━━━━━━━━━━━━━━━━━━\u001b[0m\u001b[37m\u001b[0m \u001b[1m1s\u001b[0m 12ms/step - accuracy: 0.6545 - loss: 0.4019 - val_accuracy: 0.4960 - val_loss: 0.5067 - learning_rate: 1.0000e-06\n",
      "Epoch 133/200\n",
      "\u001b[1m68/68\u001b[0m \u001b[32m━━━━━━━━━━━━━━━━━━━━\u001b[0m\u001b[37m\u001b[0m \u001b[1m1s\u001b[0m 12ms/step - accuracy: 0.6518 - loss: 0.4035 - val_accuracy: 0.4932 - val_loss: 0.5066 - learning_rate: 1.0000e-06\n",
      "Epoch 134/200\n",
      "\u001b[1m68/68\u001b[0m \u001b[32m━━━━━━━━━━━━━━━━━━━━\u001b[0m\u001b[37m\u001b[0m \u001b[1m1s\u001b[0m 12ms/step - accuracy: 0.6593 - loss: 0.4024 - val_accuracy: 0.4965 - val_loss: 0.5067 - learning_rate: 1.0000e-06\n",
      "Epoch 135/200\n",
      "\u001b[1m68/68\u001b[0m \u001b[32m━━━━━━━━━━━━━━━━━━━━\u001b[0m\u001b[37m\u001b[0m \u001b[1m1s\u001b[0m 12ms/step - accuracy: 0.6510 - loss: 0.4026 - val_accuracy: 0.4970 - val_loss: 0.5067 - learning_rate: 1.0000e-06\n",
      "Epoch 136/200\n",
      "\u001b[1m68/68\u001b[0m \u001b[32m━━━━━━━━━━━━━━━━━━━━\u001b[0m\u001b[37m\u001b[0m \u001b[1m1s\u001b[0m 12ms/step - accuracy: 0.6569 - loss: 0.4031 - val_accuracy: 0.4979 - val_loss: 0.5066 - learning_rate: 1.0000e-06\n",
      "Epoch 137/200\n",
      "\u001b[1m68/68\u001b[0m \u001b[32m━━━━━━━━━━━━━━━━━━━━\u001b[0m\u001b[37m\u001b[0m \u001b[1m1s\u001b[0m 12ms/step - accuracy: 0.6555 - loss: 0.4001 - val_accuracy: 0.4956 - val_loss: 0.5065 - learning_rate: 1.0000e-06\n",
      "Epoch 138/200\n",
      "\u001b[1m68/68\u001b[0m \u001b[32m━━━━━━━━━━━━━━━━━━━━\u001b[0m\u001b[37m\u001b[0m \u001b[1m1s\u001b[0m 12ms/step - accuracy: 0.6616 - loss: 0.4015 - val_accuracy: 0.4970 - val_loss: 0.5066 - learning_rate: 1.0000e-06\n",
      "Epoch 139/200\n",
      "\u001b[1m68/68\u001b[0m \u001b[32m━━━━━━━━━━━━━━━━━━━━\u001b[0m\u001b[37m\u001b[0m \u001b[1m1s\u001b[0m 12ms/step - accuracy: 0.6529 - loss: 0.4013 - val_accuracy: 0.4965 - val_loss: 0.5065 - learning_rate: 1.0000e-06\n",
      "Epoch 140/200\n",
      "\u001b[1m68/68\u001b[0m \u001b[32m━━━━━━━━━━━━━━━━━━━━\u001b[0m\u001b[37m\u001b[0m \u001b[1m1s\u001b[0m 11ms/step - accuracy: 0.6572 - loss: 0.4023 - val_accuracy: 0.4956 - val_loss: 0.5064 - learning_rate: 1.0000e-06\n",
      "Epoch 141/200\n",
      "\u001b[1m68/68\u001b[0m \u001b[32m━━━━━━━━━━━━━━━━━━━━\u001b[0m\u001b[37m\u001b[0m \u001b[1m1s\u001b[0m 12ms/step - accuracy: 0.6482 - loss: 0.4001 - val_accuracy: 0.4932 - val_loss: 0.5063 - learning_rate: 1.0000e-06\n",
      "Epoch 142/200\n",
      "\u001b[1m68/68\u001b[0m \u001b[32m━━━━━━━━━━━━━━━━━━━━\u001b[0m\u001b[37m\u001b[0m \u001b[1m1s\u001b[0m 11ms/step - accuracy: 0.6712 - loss: 0.4015 - val_accuracy: 0.4965 - val_loss: 0.5063 - learning_rate: 1.0000e-06\n",
      "Epoch 143/200\n",
      "\u001b[1m68/68\u001b[0m \u001b[32m━━━━━━━━━━━━━━━━━━━━\u001b[0m\u001b[37m\u001b[0m \u001b[1m1s\u001b[0m 11ms/step - accuracy: 0.6517 - loss: 0.3986 - val_accuracy: 0.4960 - val_loss: 0.5062 - learning_rate: 1.0000e-06\n",
      "Epoch 144/200\n",
      "\u001b[1m68/68\u001b[0m \u001b[32m━━━━━━━━━━━━━━━━━━━━\u001b[0m\u001b[37m\u001b[0m \u001b[1m1s\u001b[0m 12ms/step - accuracy: 0.6470 - loss: 0.4036 - val_accuracy: 0.4956 - val_loss: 0.5061 - learning_rate: 1.0000e-06\n",
      "Epoch 145/200\n",
      "\u001b[1m68/68\u001b[0m \u001b[32m━━━━━━━━━━━━━━━━━━━━\u001b[0m\u001b[37m\u001b[0m \u001b[1m1s\u001b[0m 12ms/step - accuracy: 0.6530 - loss: 0.4032 - val_accuracy: 0.4942 - val_loss: 0.5060 - learning_rate: 1.0000e-06\n",
      "Epoch 146/200\n",
      "\u001b[1m68/68\u001b[0m \u001b[32m━━━━━━━━━━━━━━━━━━━━\u001b[0m\u001b[37m\u001b[0m \u001b[1m1s\u001b[0m 12ms/step - accuracy: 0.6462 - loss: 0.4032 - val_accuracy: 0.4956 - val_loss: 0.5060 - learning_rate: 1.0000e-06\n",
      "Epoch 147/200\n",
      "\u001b[1m68/68\u001b[0m \u001b[32m━━━━━━━━━━━━━━━━━━━━\u001b[0m\u001b[37m\u001b[0m \u001b[1m1s\u001b[0m 12ms/step - accuracy: 0.6607 - loss: 0.4039 - val_accuracy: 0.4937 - val_loss: 0.5059 - learning_rate: 1.0000e-06\n",
      "Epoch 148/200\n",
      "\u001b[1m68/68\u001b[0m \u001b[32m━━━━━━━━━━━━━━━━━━━━\u001b[0m\u001b[37m\u001b[0m \u001b[1m1s\u001b[0m 12ms/step - accuracy: 0.6425 - loss: 0.4009 - val_accuracy: 0.4960 - val_loss: 0.5060 - learning_rate: 1.0000e-06\n",
      "Epoch 149/200\n",
      "\u001b[1m68/68\u001b[0m \u001b[32m━━━━━━━━━━━━━━━━━━━━\u001b[0m\u001b[37m\u001b[0m \u001b[1m1s\u001b[0m 11ms/step - accuracy: 0.6637 - loss: 0.4017 - val_accuracy: 0.4960 - val_loss: 0.5059 - learning_rate: 1.0000e-06\n",
      "Epoch 150/200\n",
      "\u001b[1m68/68\u001b[0m \u001b[32m━━━━━━━━━━━━━━━━━━━━\u001b[0m\u001b[37m\u001b[0m \u001b[1m1s\u001b[0m 11ms/step - accuracy: 0.6558 - loss: 0.3978 - val_accuracy: 0.4970 - val_loss: 0.5059 - learning_rate: 1.0000e-06\n",
      "Epoch 151/200\n",
      "\u001b[1m68/68\u001b[0m \u001b[32m━━━━━━━━━━━━━━━━━━━━\u001b[0m\u001b[37m\u001b[0m \u001b[1m1s\u001b[0m 12ms/step - accuracy: 0.6548 - loss: 0.4012 - val_accuracy: 0.4970 - val_loss: 0.5060 - learning_rate: 1.0000e-06\n",
      "Epoch 152/200\n",
      "\u001b[1m68/68\u001b[0m \u001b[32m━━━━━━━━━━━━━━━━━━━━\u001b[0m\u001b[37m\u001b[0m \u001b[1m1s\u001b[0m 12ms/step - accuracy: 0.6585 - loss: 0.4010 - val_accuracy: 0.4984 - val_loss: 0.5060 - learning_rate: 1.0000e-06\n",
      "CPU times: user 16min 56s, sys: 2min 10s, total: 19min 6s\n",
      "Wall time: 2min 8s\n"
     ]
    }
   ],
   "source": [
    "%%time\n",
    "batch_size = 128\n",
    "epochs = 200\n",
    "early_stopping = EarlyStopping(monitor='val_loss', patience=5, restore_best_weights=True)\n",
    "\n",
    "# Train the model\n",
    "history = model.fit(x_train, y_train,\n",
    "                    batch_size=batch_size,\n",
    "                    epochs=epochs,\n",
    "                    verbose=1,\n",
    "                    validation_data=(x_val, y_val),\n",
    "                   shuffle=True,\n",
    "                   callbacks=[step_decay_schedule(initial_lr=0.0001, decay_factor=0.6, step_size=10),early_stopping])"
   ]
  },
  {
   "cell_type": "code",
   "execution_count": 89,
   "id": "0ac4eb59-87a2-4cc1-843d-ca924f82942d",
   "metadata": {},
   "outputs": [
    {
     "data": {
      "image/png": "[encoded data removed]",
      "text/plain": [
       "<Figure size 640x480 with 1 Axes>"
      ]
     },
     "metadata": {},
     "output_type": "display_data"
    }
   ],
   "source": [
    "plt.plot(history.history['loss'])\n",
    "plt.plot(history.history['val_loss'])\n",
    "plt.title('Model loss')\n",
    "plt.ylabel('Loss')\n",
    "plt.xlabel('Epoch')\n",
    "plt.legend(['Train', 'Validation'], loc='upper right')\n",
    "plt.show()"
   ]
  },
  {
   "cell_type": "code",
   "execution_count": 90,
   "id": "8adaf6da-a3a7-4871-986a-aca407871f08",
   "metadata": {},
   "outputs": [
    {
     "name": "stdout",
     "output_type": "stream",
     "text": [
      "\u001b[1m84/84\u001b[0m \u001b[32m━━━━━━━━━━━━━━━━━━━━\u001b[0m\u001b[37m\u001b[0m \u001b[1m0s\u001b[0m 2ms/step - accuracy: 0.5134 - loss: 0.5004\n",
      "Test Accuracy: 51.55%\n"
     ]
    }
   ],
   "source": [
    "test_loss, test_accuracy = model.evaluate(x_test, y_test)\n",
    "\n",
    "# Print the test accuracy\n",
    "print(f\"Test Accuracy: {test_accuracy * 100:.2f}%\")"
   ]
  },
  {
   "cell_type": "code",
   "execution_count": 91,
   "id": "2a0d69c0-beff-4e25-bcb5-183ef934f616",
   "metadata": {},
   "outputs": [
    {
     "name": "stdout",
     "output_type": "stream",
     "text": [
      "\u001b[1m84/84\u001b[0m \u001b[32m━━━━━━━━━━━━━━━━━━━━\u001b[0m\u001b[37m\u001b[0m \u001b[1m0s\u001b[0m 3ms/step\n",
      "Accuracy: 0.34\n",
      "               precision    recall  f1-score   support\n",
      "\n",
      "       Action       0.70      0.54      0.61       782\n",
      "       Comedy       0.63      0.43      0.51       773\n",
      "Crime Fiction       0.73      0.60      0.66       774\n",
      "       Horror       0.76      0.68      0.72       570\n",
      " Romance Film       0.78      0.71      0.74       844\n",
      "     Thriller       0.59      0.41      0.49       724\n",
      "\n",
      "    micro avg       0.71      0.56      0.62      4467\n",
      "    macro avg       0.70      0.56      0.62      4467\n",
      " weighted avg       0.70      0.56      0.62      4467\n",
      "  samples avg       0.66      0.60      0.60      4467\n",
      "\n"
     ]
    },
    {
     "name": "stderr",
     "output_type": "stream",
     "text": [
      "/home/asolta2s/myenv/lib64/python3.9/site-packages/sklearn/metrics/_classification.py:1517: UndefinedMetricWarning: Precision is ill-defined and being set to 0.0 in samples with no predicted labels. Use `zero_division` parameter to control this behavior.\n",
      "  _warn_prf(average, modifier, f\"{metric.capitalize()} is\", len(result))\n"
     ]
    }
   ],
   "source": [
    "\n",
    "# Predict and evaluate the model\n",
    "y_pred_dl = model.predict(x_test)\n",
    "y_pred_binary_dl = (y_pred_dl >= 0.5).astype(int)\n",
    "accuracy_dl = accuracy_score(y_test, y_pred_binary_dl)\n",
    "print(f'Accuracy: {accuracy_dl:.2f}')\n",
    "\n",
    "# Detailed classification report\n",
    "report = classification_report(y_test, y_pred_binary_dl, target_names=list(y_train.columns))\n",
    "print(report)\n",
    "precision['Deep Learning'], recall['Deep Learning'], f1['Deep Learning'], _ = precision_recall_fscore_support(y_test, y_pred_binary_dl, average='micro')\n"
   ]
  },
  {
   "cell_type": "code",
   "execution_count": 92,
   "id": "b93e4982-f043-45a1-8610-d1a457468279",
   "metadata": {},
   "outputs": [
    {
     "data": {
      "image/png": "[encoded data removed]",
      "text/plain": [
       "<Figure size 800x600 with 1 Axes>"
      ]
     },
     "metadata": {},
     "output_type": "display_data"
    }
   ],
   "source": [
    "import numpy as np\n",
    "import matplotlib.pyplot as plt\n",
    "import seaborn as sns\n",
    "import pandas as pd\n",
    "\n",
    "confusion_matrix = np.zeros((len(y_train.columns), len(y_train.columns)), dtype=int)\n",
    "\n",
    "# Populate the confusion matrix\n",
    "for i in range(len(y_test)):\n",
    "    true_indices = np.where(y_test.iloc[i] == 1)[0]\n",
    "    pred_indices = np.where(y_pred_binary_dl[i] == 1)[0]\n",
    "    for true_label in true_indices:\n",
    "        for pred_label in pred_indices:\n",
    "          if pred_label not in true_indices or true_label==pred_label:\n",
    "            confusion_matrix[true_label, pred_label] += 1\n",
    "\n",
    "# Convert to DataFrame for better visualization\n",
    "confusion_df = pd.DataFrame(confusion_matrix, index=y_train.columns, columns=y_train.columns)\n",
    "\n",
    "# Plot the confusion matrix\n",
    "plt.figure(figsize=(8, 6))\n",
    "sns.heatmap(confusion_df, annot=True, cmap=\"Blues\", fmt='d', cbar=False)\n",
    "plt.title(\"Confusion Matrix of True and Predicted Genres\")\n",
    "plt.xlabel(\"Predicted Genres\")\n",
    "plt.ylabel(\"True Genres\")\n",
    "plt.show()"
   ]
  },
  {
   "cell_type": "code",
   "execution_count": 93,
   "id": "01394619-ad17-4906-b26a-ac9ad38109f3",
   "metadata": {},
   "outputs": [
    {
     "name": "stdout",
     "output_type": "stream",
     "text": [
      "jaccard scores for Our model:\n",
      "\n",
      "0.5294135917505279\n",
      "0.45713247981544897\n",
      "[0.440625   0.3443299  0.48893572 0.55780347 0.59032577 0.32077503]\n"
     ]
    }
   ],
   "source": [
    "print ('jaccard scores for Our model:\\n')\n",
    "print(jaccard_score(y_test, y_pred_binary_dl, average='samples'))\n",
    "print(jaccard_score(y_test, y_pred_binary_dl, average='macro'))\n",
    "print(jaccard_score(y_test, y_pred_binary_dl, average=None))\n",
    "\n",
    "jaccard['Deep Learning'] = jaccard_score(y_test, y_pred_binary_dl, average='samples')"
   ]
  },
  {
   "cell_type": "code",
   "execution_count": 94,
   "id": "5ed34d8a-c6ba-43c0-a752-75f7503ac791",
   "metadata": {},
   "outputs": [
    {
     "name": "stdout",
     "output_type": "stream",
     "text": [
      "Mean Average Precision (MAP): 0.52\n"
     ]
    }
   ],
   "source": [
    "\n",
    "MAP['Deep Learning'] = average_precision_score(y_test, y_pred_binary_dl)\n",
    "\n",
    "print(f'Mean Average Precision (MAP): {average_precision_score(y_test, y_pred_binary_dl):.2f}')"
   ]
  },
  {
   "cell_type": "code",
   "execution_count": 95,
   "id": "0e38a8d8-2287-4134-89b6-0091b4e6d48e",
   "metadata": {},
   "outputs": [],
   "source": [
    "model.save('model2.keras')\n"
   ]
  },
  {
   "cell_type": "markdown",
   "id": "a44d8171-6e3d-444b-a9bf-b6420ab3e621",
   "metadata": {},
   "source": [
    "## Logistic Regression"
   ]
  },
  {
   "cell_type": "code",
   "execution_count": 96,
   "id": "f8862a2c-95cd-47eb-b382-60b0a15fb7d5",
   "metadata": {},
   "outputs": [
    {
     "name": "stdout",
     "output_type": "stream",
     "text": [
      "Training took: 3.99 seconds\n",
      "Accuracy: 0.30\n",
      "               precision    recall  f1-score   support\n",
      "\n",
      "       Action       0.74      0.48      0.58       782\n",
      "       Comedy       0.68      0.37      0.48       773\n",
      "Crime Fiction       0.77      0.50      0.61       774\n",
      "       Horror       0.85      0.57      0.68       570\n",
      " Romance Film       0.81      0.63      0.71       844\n",
      "     Thriller       0.62      0.33      0.43       724\n",
      "\n",
      "    micro avg       0.75      0.48      0.58      4467\n",
      "    macro avg       0.75      0.48      0.58      4467\n",
      " weighted avg       0.74      0.48      0.58      4467\n",
      "  samples avg       0.58      0.51      0.52      4467\n",
      "\n"
     ]
    },
    {
     "name": "stderr",
     "output_type": "stream",
     "text": [
      "/home/asolta2s/myenv/lib64/python3.9/site-packages/sklearn/metrics/_classification.py:1517: UndefinedMetricWarning: Precision is ill-defined and being set to 0.0 in samples with no predicted labels. Use `zero_division` parameter to control this behavior.\n",
      "  _warn_prf(average, modifier, f\"{metric.capitalize()} is\", len(result))\n"
     ]
    }
   ],
   "source": [
    "import time\n",
    "start_time = time.time()\n",
    "\n",
    "lr = LogisticRegression()\n",
    "clf = OneVsRestClassifier(lr)\n",
    "clf.fit(x_train, y_train)\n",
    "\n",
    "y_pred_lr = clf.predict(x_test)\n",
    "y_pred_binary_lr = (y_pred_lr >= 0.5).astype(int)\n",
    "accuracy_lr = accuracy_score(y_test, y_pred_binary_lr)\n",
    "end_time = time.time()\n",
    "print(f'Training took: {end_time - start_time :.2f} seconds')\n",
    "print(f'Accuracy: {accuracy_lr:.2f}')\n",
    "\n",
    "# Detailed classification report\n",
    "report = classification_report(y_test, y_pred_binary_lr, target_names=list(y_train.columns))\n",
    "print(report)\n",
    "precision['LogisticReg'], recall['LogisticReg'], f1['LogisticReg'], _ = precision_recall_fscore_support(y_test, y_pred_binary_lr, average='micro')"
   ]
  },
  {
   "cell_type": "code",
   "execution_count": 97,
   "id": "db4b56f2-da31-493b-91c5-7931cd4ef109",
   "metadata": {},
   "outputs": [
    {
     "name": "stdout",
     "output_type": "stream",
     "text": [
      "Mean Average Precision (MAP): 0.51\n"
     ]
    }
   ],
   "source": [
    "\n",
    "MAP['LogisticReg'] = average_precision_score(y_test, y_pred_binary_lr)\n",
    "\n",
    "\n",
    "print(f'Mean Average Precision (MAP): {average_precision_score(y_test, y_pred_binary_lr):.2f}')"
   ]
  },
  {
   "cell_type": "code",
   "execution_count": 98,
   "id": "517ba7f5-0c05-4833-aa2b-fa2f32d85d00",
   "metadata": {},
   "outputs": [
    {
     "name": "stdout",
     "output_type": "stream",
     "text": [
      "jaccard scores for LogisticReg:\n",
      "\n",
      "0.4622313330848552\n",
      "0.4158749398815633\n",
      "[0.40700219 0.31243124 0.43419573 0.51757188 0.54818653 0.27586207]\n"
     ]
    }
   ],
   "source": [
    "print ('jaccard scores for LogisticReg:\\n')\n",
    "print(jaccard_score(y_test, y_pred_binary_lr, average='samples'))\n",
    "print(jaccard_score(y_test, y_pred_binary_lr, average='macro'))\n",
    "print(jaccard_score(y_test, y_pred_binary_lr, average=None))\n",
    "\n",
    "jaccard['LogisticReg'] = jaccard_score(y_test, y_pred_binary_lr, average='samples')"
   ]
  },
  {
   "cell_type": "markdown",
   "id": "4271fad4-5948-4b94-9095-6b46d70f0eef",
   "metadata": {},
   "source": [
    "## SVM"
   ]
  },
  {
   "cell_type": "code",
   "execution_count": 99,
   "id": "4a05ba27-a32d-4ac7-88eb-0db2058bf368",
   "metadata": {},
   "outputs": [
    {
     "name": "stdout",
     "output_type": "stream",
     "text": [
      "Training took: 139.48 seconds\n",
      "Accuracy: 0.29\n",
      "               precision    recall  f1-score   support\n",
      "\n",
      "       Action       0.76      0.47      0.58       782\n",
      "       Comedy       0.69      0.32      0.44       773\n",
      "Crime Fiction       0.77      0.48      0.59       774\n",
      "       Horror       0.85      0.57      0.68       570\n",
      " Romance Film       0.81      0.61      0.70       844\n",
      "     Thriller       0.65      0.29      0.41       724\n",
      "\n",
      "    micro avg       0.77      0.46      0.57      4467\n",
      "    macro avg       0.76      0.46      0.57      4467\n",
      " weighted avg       0.75      0.46      0.56      4467\n",
      "  samples avg       0.57      0.49      0.50      4467\n",
      "\n"
     ]
    },
    {
     "name": "stderr",
     "output_type": "stream",
     "text": [
      "/home/asolta2s/myenv/lib64/python3.9/site-packages/sklearn/metrics/_classification.py:1517: UndefinedMetricWarning: Precision is ill-defined and being set to 0.0 in samples with no predicted labels. Use `zero_division` parameter to control this behavior.\n",
      "  _warn_prf(average, modifier, f\"{metric.capitalize()} is\", len(result))\n"
     ]
    }
   ],
   "source": [
    "import time\n",
    "start_time = time.time()\n",
    "\n",
    "clf = OneVsRestClassifier(SVC())\n",
    "clf.fit(x_train, y_train)\n",
    "y_pred_svm = clf.predict(x_test)\n",
    "\n",
    "y_pred_binary_svm = (y_pred_svm >= 0.5).astype(int)\n",
    "accuracy_svm = accuracy_score(y_test, y_pred_binary_svm)\n",
    "end_time = time.time()\n",
    "print(f'Training took: {end_time - start_time :.2f} seconds')\n",
    "print(f'Accuracy: {accuracy_svm:.2f}')\n",
    "\n",
    "# Detailed classification report\n",
    "report = classification_report(y_test, y_pred_binary_svm, target_names=list(y_train.columns))\n",
    "\n",
    "print(report)\n",
    "precision['SVM'], recall['SVM'], f1['SVM'], _ = precision_recall_fscore_support(y_test, y_pred_binary_svm, average='micro')\n"
   ]
  },
  {
   "cell_type": "code",
   "execution_count": 100,
   "id": "7a3dcbf1-0abc-47ea-9d5f-d40e1d702400",
   "metadata": {},
   "outputs": [
    {
     "name": "stdout",
     "output_type": "stream",
     "text": [
      "jaccard scores for SVM:\n",
      "\n",
      "0.44990682072307114\n",
      "0.4030135097301346\n",
      "[0.41025641 0.28022599 0.41902605 0.51515152 0.53894081 0.25448029]\n"
     ]
    }
   ],
   "source": [
    "print ('jaccard scores for SVM:\\n')\n",
    "print(jaccard_score(y_test, y_pred_binary_svm, average='samples'))\n",
    "print(jaccard_score(y_test, y_pred_binary_svm, average='macro'))\n",
    "print(jaccard_score(y_test, y_pred_binary_svm, average=None))\n",
    "\n",
    "jaccard['SVM'] = jaccard_score(y_test, y_pred_binary_svm, average='samples')"
   ]
  },
  {
   "cell_type": "code",
   "execution_count": 101,
   "id": "bf196561-dd7d-4b31-94d2-3ef7aa8268ba",
   "metadata": {},
   "outputs": [
    {
     "name": "stdout",
     "output_type": "stream",
     "text": [
      "Mean Average Precision (MAP): 0.50\n"
     ]
    }
   ],
   "source": [
    "\n",
    "MAP['SVM'] = average_precision_score(y_test, y_pred_binary_svm)\n",
    "\n",
    "\n",
    "print(f'Mean Average Precision (MAP): {average_precision_score(y_test, y_pred_binary_svm):.2f}')"
   ]
  },
  {
   "cell_type": "markdown",
   "id": "3b6af9ab-728e-40da-af53-23d0dd4317e0",
   "metadata": {},
   "source": [
    "## LightGBM"
   ]
  },
  {
   "cell_type": "code",
   "execution_count": 102,
   "id": "26327208-7b35-4ee7-9cba-ba6697944075",
   "metadata": {},
   "outputs": [
    {
     "name": "stdout",
     "output_type": "stream",
     "text": [
      "Training model for label: Action\n",
      "[LightGBM] [Info] Number of positive: 2428, number of negative: 6156\n",
      "[LightGBM] [Info] Auto-choosing row-wise multi-threading, the overhead of testing was 11.495269 seconds.\n",
      "You can set `force_row_wise=true` to remove the overhead.\n",
      "And if memory is not enough, you can set `force_col_wise=true`.\n",
      "[LightGBM] [Info] Total Bins 147553\n",
      "[LightGBM] [Info] Number of data points in the train set: 8584, number of used features: 1000\n",
      "[LightGBM] [Info] [binary:BoostFromScore]: pavg=0.282852 -> initscore=-0.930359\n",
      "[LightGBM] [Info] Start training from score -0.930359\n",
      "Training until validation scores don't improve for 10 rounds\n",
      "Did not meet early stopping. Best iteration is:\n",
      "[100]\tvalid_0's binary_logloss: 0.440924\n",
      "Training model for label: Comedy\n",
      "[LightGBM] [Info] Number of positive: 2601, number of negative: 5983\n",
      "[LightGBM] [Info] Auto-choosing row-wise multi-threading, the overhead of testing was 8.596782 seconds.\n",
      "You can set `force_row_wise=true` to remove the overhead.\n",
      "And if memory is not enough, you can set `force_col_wise=true`.\n",
      "[LightGBM] [Info] Total Bins 147553\n",
      "[LightGBM] [Info] Number of data points in the train set: 8584, number of used features: 1000\n",
      "[LightGBM] [Info] [binary:BoostFromScore]: pavg=0.303006 -> initscore=-0.833026\n",
      "[LightGBM] [Info] Start training from score -0.833026\n",
      "Training until validation scores don't improve for 10 rounds\n",
      "Did not meet early stopping. Best iteration is:\n",
      "[100]\tvalid_0's binary_logloss: 0.502998\n",
      "Training model for label: Crime Fiction\n",
      "[LightGBM] [Info] Number of positive: 2396, number of negative: 6188\n",
      "[LightGBM] [Info] Auto-choosing row-wise multi-threading, the overhead of testing was 2.693364 seconds.\n",
      "You can set `force_row_wise=true` to remove the overhead.\n",
      "And if memory is not enough, you can set `force_col_wise=true`.\n",
      "[LightGBM] [Info] Total Bins 147553\n",
      "[LightGBM] [Info] Number of data points in the train set: 8584, number of used features: 1000\n",
      "[LightGBM] [Info] [binary:BoostFromScore]: pavg=0.279124 -> initscore=-0.948811\n",
      "[LightGBM] [Info] Start training from score -0.948811\n",
      "Training until validation scores don't improve for 10 rounds\n",
      "Did not meet early stopping. Best iteration is:\n",
      "[100]\tvalid_0's binary_logloss: 0.416051\n",
      "Training model for label: Horror\n",
      "[LightGBM] [Info] Number of positive: 1857, number of negative: 6727\n",
      "[LightGBM] [Info] Auto-choosing col-wise multi-threading, the overhead of testing was 3.697233 seconds.\n",
      "You can set `force_col_wise=true` to remove the overhead.\n",
      "[LightGBM] [Info] Total Bins 147553\n",
      "[LightGBM] [Info] Number of data points in the train set: 8584, number of used features: 1000\n",
      "[LightGBM] [Info] [binary:BoostFromScore]: pavg=0.216333 -> initscore=-1.287167\n",
      "[LightGBM] [Info] Start training from score -1.287167\n",
      "Training until validation scores don't improve for 10 rounds\n",
      "Did not meet early stopping. Best iteration is:\n",
      "[100]\tvalid_0's binary_logloss: 0.288855\n",
      "Training model for label: Romance Film\n",
      "[LightGBM] [Info] Number of positive: 2770, number of negative: 5814\n",
      "[LightGBM] [Info] Auto-choosing col-wise multi-threading, the overhead of testing was 2.691558 seconds.\n",
      "You can set `force_col_wise=true` to remove the overhead.\n",
      "[LightGBM] [Info] Total Bins 147553\n",
      "[LightGBM] [Info] Number of data points in the train set: 8584, number of used features: 1000\n",
      "[LightGBM] [Info] [binary:BoostFromScore]: pavg=0.322693 -> initscore=-0.741421\n",
      "[LightGBM] [Info] Start training from score -0.741421\n",
      "Training until validation scores don't improve for 10 rounds\n",
      "Did not meet early stopping. Best iteration is:\n",
      "[100]\tvalid_0's binary_logloss: 0.383874\n",
      "Training model for label: Thriller\n",
      "[LightGBM] [Info] Number of positive: 2288, number of negative: 6296\n",
      "[LightGBM] [Info] Auto-choosing col-wise multi-threading, the overhead of testing was 5.091980 seconds.\n",
      "You can set `force_col_wise=true` to remove the overhead.\n",
      "[LightGBM] [Info] Total Bins 147553\n",
      "[LightGBM] [Info] Number of data points in the train set: 8584, number of used features: 1000\n",
      "[LightGBM] [Info] [binary:BoostFromScore]: pavg=0.266542 -> initscore=-1.012236\n",
      "[LightGBM] [Info] Start training from score -1.012236\n",
      "Training until validation scores don't improve for 10 rounds\n",
      "Early stopping, best iteration is:\n",
      "[81]\tvalid_0's binary_logloss: 0.487724\n",
      "Training took: 805.42 seconds\n"
     ]
    }
   ],
   "source": [
    "import time\n",
    "start_time = time.time()\n",
    "\n",
    "early_stopping_callback = lgb.early_stopping(stopping_rounds=10)\n",
    "\n",
    "def train_and_predict(X_train, X_test, y_train, y_test):\n",
    "    predictions = np.zeros_like(y_test)\n",
    "    for i, label in enumerate(y_train.columns):\n",
    "        print(f'Training model for label: {label}')\n",
    "        lgb_train = lgb.Dataset(X_train, y_train.iloc[:, i])\n",
    "        lgb_eval = lgb.Dataset(X_test, y_test.iloc[:, i], reference=lgb_train)\n",
    "\n",
    "        params = {\n",
    "            'objective': 'binary',\n",
    "            'metric': 'binary_logloss',\n",
    "            'boosting_type': 'gbdt',\n",
    "            'num_leaves': 31,\n",
    "            'learning_rate': 0.05,\n",
    "            'feature_fraction': 0.9\n",
    "        }\n",
    "\n",
    "        gbm = lgb.train(params,\n",
    "                        lgb_train,\n",
    "                        num_boost_round=100,\n",
    "                        valid_sets=lgb_eval,\n",
    "                        callbacks=[early_stopping_callback])\n",
    "\n",
    "        y_pred = gbm.predict(X_test, num_iteration=gbm.best_iteration)\n",
    "        predictions[:, i] = (y_pred > 0.5).astype(int)\n",
    "    return predictions\n",
    "\n",
    "# Train the model and get predictions\n",
    "y_pred = train_and_predict(x_train, x_test, y_train, y_test)\n",
    "end_time = time.time()\n",
    "print(f'Training took: {end_time - start_time :.2f} seconds')\n"
   ]
  },
  {
   "cell_type": "code",
   "execution_count": 103,
   "id": "fa440371-695a-4e1a-9818-d6d196a31df7",
   "metadata": {},
   "outputs": [
    {
     "name": "stdout",
     "output_type": "stream",
     "text": [
      "Accuracy: 0.30\n",
      "               precision    recall  f1-score   support\n",
      "\n",
      "       Action       0.75      0.46      0.57       782\n",
      "       Comedy       0.68      0.36      0.47       773\n",
      "Crime Fiction       0.73      0.55      0.62       774\n",
      "       Horror       0.80      0.56      0.66       570\n",
      " Romance Film       0.77      0.66      0.71       844\n",
      "     Thriller       0.63      0.35      0.45       724\n",
      "\n",
      "    micro avg       0.73      0.49      0.59      4467\n",
      "    macro avg       0.73      0.49      0.58      4467\n",
      " weighted avg       0.72      0.49      0.58      4467\n",
      "  samples avg       0.58      0.52      0.52      4467\n",
      "\n"
     ]
    },
    {
     "name": "stderr",
     "output_type": "stream",
     "text": [
      "/home/asolta2s/myenv/lib64/python3.9/site-packages/sklearn/metrics/_classification.py:1517: UndefinedMetricWarning: Precision is ill-defined and being set to 0.0 in samples with no predicted labels. Use `zero_division` parameter to control this behavior.\n",
      "  _warn_prf(average, modifier, f\"{metric.capitalize()} is\", len(result))\n"
     ]
    }
   ],
   "source": [
    "accuracy = accuracy_score(y_test, y_pred)\n",
    "print(f'Accuracy: {accuracy:.2f}')\n",
    "\n",
    "# Detailed classification report\n",
    "report = classification_report(y_test, y_pred, target_names=list(y_train.columns))\n",
    "precision['LGBM'], recall['LGBM'], f1['LGBM'], _ = precision_recall_fscore_support(y_test, y_pred, average='micro')\n",
    "print(report)"
   ]
  },
  {
   "cell_type": "code",
   "execution_count": 104,
   "id": "5ed467dc-05b3-42cf-9dab-747cb124f20b",
   "metadata": {},
   "outputs": [
    {
     "name": "stdout",
     "output_type": "stream",
     "text": [
      "jaccard scores for LGBM:\n",
      "\n",
      "0.467163622810287\n",
      "0.41503873249956996\n",
      "[0.39555556 0.31125828 0.45230439 0.49384615 0.54975369 0.28751432]\n"
     ]
    }
   ],
   "source": [
    "print ('jaccard scores for LGBM:\\n')\n",
    "print(jaccard_score(y_test, y_pred, average='samples'))\n",
    "print(jaccard_score(y_test, y_pred, average='macro'))\n",
    "print(jaccard_score(y_test, y_pred, average=None))\n",
    "\n",
    "jaccard['LGBM'] = jaccard_score(y_test, y_pred, average='samples')"
   ]
  },
  {
   "cell_type": "code",
   "execution_count": 105,
   "id": "bae769ed-b3aa-43e3-9baf-9d872e26819f",
   "metadata": {},
   "outputs": [
    {
     "name": "stdout",
     "output_type": "stream",
     "text": [
      "Mean Average Precision (MAP): 0.50\n"
     ]
    }
   ],
   "source": [
    "\n",
    "MAP['LGBM'] = average_precision_score(y_test, y_pred)\n",
    "\n",
    "\n",
    "print(f'Mean Average Precision (MAP): {average_precision_score(y_test, y_pred):.2f}')"
   ]
  },
  {
   "cell_type": "code",
   "execution_count": 106,
   "id": "4b4a1ea3-44e8-4165-97f3-78068e01c3ac",
   "metadata": {},
   "outputs": [
    {
     "name": "stdout",
     "output_type": "stream",
     "text": [
      "Stored 'MAP' (dict)\n",
      "Stored 'precision' (dict)\n",
      "Stored 'recall' (dict)\n",
      "Stored 'f1' (dict)\n",
      "Stored 'jaccard' (dict)\n"
     ]
    },
    {
     "name": "stderr",
     "output_type": "stream",
     "text": [
      "/home/asolta2s/myenv/lib/python3.9/site-packages/IPython/extensions/storemagic.py:229: UserWarning: using autorestore/MAP requires you to install the `pickleshare` library.\n",
      "  db[ 'autorestore/' + arg ] = obj\n",
      "/home/asolta2s/myenv/lib/python3.9/site-packages/IPython/extensions/storemagic.py:229: UserWarning: using autorestore/precision requires you to install the `pickleshare` library.\n",
      "  db[ 'autorestore/' + arg ] = obj\n",
      "/home/asolta2s/myenv/lib/python3.9/site-packages/IPython/extensions/storemagic.py:229: UserWarning: using autorestore/recall requires you to install the `pickleshare` library.\n",
      "  db[ 'autorestore/' + arg ] = obj\n",
      "/home/asolta2s/myenv/lib/python3.9/site-packages/IPython/extensions/storemagic.py:229: UserWarning: using autorestore/f1 requires you to install the `pickleshare` library.\n",
      "  db[ 'autorestore/' + arg ] = obj\n",
      "/home/asolta2s/myenv/lib/python3.9/site-packages/IPython/extensions/storemagic.py:229: UserWarning: using autorestore/jaccard requires you to install the `pickleshare` library.\n",
      "  db[ 'autorestore/' + arg ] = obj\n"
     ]
    }
   ],
   "source": [
    "%store MAP\n",
    "%store precision\n",
    "%store recall\n",
    "%store f1\n",
    "%store jaccard\n"
   ]
  },
  {
   "cell_type": "code",
   "execution_count": 108,
   "id": "71d998a6-381a-4149-93d5-88a1a3252627",
   "metadata": {},
   "outputs": [
    {
     "data": {
      "image/png": "[encoded data removed]",
      "text/plain": [
       "<Figure size 1100x600 with 1 Axes>"
      ]
     },
     "metadata": {},
     "output_type": "display_data"
    }
   ],
   "source": [
    "# Prepare data for plotting\n",
    "labels = precision.keys()\n",
    "precision_values = precision.values()\n",
    "recall_values = recall.values()\n",
    "jaccard_score_values = jaccard.values()\n",
    "f1_values = f1.values()\n",
    "map_values = MAP.values()\n",
    "\n",
    "# Set the position of the bars on the x-axis\n",
    "x = range(len(labels))\n",
    "\n",
    "# Width of a bar\n",
    "bar_width = 0.2\n",
    "# Create the plot\n",
    "fig, ax = plt.subplots(figsize=(11, 6))\n",
    "\n",
    "# Plot bars\n",
    "ax.bar(x, jaccard_score_values, width=bar_width, label='Jaccard Score', align='center')\n",
    "# ax.bar(x, precision_values, width=bar_width, label='Precision', align='center')\n",
    "# ax.bar([p + bar_width for p in x], recall_values, width=bar_width, label='Recall', align='center')\n",
    "ax.bar([p + bar_width for p in x], f1_values, width=bar_width, label='F1 Score', align='center')\n",
    "ax.bar([p + bar_width*2 for p in x], map_values, width=bar_width, label='MAP Score', align='center')\n",
    "\n",
    "\n",
    "# Set the labels for the x-axis\n",
    "ax.set_xticks([p + bar_width for p in x])\n",
    "ax.set_xticklabels(labels)\n",
    "\n",
    "# Add labels, title, and legend\n",
    "ax.set_xlabel('Models')\n",
    "ax.set_ylabel('Scores')\n",
    "ax.set_title('Jaccard, MAP, and F1 Score')\n",
    "ax.legend()\n",
    "\n",
    "# Show the plot\n",
    "plt.show()"
   ]
  },
  {
   "cell_type": "code",
   "execution_count": null,
   "id": "dc6d823b-fdf5-4e30-a2b0-5c6ea699e7f1",
   "metadata": {},
   "outputs": [],
   "source": []
  }
 ],
 "metadata": {
  "kernelspec": {
   "display_name": "Python 3 (ipykernel)",
   "language": "python",
   "name": "python3"
  },
  "language_info": {
   "codemirror_mode": {
    "name": "ipython",
    "version": 3
   },
   "file_extension": ".py",
   "mimetype": "text/x-python",
   "name": "python",
   "nbconvert_exporter": "python",
   "pygments_lexer": "ipython3",
   "version": "3.9.18"
  }
 },
 "nbformat": 4,
 "nbformat_minor": 5
}
